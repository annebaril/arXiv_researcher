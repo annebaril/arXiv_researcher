{
 "cells": [
  {
   "cell_type": "code",
   "execution_count": 3,
   "metadata": {},
   "outputs": [],
   "source": [
    "! pip install --upgrade google-cloud-storage --quiet\n",
    "from google.cloud import storage"
   ]
  },
  {
   "cell_type": "code",
   "execution_count": 5,
   "metadata": {},
   "outputs": [
    {
     "name": "stdout",
     "output_type": "stream",
     "text": [
      "Downloaded chroma_db/5a42027a-353b-44cf-9370-6c19f5ea675f/data_level0.bin to ./local_chromadb/5a42027a-353b-44cf-9370-6c19f5ea675f/data_level0.bin\n",
      "Downloaded chroma_db/5a42027a-353b-44cf-9370-6c19f5ea675f/header.bin to ./local_chromadb/5a42027a-353b-44cf-9370-6c19f5ea675f/header.bin\n",
      "Downloaded chroma_db/5a42027a-353b-44cf-9370-6c19f5ea675f/length.bin to ./local_chromadb/5a42027a-353b-44cf-9370-6c19f5ea675f/length.bin\n",
      "Downloaded chroma_db/5a42027a-353b-44cf-9370-6c19f5ea675f/link_lists.bin to ./local_chromadb/5a42027a-353b-44cf-9370-6c19f5ea675f/link_lists.bin\n",
      "Downloaded chroma_db/chroma.sqlite3 to ./local_chromadb/chroma.sqlite3\n"
     ]
    }
   ],
   "source": [
    "import os\n",
    "from langchain.vectorstores.chroma import Chroma\n",
    "from langchain.prompts import PromptTemplate\n",
    "from langchain.chains.combine_documents import create_stuff_documents_chain\n",
    "from langchain.chains import create_retrieval_chain\n",
    "\n",
    "BUCKET_NAME = \"bucket_arxiv_researcher\"\n",
    "GCS_PERSIST_PATH = \"chroma_db/\"\n",
    "LOCAL_PERSIST_PATH = \"./local_chromadb/\"\n",
    "\n",
    "# Initialize GCS client\n",
    "storage_client = storage.Client()\n",
    "\n",
    "def download_directory_from_gcs(gcs_directory, local_directory, bucket_name):\n",
    "    \"\"\"Download all files from a GCS directory to a local directory.\"\"\"\n",
    "    bucket = storage_client.bucket(bucket_name)\n",
    "    blobs = bucket.list_blobs(prefix=gcs_directory)\n",
    "\n",
    "    for blob in blobs:\n",
    "        if not blob.name.endswith(\"/\"):  # Avoid directory blobs\n",
    "            relative_path = os.path.relpath(blob.name, gcs_directory)\n",
    "            local_file_path = os.path.join(local_directory, relative_path)\n",
    "            os.makedirs(os.path.dirname(local_file_path), exist_ok=True)\n",
    "            blob.download_to_filename(local_file_path)\n",
    "            print(f\"Downloaded {blob.name} to {local_file_path}\")\n",
    "\n",
    "# Download Chroma persisted data from GCS to local directory\n",
    "download_directory_from_gcs(GCS_PERSIST_PATH, LOCAL_PERSIST_PATH, BUCKET_NAME)"
   ]
  },
  {
   "cell_type": "code",
   "execution_count": 8,
   "metadata": {},
   "outputs": [],
   "source": [
    "!pip install langchain_huggingface --quiet\n",
    "from langchain_huggingface import HuggingFaceEmbeddings\n",
    "EMBEDDING_MODEL = 'sentence-transformers/all-mpnet-base-v2'\n",
    "embeddings = HuggingFaceEmbeddings(model_name=EMBEDDING_MODEL)\n",
    "\n",
    "# Load the stored vector database\n",
    "db = Chroma(persist_directory=LOCAL_PERSIST_PATH, embedding_function=embeddings)\n",
    "\n",
    "# Now use db for retrieval\n",
    "retriever = db.as_retriever(search_type=\"similarity\", search_kwargs={\"k\": 3})"
   ]
  },
  {
   "cell_type": "code",
   "execution_count": null,
   "metadata": {},
   "outputs": [],
   "source": []
  }
 ],
 "metadata": {
  "kernelspec": {
   "display_name": "arxiv_env",
   "language": "python",
   "name": "python3"
  },
  "language_info": {
   "codemirror_mode": {
    "name": "ipython",
    "version": 3
   },
   "file_extension": ".py",
   "mimetype": "text/x-python",
   "name": "python",
   "nbconvert_exporter": "python",
   "pygments_lexer": "ipython3",
   "version": "3.10.12"
  }
 },
 "nbformat": 4,
 "nbformat_minor": 2
}
