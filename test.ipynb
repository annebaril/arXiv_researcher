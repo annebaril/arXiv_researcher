{
 "cells": [
  {
   "cell_type": "code",
   "execution_count": 1,
   "metadata": {},
   "outputs": [
    {
     "name": "stderr",
     "output_type": "stream",
     "text": [
      "2025-04-03 12:05:13.460 WARNING streamlit.runtime.scriptrunner_utils.script_run_context: Thread 'MainThread': missing ScriptRunContext! This warning can be ignored when running in bare mode.\n",
      "2025-04-03 12:05:13.462 WARNING streamlit.runtime.scriptrunner_utils.script_run_context: Thread 'MainThread': missing ScriptRunContext! This warning can be ignored when running in bare mode.\n",
      "2025-04-03 12:05:13.852 \n",
      "  \u001b[33m\u001b[1mWarning:\u001b[0m to view this Streamlit app on a browser, run it with the following\n",
      "  command:\n",
      "\n",
      "    streamlit run /home/barilanne076/.pyenv/versions/arxiv_env/lib/python3.10/site-packages/ipykernel_launcher.py [ARGUMENTS]\n",
      "2025-04-03 12:05:13.854 Thread 'MainThread': missing ScriptRunContext! This warning can be ignored when running in bare mode.\n",
      "2025-04-03 12:05:13.857 Thread 'MainThread': missing ScriptRunContext! This warning can be ignored when running in bare mode.\n",
      "2025-04-03 12:05:13.858 Thread 'MainThread': missing ScriptRunContext! This warning can be ignored when running in bare mode.\n",
      "2025-04-03 12:05:13.859 Thread 'MainThread': missing ScriptRunContext! This warning can be ignored when running in bare mode.\n",
      "2025-04-03 12:05:15.071 Thread 'Thread-4': missing ScriptRunContext! This warning can be ignored when running in bare mode.\n",
      "2025-04-03 12:05:15.081 Thread 'Thread-4': missing ScriptRunContext! This warning can be ignored when running in bare mode.\n",
      "/home/barilanne076/.pyenv/versions/arxiv_env/lib/python3.10/site-packages/tqdm/auto.py:21: TqdmWarning: IProgress not found. Please update jupyter and ipywidgets. See https://ipywidgets.readthedocs.io/en/stable/user_install.html\n",
      "  from .autonotebook import tqdm as notebook_tqdm\n",
      "/home/barilanne076/.pyenv/versions/arxiv_env/lib/python3.10/site-packages/langsmith/client.py:278: LangSmithMissingAPIKeyWarning: API key must be provided when using hosted LangSmith API\n",
      "  warnings.warn(\n",
      "2025-04-03 12:05:29.601 Thread 'MainThread': missing ScriptRunContext! This warning can be ignored when running in bare mode.\n",
      "2025-04-03 12:05:29.603 Thread 'MainThread': missing ScriptRunContext! This warning can be ignored when running in bare mode.\n"
     ]
    }
   ],
   "source": [
    "import os\n",
    "import streamlit as st\n",
    "from dotenv import load_dotenv\n",
    "\n",
    "from langchain_huggingface import HuggingFaceEmbeddings, HuggingFaceEndpoint\n",
    "from langchain_chroma import Chroma\n",
    "import chromadb\n",
    "from langchain import hub\n",
    "\n",
    "from arxivsearcher.llm_agent import create_agent\n",
    "\n",
    "# Chargement des variables d'environnement\n",
    "load_dotenv()\n",
    "\n",
    "# Configuration initiale\n",
    "CHROMADB_HOST = os.getenv(\"CHROMADB_HOST\")\n",
    "EMBEDDING_MODEL = os.getenv(\"EMBEDDING_MODEL\")\n",
    "LLM_MODEL = os.getenv(\"LLM_MODEL\")\n",
    "HUGGINGFACEHUB_API_TOKEN = os.getenv(\"HUGGINGFACEHUB_API_TOKEN\")\n",
    "AGENT_PROMPT = os.getenv(\"AGENT_PROMPT\")\n",
    "\n",
    "# Initialisation de l'application Streamlit\n",
    "st.set_page_config(\n",
    "    page_title=\"arXiv Researcher\",\n",
    "    page_icon=\"📚\",\n",
    "    layout=\"wide\"\n",
    ")\n",
    "\n",
    "st.title(\"📚 arXiv Researcher\")\n",
    "\n",
    "# Initialisation des composants\n",
    "@st.cache_resource\n",
    "def initialize_components(): \n",
    "    # Initialisation des embeddings\n",
    "    embeddings = HuggingFaceEmbeddings(model_name=EMBEDDING_MODEL)\n",
    "    chroma_client = chromadb.HttpClient(host=CHROMADB_HOST, port=8000)\n",
    "    vectorstore = Chroma(embedding_function=embeddings, client=chroma_client)\n",
    "    \n",
    "    # Initialisation du LLM\n",
    "    llm = HuggingFaceEndpoint(\n",
    "        repo_id=LLM_MODEL,\n",
    "        temperature=0.5,\n",
    "        huggingfacehub_api_token=HUGGINGFACEHUB_API_TOKEN,\n",
    "        task=\"text-generation\"\n",
    "    )\n",
    "    \n",
    "    # Initialisation de l'agent\n",
    "    prompt = hub.pull(AGENT_PROMPT)\n",
    "    agent_executor = create_agent(vectorstore, llm, prompt)\n",
    "    \n",
    "    return vectorstore, agent_executor\n",
    "\n",
    "# Initialisation des composants\n",
    "vectorstore, agent_executor = initialize_components()\n",
    "retriever = vectorstore.as_retriever(search_type=\"similarity\", search_kwargs={\"k\": 3})"
   ]
  },
  {
   "cell_type": "code",
   "execution_count": 2,
   "metadata": {},
   "outputs": [],
   "source": [
    "results = retriever.invoke(\"maladies rares\")"
   ]
  },
  {
   "cell_type": "code",
   "execution_count": 3,
   "metadata": {},
   "outputs": [
    {
     "data": {
      "text/plain": [
       "[Document(id='0710.0871', metadata={'authors': 'Grenville J. Croll, Raymond J. Butler', 'id': '0710.0871', 'title': 'Spreadsheets in Clinical Medicine', 'year': '2007'}, page_content='spreadsheets in clinical medicine   there is overwhelming evidence that the continued and widespread use of\\nuntested spreadsheets in business gives rise to regular significant and\\nunexpected financial losses whilst this is worrying it is perhaps a\\nrelatively minor concern compared with the risks arising from the use of poorly\\nconstructed andor untested spreadsheets in medicine a practice that is\\nalready occurring this article is intended as a warning that the use of poorly\\nconstructed andor untested spreadsheets in clinical medicine cannot be\\ntolerated it supports this warning by reporting on potentially serious\\nweaknesses found while testing a limited number of publicly available clinical\\nspreadsheets\\n'),\n",
       " Document(id='0709.3056', metadata={'authors': 'John Friedlander and Florian Luca', 'id': '0709.3056', 'title': 'Residue Classes Having Tardy Totients', 'year': '2007'}, page_content='residue classes having tardy totients   we show in an effective way that there exists a sequence of congruence\\nclasses akpmod mk such that the minimal solution nnk of the\\ncongruence phinequiv akpmod mk exists and satisfies log nklog\\nmktoinfty  as ktoinfty here phin is the euler function this\\nanswers a question raised in citefs we also show that every congruence\\nclass containing an even integer contains infinitely many values of the\\ncarmichael function lambdan and the least such n satisfies nll\\nm13\\n'),\n",
       " Document(id='0710.0325', metadata={'authors': 'Takayuki Matsuki, Toshiyuki Morii, and Kazutaka Sudoh', 'id': '0710.0325', 'title': 'Structure of Mass Gap between Two Spin Multiplets', 'year': '2007'}, page_content='structure of mass gap between two spin multiplets   studying our semirelativistic potential model and the numerical results\\nwhich succeeds in predicting and reproducing recently discovered higher\\nresonances of d ds b and bs we find a simple expression for the\\nmass gap between two spin multiplets of heavylight mesons 01 and\\n01 the mass gap between chiral partners defined by delta\\nmm0m0 andor m1m1 is given by delta\\nmm0m0m1m1approx lambdarm qmq in the limit of heavy\\nquark symmetry and including 1mq corrections we have delta mapprox\\nlambdarm qmq128times 105426times 102cdot mqmq with\\nlambdarm qapprox 300 mev a light quark mass mq and a heavy quark\\nmass mq this equation holds both for d and ds heavy mesons our model\\ncalculations for the b and bs also follow this formula\\n')]"
      ]
     },
     "execution_count": 3,
     "metadata": {},
     "output_type": "execute_result"
    }
   ],
   "source": [
    "results"
   ]
  },
  {
   "cell_type": "code",
   "execution_count": 7,
   "metadata": {},
   "outputs": [
    {
     "data": {
      "text/plain": [
       "'Grenville J. Croll, Raymond J. Butler'"
      ]
     },
     "execution_count": 7,
     "metadata": {},
     "output_type": "execute_result"
    }
   ],
   "source": [
    "results[0].metadata['authors']"
   ]
  },
  {
   "cell_type": "code",
   "execution_count": null,
   "metadata": {},
   "outputs": [],
   "source": [
    "\n",
    "with tab2:\n",
    "    st.header(\"Chat with the agent\")\n",
    "    \n",
    "    # Initialisation de l'historique de chat\n",
    "    if \"messages\" not in st.session_state:\n",
    "        st.session_state.messages = []\n",
    "    \n",
    "    # Affichage de l'historique des messages\n",
    "    for message in st.session_state.messages:\n",
    "        with st.chat_message(message[\"role\"]):\n",
    "            st.markdown(message[\"content\"])\n",
    "    \n",
    "    # Zone de saisie pour le message de l'utilisateur\n",
    "    if prompt := st.chat_input(\"Ask your question...\"):\n",
    "        # Ajout du message de l'utilisateur à l'historique\n",
    "        st.session_state.messages.append({\"role\": \"user\", \"content\": prompt})\n",
    "        with st.chat_message(\"user\"):\n",
    "            st.markdown(prompt)\n",
    "        \n",
    "        # Génération de la réponse\n",
    "        with st.chat_message(\"assistant\"):\n",
    "            with st.spinner(\"The agent is thinking...\"):\n",
    "                response = agent_executor.invoke({\"input\": prompt})\n",
    "                st.markdown(response[\"output\"])\n",
    "                st.session_state.messages.append({\"role\": \"assistant\", \"content\": response[\"output\"]}) "
   ]
  },
  {
   "cell_type": "code",
   "execution_count": 2,
   "metadata": {},
   "outputs": [
    {
     "name": "stderr",
     "output_type": "stream",
     "text": [
      "2025-04-03 09:34:04.237 WARNING streamlit.runtime.scriptrunner_utils.script_run_context: Thread 'MainThread': missing ScriptRunContext! This warning can be ignored when running in bare mode.\n",
      "2025-04-03 09:34:04.239 WARNING streamlit.runtime.scriptrunner_utils.script_run_context: Thread 'MainThread': missing ScriptRunContext! This warning can be ignored when running in bare mode.\n",
      "2025-04-03 09:34:04.637 \n",
      "  \u001b[33m\u001b[1mWarning:\u001b[0m to view this Streamlit app on a browser, run it with the following\n",
      "  command:\n",
      "\n",
      "    streamlit run /home/barilanne076/.pyenv/versions/arxiv_env/lib/python3.10/site-packages/ipykernel_launcher.py [ARGUMENTS]\n",
      "2025-04-03 09:34:04.638 Thread 'MainThread': missing ScriptRunContext! This warning can be ignored when running in bare mode.\n",
      "2025-04-03 09:34:04.641 Thread 'MainThread': missing ScriptRunContext! This warning can be ignored when running in bare mode.\n",
      "2025-04-03 09:34:04.643 Thread 'MainThread': missing ScriptRunContext! This warning can be ignored when running in bare mode.\n",
      "2025-04-03 09:34:04.644 Thread 'MainThread': missing ScriptRunContext! This warning can be ignored when running in bare mode.\n",
      "2025-04-03 09:34:05.146 Thread 'Thread-10': missing ScriptRunContext! This warning can be ignored when running in bare mode.\n",
      "2025-04-03 09:34:05.148 Thread 'Thread-10': missing ScriptRunContext! This warning can be ignored when running in bare mode.\n"
     ]
    },
    {
     "name": "stdout",
     "output_type": "stream",
     "text": [
      "Downloaded chroma_db/4d8e52f2-6027-41ef-b06b-77f96cb894fa/data_level0.bin to ./local_chromadb/4d8e52f2-6027-41ef-b06b-77f96cb894fa/data_level0.bin\n",
      "Downloaded chroma_db/4d8e52f2-6027-41ef-b06b-77f96cb894fa/header.bin to ./local_chromadb/4d8e52f2-6027-41ef-b06b-77f96cb894fa/header.bin\n",
      "Downloaded chroma_db/4d8e52f2-6027-41ef-b06b-77f96cb894fa/index_metadata.pickle to ./local_chromadb/4d8e52f2-6027-41ef-b06b-77f96cb894fa/index_metadata.pickle\n",
      "Downloaded chroma_db/4d8e52f2-6027-41ef-b06b-77f96cb894fa/length.bin to ./local_chromadb/4d8e52f2-6027-41ef-b06b-77f96cb894fa/length.bin\n",
      "Downloaded chroma_db/4d8e52f2-6027-41ef-b06b-77f96cb894fa/link_lists.bin to ./local_chromadb/4d8e52f2-6027-41ef-b06b-77f96cb894fa/link_lists.bin\n",
      "Downloaded chroma_db/chroma.sqlite3 to ./local_chromadb/chroma.sqlite3\n"
     ]
    },
    {
     "name": "stderr",
     "output_type": "stream",
     "text": [
      "/home/barilanne076/.pyenv/versions/arxiv_env/lib/python3.10/site-packages/tqdm/auto.py:21: TqdmWarning: IProgress not found. Please update jupyter and ipywidgets. See https://ipywidgets.readthedocs.io/en/stable/user_install.html\n",
      "  from .autonotebook import tqdm as notebook_tqdm\n",
      "/home/barilanne076/.pyenv/versions/arxiv_env/lib/python3.10/site-packages/langsmith/client.py:278: LangSmithMissingAPIKeyWarning: API key must be provided when using hosted LangSmith API\n",
      "  warnings.warn(\n",
      "2025-04-03 09:34:24.258 Thread 'MainThread': missing ScriptRunContext! This warning can be ignored when running in bare mode.\n",
      "2025-04-03 09:34:24.260 Thread 'MainThread': missing ScriptRunContext! This warning can be ignored when running in bare mode.\n"
     ]
    }
   ],
   "source": [
    "import os\n",
    "import streamlit as st\n",
    "from dotenv import load_dotenv\n",
    "from langchain_huggingface import HuggingFaceEmbeddings, HuggingFaceEndpoint\n",
    "from langchain_chroma import Chroma\n",
    "from langchain import hub\n",
    "\n",
    "import arxivsearcher\n",
    "from arxivsearcher.load_chroma import download_directory_from_gcs\n",
    "from arxivsearcher.retrieval import search_articles\n",
    "from arxivsearcher.llm_agent import create_agent\n",
    "\n",
    "# Chargement des variables d'environnement\n",
    "load_dotenv()\n",
    "\n",
    "# Configuration initiale\n",
    "BUCKET_NAME = os.getenv(\"BUCKET_NAME\")\n",
    "GCS_PERSIST_PATH = os.getenv(\"GCS_PERSIST_PATH\")\n",
    "LOCAL_PERSIST_PATH = os.getenv(\"LOCAL_PERSIST_PATH\")\n",
    "EMBEDDING_MODEL = os.getenv(\"EMBEDDING_MODEL\")\n",
    "LLM_MODEL = os.getenv(\"LLM_MODEL\")\n",
    "HUGGINGFACEHUB_API_TOKEN = os.getenv(\"HUGGINGFACE_TOKEN\")\n",
    "AGENT_PROMPT = os.getenv(\"AGENT_PROMPT\")\n",
    "\n",
    "# Initialisation de l'application Streamlit\n",
    "st.set_page_config(\n",
    "    page_title=\"arXiv Researcher\",\n",
    "    page_icon=\"📚\",\n",
    "    layout=\"wide\"\n",
    ")\n",
    "\n",
    "st.title(\"📚 arXiv Researcher\")\n",
    "\n",
    "# Initialisation des composants\n",
    "@st.cache_resource\n",
    "def initialize_components():\n",
    "    # Téléchargement de la base de données Chroma\n",
    "    download_directory_from_gcs(GCS_PERSIST_PATH, LOCAL_PERSIST_PATH, BUCKET_NAME)\n",
    "    \n",
    "    # Initialisation des embeddings\n",
    "    embeddings = HuggingFaceEmbeddings(model_name=EMBEDDING_MODEL)\n",
    "    vectorstore = Chroma(persist_directory=LOCAL_PERSIST_PATH, embedding_function=embeddings)\n",
    "    \n",
    "    # Initialisation du LLM\n",
    "    llm = HuggingFaceEndpoint(\n",
    "        repo_id=LLM_MODEL,\n",
    "        temperature=0.5,\n",
    "        huggingfacehub_api_token=HUGGINGFACEHUB_API_TOKEN,\n",
    "        task=\"text-generation\"\n",
    "    )\n",
    "    \n",
    "    # Initialisation de l'agent\n",
    "    tools = [search_articles]\n",
    "    prompt = hub.pull(AGENT_PROMPT)\n",
    "    agent_executor = create_agent(llm, tools, prompt)\n",
    "    \n",
    "    return vectorstore, agent_executor\n",
    "\n",
    "# Initialisation des composants\n",
    "vectorstore, agent_executor = initialize_components()"
   ]
  },
  {
   "cell_type": "code",
   "execution_count": 3,
   "metadata": {},
   "outputs": [
    {
     "name": "stderr",
     "output_type": "stream",
     "text": [
      "2025-04-03 09:35:29.692 Thread 'MainThread': missing ScriptRunContext! This warning can be ignored when running in bare mode.\n",
      "2025-04-03 09:35:29.694 Thread 'MainThread': missing ScriptRunContext! This warning can be ignored when running in bare mode.\n",
      "2025-04-03 09:35:29.696 Thread 'MainThread': missing ScriptRunContext! This warning can be ignored when running in bare mode.\n",
      "2025-04-03 09:35:29.697 Thread 'MainThread': missing ScriptRunContext! This warning can be ignored when running in bare mode.\n",
      "2025-04-03 09:35:29.699 Session state does not function when running a script without `streamlit run`\n",
      "2025-04-03 09:35:29.700 Thread 'MainThread': missing ScriptRunContext! This warning can be ignored when running in bare mode.\n",
      "2025-04-03 09:35:29.702 Thread 'MainThread': missing ScriptRunContext! This warning can be ignored when running in bare mode.\n"
     ]
    }
   ],
   "source": [
    "import streamlit as st\n",
    "\n",
    "search_query = st.text_input(\"Entrez votre requête de recherche:\")"
   ]
  },
  {
   "cell_type": "code",
   "execution_count": 5,
   "metadata": {},
   "outputs": [
    {
     "data": {
      "text/plain": [
       "<langchain_chroma.vectorstores.Chroma at 0x768c21f1cf40>"
      ]
     },
     "execution_count": 5,
     "metadata": {},
     "output_type": "execute_result"
    }
   ],
   "source": [
    "vectorstore"
   ]
  },
  {
   "cell_type": "code",
   "execution_count": null,
   "metadata": {},
   "outputs": [],
   "source": [
    "def search_articles(vectorstore, title, nb_articles=3, year=None):\n",
    "    \"\"\"look for the most relevant articles about the theme, in a specific year if it's given. input: \"give me some articles on AI published after 2005\", output: \"article 1: title, authors, abstract, etc\".\"\"\"\n",
    "    retriever = vectorstore.as_retriever(search_type=\"similarity\", search_kwargs={\"k\": nb_articles})\n",
    "    retriever_docs = retriever.get_relevant_documents(title)\n",
    "    return retriever_docs"
   ]
  },
  {
   "cell_type": "code",
   "execution_count": 8,
   "metadata": {},
   "outputs": [
    {
     "ename": "AttributeError",
     "evalue": "'str' object has no attribute 'parent_run_id'",
     "output_type": "error",
     "traceback": [
      "\u001b[0;31m---------------------------------------------------------------------------\u001b[0m",
      "\u001b[0;31mAttributeError\u001b[0m                            Traceback (most recent call last)",
      "Cell \u001b[0;32mIn[8], line 4\u001b[0m\n\u001b[1;32m      1\u001b[0m \u001b[38;5;28;01mfrom\u001b[39;00m\u001b[38;5;250m \u001b[39m\u001b[38;5;21;01marxivsearcher\u001b[39;00m\u001b[38;5;21;01m.\u001b[39;00m\u001b[38;5;21;01mretrieval\u001b[39;00m\u001b[38;5;250m \u001b[39m\u001b[38;5;28;01mimport\u001b[39;00m search_articles\n\u001b[0;32m----> 4\u001b[0m \u001b[43msearch_articles\u001b[49m\u001b[43m(\u001b[49m\u001b[43mvectorstore\u001b[49m\u001b[43m,\u001b[49m\u001b[43m \u001b[49m\u001b[38;5;124;43m\"\u001b[39;49m\u001b[38;5;124;43mcoucou\u001b[39;49m\u001b[38;5;124;43m\"\u001b[39;49m\u001b[43m)\u001b[49m\n",
      "File \u001b[0;32m~/.pyenv/versions/arxiv_env/lib/python3.10/site-packages/langchain_core/_api/deprecation.py:181\u001b[0m, in \u001b[0;36mdeprecated.<locals>.deprecate.<locals>.warning_emitting_wrapper\u001b[0;34m(*args, **kwargs)\u001b[0m\n\u001b[1;32m    179\u001b[0m     warned \u001b[38;5;241m=\u001b[39m \u001b[38;5;28;01mTrue\u001b[39;00m\n\u001b[1;32m    180\u001b[0m     emit_warning()\n\u001b[0;32m--> 181\u001b[0m \u001b[38;5;28;01mreturn\u001b[39;00m \u001b[43mwrapped\u001b[49m\u001b[43m(\u001b[49m\u001b[38;5;241;43m*\u001b[39;49m\u001b[43margs\u001b[49m\u001b[43m,\u001b[49m\u001b[43m \u001b[49m\u001b[38;5;241;43m*\u001b[39;49m\u001b[38;5;241;43m*\u001b[39;49m\u001b[43mkwargs\u001b[49m\u001b[43m)\u001b[49m\n",
      "File \u001b[0;32m~/.pyenv/versions/arxiv_env/lib/python3.10/site-packages/langchain_core/tools/base.py:888\u001b[0m, in \u001b[0;36mBaseTool.__call__\u001b[0;34m(self, tool_input, callbacks)\u001b[0m\n\u001b[1;32m    885\u001b[0m \u001b[38;5;129m@deprecated\u001b[39m(\u001b[38;5;124m\"\u001b[39m\u001b[38;5;124m0.1.47\u001b[39m\u001b[38;5;124m\"\u001b[39m, alternative\u001b[38;5;241m=\u001b[39m\u001b[38;5;124m\"\u001b[39m\u001b[38;5;124minvoke\u001b[39m\u001b[38;5;124m\"\u001b[39m, removal\u001b[38;5;241m=\u001b[39m\u001b[38;5;124m\"\u001b[39m\u001b[38;5;124m1.0\u001b[39m\u001b[38;5;124m\"\u001b[39m)\n\u001b[1;32m    886\u001b[0m \u001b[38;5;28;01mdef\u001b[39;00m\u001b[38;5;250m \u001b[39m\u001b[38;5;21m__call__\u001b[39m(\u001b[38;5;28mself\u001b[39m, tool_input: \u001b[38;5;28mstr\u001b[39m, callbacks: Callbacks \u001b[38;5;241m=\u001b[39m \u001b[38;5;28;01mNone\u001b[39;00m) \u001b[38;5;241m-\u001b[39m\u001b[38;5;241m>\u001b[39m \u001b[38;5;28mstr\u001b[39m:\n\u001b[1;32m    887\u001b[0m \u001b[38;5;250m    \u001b[39m\u001b[38;5;124;03m\"\"\"Make tool callable.\"\"\"\u001b[39;00m\n\u001b[0;32m--> 888\u001b[0m     \u001b[38;5;28;01mreturn\u001b[39;00m \u001b[38;5;28;43mself\u001b[39;49m\u001b[38;5;241;43m.\u001b[39;49m\u001b[43mrun\u001b[49m\u001b[43m(\u001b[49m\u001b[43mtool_input\u001b[49m\u001b[43m,\u001b[49m\u001b[43m \u001b[49m\u001b[43mcallbacks\u001b[49m\u001b[38;5;241;43m=\u001b[39;49m\u001b[43mcallbacks\u001b[49m\u001b[43m)\u001b[49m\n",
      "File \u001b[0;32m~/.pyenv/versions/arxiv_env/lib/python3.10/site-packages/langchain_core/tools/base.py:694\u001b[0m, in \u001b[0;36mBaseTool.run\u001b[0;34m(self, tool_input, verbose, start_color, color, callbacks, tags, metadata, run_name, run_id, config, tool_call_id, **kwargs)\u001b[0m\n\u001b[1;32m    656\u001b[0m \u001b[38;5;28;01mdef\u001b[39;00m\u001b[38;5;250m \u001b[39m\u001b[38;5;21mrun\u001b[39m(\n\u001b[1;32m    657\u001b[0m     \u001b[38;5;28mself\u001b[39m,\n\u001b[1;32m    658\u001b[0m     tool_input: Union[\u001b[38;5;28mstr\u001b[39m, \u001b[38;5;28mdict\u001b[39m[\u001b[38;5;28mstr\u001b[39m, Any]],\n\u001b[0;32m   (...)\u001b[0m\n\u001b[1;32m    670\u001b[0m     \u001b[38;5;241m*\u001b[39m\u001b[38;5;241m*\u001b[39mkwargs: Any,\n\u001b[1;32m    671\u001b[0m ) \u001b[38;5;241m-\u001b[39m\u001b[38;5;241m>\u001b[39m Any:\n\u001b[1;32m    672\u001b[0m \u001b[38;5;250m    \u001b[39m\u001b[38;5;124;03m\"\"\"Run the tool.\u001b[39;00m\n\u001b[1;32m    673\u001b[0m \n\u001b[1;32m    674\u001b[0m \u001b[38;5;124;03m    Args:\u001b[39;00m\n\u001b[0;32m   (...)\u001b[0m\n\u001b[1;32m    692\u001b[0m \u001b[38;5;124;03m        ToolException: If an error occurs during tool execution.\u001b[39;00m\n\u001b[1;32m    693\u001b[0m \u001b[38;5;124;03m    \"\"\"\u001b[39;00m\n\u001b[0;32m--> 694\u001b[0m     callback_manager \u001b[38;5;241m=\u001b[39m \u001b[43mCallbackManager\u001b[49m\u001b[38;5;241;43m.\u001b[39;49m\u001b[43mconfigure\u001b[49m\u001b[43m(\u001b[49m\n\u001b[1;32m    695\u001b[0m \u001b[43m        \u001b[49m\u001b[43mcallbacks\u001b[49m\u001b[43m,\u001b[49m\n\u001b[1;32m    696\u001b[0m \u001b[43m        \u001b[49m\u001b[38;5;28;43mself\u001b[39;49m\u001b[38;5;241;43m.\u001b[39;49m\u001b[43mcallbacks\u001b[49m\u001b[43m,\u001b[49m\n\u001b[1;32m    697\u001b[0m \u001b[43m        \u001b[49m\u001b[38;5;28;43mself\u001b[39;49m\u001b[38;5;241;43m.\u001b[39;49m\u001b[43mverbose\u001b[49m\u001b[43m \u001b[49m\u001b[38;5;129;43;01mor\u001b[39;49;00m\u001b[43m \u001b[49m\u001b[38;5;28;43mbool\u001b[39;49m\u001b[43m(\u001b[49m\u001b[43mverbose\u001b[49m\u001b[43m)\u001b[49m\u001b[43m,\u001b[49m\n\u001b[1;32m    698\u001b[0m \u001b[43m        \u001b[49m\u001b[43mtags\u001b[49m\u001b[43m,\u001b[49m\n\u001b[1;32m    699\u001b[0m \u001b[43m        \u001b[49m\u001b[38;5;28;43mself\u001b[39;49m\u001b[38;5;241;43m.\u001b[39;49m\u001b[43mtags\u001b[49m\u001b[43m,\u001b[49m\n\u001b[1;32m    700\u001b[0m \u001b[43m        \u001b[49m\u001b[43mmetadata\u001b[49m\u001b[43m,\u001b[49m\n\u001b[1;32m    701\u001b[0m \u001b[43m        \u001b[49m\u001b[38;5;28;43mself\u001b[39;49m\u001b[38;5;241;43m.\u001b[39;49m\u001b[43mmetadata\u001b[49m\u001b[43m,\u001b[49m\n\u001b[1;32m    702\u001b[0m \u001b[43m    \u001b[49m\u001b[43m)\u001b[49m\n\u001b[1;32m    704\u001b[0m     run_manager \u001b[38;5;241m=\u001b[39m callback_manager\u001b[38;5;241m.\u001b[39mon_tool_start(\n\u001b[1;32m    705\u001b[0m         {\u001b[38;5;124m\"\u001b[39m\u001b[38;5;124mname\u001b[39m\u001b[38;5;124m\"\u001b[39m: \u001b[38;5;28mself\u001b[39m\u001b[38;5;241m.\u001b[39mname, \u001b[38;5;124m\"\u001b[39m\u001b[38;5;124mdescription\u001b[39m\u001b[38;5;124m\"\u001b[39m: \u001b[38;5;28mself\u001b[39m\u001b[38;5;241m.\u001b[39mdescription},\n\u001b[1;32m    706\u001b[0m         tool_input \u001b[38;5;28;01mif\u001b[39;00m \u001b[38;5;28misinstance\u001b[39m(tool_input, \u001b[38;5;28mstr\u001b[39m) \u001b[38;5;28;01melse\u001b[39;00m \u001b[38;5;28mstr\u001b[39m(tool_input),\n\u001b[0;32m   (...)\u001b[0m\n\u001b[1;32m    715\u001b[0m         \u001b[38;5;241m*\u001b[39m\u001b[38;5;241m*\u001b[39mkwargs,\n\u001b[1;32m    716\u001b[0m     )\n\u001b[1;32m    718\u001b[0m     content \u001b[38;5;241m=\u001b[39m \u001b[38;5;28;01mNone\u001b[39;00m\n",
      "File \u001b[0;32m~/.pyenv/versions/arxiv_env/lib/python3.10/site-packages/langchain_core/callbacks/manager.py:1564\u001b[0m, in \u001b[0;36mCallbackManager.configure\u001b[0;34m(cls, inheritable_callbacks, local_callbacks, verbose, inheritable_tags, local_tags, inheritable_metadata, local_metadata)\u001b[0m\n\u001b[1;32m   1533\u001b[0m \u001b[38;5;129m@classmethod\u001b[39m\n\u001b[1;32m   1534\u001b[0m \u001b[38;5;28;01mdef\u001b[39;00m\u001b[38;5;250m \u001b[39m\u001b[38;5;21mconfigure\u001b[39m(\n\u001b[1;32m   1535\u001b[0m     \u001b[38;5;28mcls\u001b[39m,\n\u001b[0;32m   (...)\u001b[0m\n\u001b[1;32m   1542\u001b[0m     local_metadata: Optional[\u001b[38;5;28mdict\u001b[39m[\u001b[38;5;28mstr\u001b[39m, Any]] \u001b[38;5;241m=\u001b[39m \u001b[38;5;28;01mNone\u001b[39;00m,\n\u001b[1;32m   1543\u001b[0m ) \u001b[38;5;241m-\u001b[39m\u001b[38;5;241m>\u001b[39m CallbackManager:\n\u001b[1;32m   1544\u001b[0m \u001b[38;5;250m    \u001b[39m\u001b[38;5;124;03m\"\"\"Configure the callback manager.\u001b[39;00m\n\u001b[1;32m   1545\u001b[0m \n\u001b[1;32m   1546\u001b[0m \u001b[38;5;124;03m    Args:\u001b[39;00m\n\u001b[0;32m   (...)\u001b[0m\n\u001b[1;32m   1562\u001b[0m \u001b[38;5;124;03m        CallbackManager: The configured callback manager.\u001b[39;00m\n\u001b[1;32m   1563\u001b[0m \u001b[38;5;124;03m    \"\"\"\u001b[39;00m\n\u001b[0;32m-> 1564\u001b[0m     \u001b[38;5;28;01mreturn\u001b[39;00m \u001b[43m_configure\u001b[49m\u001b[43m(\u001b[49m\n\u001b[1;32m   1565\u001b[0m \u001b[43m        \u001b[49m\u001b[38;5;28;43mcls\u001b[39;49m\u001b[43m,\u001b[49m\n\u001b[1;32m   1566\u001b[0m \u001b[43m        \u001b[49m\u001b[43minheritable_callbacks\u001b[49m\u001b[43m,\u001b[49m\n\u001b[1;32m   1567\u001b[0m \u001b[43m        \u001b[49m\u001b[43mlocal_callbacks\u001b[49m\u001b[43m,\u001b[49m\n\u001b[1;32m   1568\u001b[0m \u001b[43m        \u001b[49m\u001b[43mverbose\u001b[49m\u001b[43m,\u001b[49m\n\u001b[1;32m   1569\u001b[0m \u001b[43m        \u001b[49m\u001b[43minheritable_tags\u001b[49m\u001b[43m,\u001b[49m\n\u001b[1;32m   1570\u001b[0m \u001b[43m        \u001b[49m\u001b[43mlocal_tags\u001b[49m\u001b[43m,\u001b[49m\n\u001b[1;32m   1571\u001b[0m \u001b[43m        \u001b[49m\u001b[43minheritable_metadata\u001b[49m\u001b[43m,\u001b[49m\n\u001b[1;32m   1572\u001b[0m \u001b[43m        \u001b[49m\u001b[43mlocal_metadata\u001b[49m\u001b[43m,\u001b[49m\n\u001b[1;32m   1573\u001b[0m \u001b[43m    \u001b[49m\u001b[43m)\u001b[49m\n",
      "File \u001b[0;32m~/.pyenv/versions/arxiv_env/lib/python3.10/site-packages/langchain_core/callbacks/manager.py:2292\u001b[0m, in \u001b[0;36m_configure\u001b[0;34m(callback_manager_cls, inheritable_callbacks, local_callbacks, verbose, inheritable_tags, local_tags, inheritable_metadata, local_metadata)\u001b[0m\n\u001b[1;32m   2286\u001b[0m     callback_manager \u001b[38;5;241m=\u001b[39m callback_manager_cls(\n\u001b[1;32m   2287\u001b[0m         handlers\u001b[38;5;241m=\u001b[39minheritable_callbacks_\u001b[38;5;241m.\u001b[39mcopy(),\n\u001b[1;32m   2288\u001b[0m         inheritable_handlers\u001b[38;5;241m=\u001b[39minheritable_callbacks_\u001b[38;5;241m.\u001b[39mcopy(),\n\u001b[1;32m   2289\u001b[0m         parent_run_id\u001b[38;5;241m=\u001b[39mparent_run_id,\n\u001b[1;32m   2290\u001b[0m     )\n\u001b[1;32m   2291\u001b[0m \u001b[38;5;28;01melse\u001b[39;00m:\n\u001b[0;32m-> 2292\u001b[0m     parent_run_id_ \u001b[38;5;241m=\u001b[39m \u001b[43minheritable_callbacks\u001b[49m\u001b[38;5;241;43m.\u001b[39;49m\u001b[43mparent_run_id\u001b[49m\n\u001b[1;32m   2293\u001b[0m     \u001b[38;5;66;03m# Break ties between the external tracing context and inherited context\u001b[39;00m\n\u001b[1;32m   2294\u001b[0m     \u001b[38;5;28;01mif\u001b[39;00m parent_run_id \u001b[38;5;129;01mis\u001b[39;00m \u001b[38;5;129;01mnot\u001b[39;00m \u001b[38;5;28;01mNone\u001b[39;00m \u001b[38;5;129;01mand\u001b[39;00m (\n\u001b[1;32m   2295\u001b[0m         parent_run_id_ \u001b[38;5;129;01mis\u001b[39;00m \u001b[38;5;28;01mNone\u001b[39;00m\n\u001b[1;32m   2296\u001b[0m         \u001b[38;5;66;03m# If the LC parent has already been reflected\u001b[39;00m\n\u001b[0;32m   (...)\u001b[0m\n\u001b[1;32m   2299\u001b[0m         \u001b[38;5;129;01mor\u001b[39;00m (run_tree \u001b[38;5;129;01mand\u001b[39;00m \u001b[38;5;28mstr\u001b[39m(parent_run_id_) \u001b[38;5;129;01min\u001b[39;00m run_tree\u001b[38;5;241m.\u001b[39mdotted_order)\n\u001b[1;32m   2300\u001b[0m     ):\n",
      "\u001b[0;31mAttributeError\u001b[0m: 'str' object has no attribute 'parent_run_id'"
     ]
    }
   ],
   "source": [
    "from arxivsearcher.retrieval import search_articles\n",
    "\n",
    "\n",
    "search_articles(vectorstore, \"coucou\")"
   ]
  },
  {
   "cell_type": "code",
   "execution_count": 4,
   "metadata": {},
   "outputs": [
    {
     "name": "stdout",
     "output_type": "stream",
     "text": [
      "Obtaining file:///home/barilanne076/code/arXiv_researcher\n",
      "  Installing build dependencies ... \u001b[?25ldone\n",
      "\u001b[?25h  Checking if build backend supports build_editable ... \u001b[?25ldone\n",
      "\u001b[?25h  Getting requirements to build editable ... \u001b[?25ldone\n",
      "\u001b[?25h  Preparing editable metadata (pyproject.toml) ... \u001b[?25ldone\n",
      "\u001b[?25hRequirement already satisfied: arxiv in /home/barilanne076/.pyenv/versions/3.10.12/envs/arxiv_env/lib/python3.10/site-packages (from arxivsearcher==0.1.0) (2.1.3)\n",
      "Requirement already satisfied: chromadb in /home/barilanne076/.pyenv/versions/3.10.12/envs/arxiv_env/lib/python3.10/site-packages (from arxivsearcher==0.1.0) (0.6.3)\n",
      "Requirement already satisfied: google-cloud-storage in /home/barilanne076/.pyenv/versions/3.10.12/envs/arxiv_env/lib/python3.10/site-packages (from arxivsearcher==0.1.0) (3.1.0)\n",
      "Requirement already satisfied: langchain in /home/barilanne076/.pyenv/versions/3.10.12/envs/arxiv_env/lib/python3.10/site-packages (from arxivsearcher==0.1.0) (0.3.22)\n",
      "Requirement already satisfied: langchain-community in /home/barilanne076/.pyenv/versions/3.10.12/envs/arxiv_env/lib/python3.10/site-packages (from arxivsearcher==0.1.0) (0.3.20)\n",
      "Requirement already satisfied: langchain-huggingface in /home/barilanne076/.pyenv/versions/3.10.12/envs/arxiv_env/lib/python3.10/site-packages (from arxivsearcher==0.1.0) (0.1.2)\n",
      "Requirement already satisfied: langchain_chroma in /home/barilanne076/.pyenv/versions/3.10.12/envs/arxiv_env/lib/python3.10/site-packages (from arxivsearcher==0.1.0) (0.2.2)\n",
      "Requirement already satisfied: sentence-transformers in /home/barilanne076/.pyenv/versions/3.10.12/envs/arxiv_env/lib/python3.10/site-packages (from arxivsearcher==0.1.0) (4.0.1)\n",
      "Requirement already satisfied: streamlit in /home/barilanne076/.pyenv/versions/3.10.12/envs/arxiv_env/lib/python3.10/site-packages (from arxivsearcher==0.1.0) (1.44.1)\n",
      "Requirement already satisfied: tiktoken in /home/barilanne076/.pyenv/versions/3.10.12/envs/arxiv_env/lib/python3.10/site-packages (from arxivsearcher==0.1.0) (0.9.0)\n",
      "Requirement already satisfied: langchain-core<1.0.0,>=0.3.49 in /home/barilanne076/.pyenv/versions/3.10.12/envs/arxiv_env/lib/python3.10/site-packages (from langchain->arxivsearcher==0.1.0) (0.3.49)\n",
      "Requirement already satisfied: langchain-text-splitters<1.0.0,>=0.3.7 in /home/barilanne076/.pyenv/versions/3.10.12/envs/arxiv_env/lib/python3.10/site-packages (from langchain->arxivsearcher==0.1.0) (0.3.7)\n",
      "Requirement already satisfied: langsmith<0.4,>=0.1.17 in /home/barilanne076/.pyenv/versions/3.10.12/envs/arxiv_env/lib/python3.10/site-packages (from langchain->arxivsearcher==0.1.0) (0.3.21)\n",
      "Requirement already satisfied: pydantic<3.0.0,>=2.7.4 in /home/barilanne076/.pyenv/versions/3.10.12/envs/arxiv_env/lib/python3.10/site-packages (from langchain->arxivsearcher==0.1.0) (2.11.1)\n",
      "Requirement already satisfied: SQLAlchemy<3,>=1.4 in /home/barilanne076/.pyenv/versions/3.10.12/envs/arxiv_env/lib/python3.10/site-packages (from langchain->arxivsearcher==0.1.0) (2.0.40)\n",
      "Requirement already satisfied: requests<3,>=2 in /home/barilanne076/.pyenv/versions/3.10.12/envs/arxiv_env/lib/python3.10/site-packages (from langchain->arxivsearcher==0.1.0) (2.32.3)\n",
      "Requirement already satisfied: PyYAML>=5.3 in /home/barilanne076/.pyenv/versions/3.10.12/envs/arxiv_env/lib/python3.10/site-packages (from langchain->arxivsearcher==0.1.0) (6.0.2)\n",
      "Requirement already satisfied: async-timeout<5.0.0,>=4.0.0 in /home/barilanne076/.pyenv/versions/3.10.12/envs/arxiv_env/lib/python3.10/site-packages (from langchain->arxivsearcher==0.1.0) (4.0.3)\n",
      "Requirement already satisfied: feedparser~=6.0.10 in /home/barilanne076/.pyenv/versions/3.10.12/envs/arxiv_env/lib/python3.10/site-packages (from arxiv->arxivsearcher==0.1.0) (6.0.11)\n",
      "Requirement already satisfied: build>=1.0.3 in /home/barilanne076/.pyenv/versions/3.10.12/envs/arxiv_env/lib/python3.10/site-packages (from chromadb->arxivsearcher==0.1.0) (1.2.2.post1)\n",
      "Requirement already satisfied: chroma-hnswlib==0.7.6 in /home/barilanne076/.pyenv/versions/3.10.12/envs/arxiv_env/lib/python3.10/site-packages (from chromadb->arxivsearcher==0.1.0) (0.7.6)\n",
      "Requirement already satisfied: fastapi>=0.95.2 in /home/barilanne076/.pyenv/versions/3.10.12/envs/arxiv_env/lib/python3.10/site-packages (from chromadb->arxivsearcher==0.1.0) (0.115.12)\n",
      "Requirement already satisfied: uvicorn>=0.18.3 in /home/barilanne076/.pyenv/versions/3.10.12/envs/arxiv_env/lib/python3.10/site-packages (from uvicorn[standard]>=0.18.3->chromadb->arxivsearcher==0.1.0) (0.34.0)\n",
      "Requirement already satisfied: numpy>=1.22.5 in /home/barilanne076/.pyenv/versions/3.10.12/envs/arxiv_env/lib/python3.10/site-packages (from chromadb->arxivsearcher==0.1.0) (1.26.4)\n",
      "Requirement already satisfied: posthog>=2.4.0 in /home/barilanne076/.pyenv/versions/3.10.12/envs/arxiv_env/lib/python3.10/site-packages (from chromadb->arxivsearcher==0.1.0) (3.23.0)\n",
      "Requirement already satisfied: typing_extensions>=4.5.0 in /home/barilanne076/.pyenv/versions/3.10.12/envs/arxiv_env/lib/python3.10/site-packages (from chromadb->arxivsearcher==0.1.0) (4.13.0)\n",
      "Requirement already satisfied: onnxruntime>=1.14.1 in /home/barilanne076/.pyenv/versions/3.10.12/envs/arxiv_env/lib/python3.10/site-packages (from chromadb->arxivsearcher==0.1.0) (1.21.0)\n",
      "Requirement already satisfied: opentelemetry-api>=1.2.0 in /home/barilanne076/.pyenv/versions/3.10.12/envs/arxiv_env/lib/python3.10/site-packages (from chromadb->arxivsearcher==0.1.0) (1.31.1)\n",
      "Requirement already satisfied: opentelemetry-exporter-otlp-proto-grpc>=1.2.0 in /home/barilanne076/.pyenv/versions/3.10.12/envs/arxiv_env/lib/python3.10/site-packages (from chromadb->arxivsearcher==0.1.0) (1.31.1)\n",
      "Requirement already satisfied: opentelemetry-instrumentation-fastapi>=0.41b0 in /home/barilanne076/.pyenv/versions/3.10.12/envs/arxiv_env/lib/python3.10/site-packages (from chromadb->arxivsearcher==0.1.0) (0.52b1)\n",
      "Requirement already satisfied: opentelemetry-sdk>=1.2.0 in /home/barilanne076/.pyenv/versions/3.10.12/envs/arxiv_env/lib/python3.10/site-packages (from chromadb->arxivsearcher==0.1.0) (1.31.1)\n",
      "Requirement already satisfied: tokenizers>=0.13.2 in /home/barilanne076/.pyenv/versions/3.10.12/envs/arxiv_env/lib/python3.10/site-packages (from chromadb->arxivsearcher==0.1.0) (0.21.1)\n",
      "Requirement already satisfied: pypika>=0.48.9 in /home/barilanne076/.pyenv/versions/3.10.12/envs/arxiv_env/lib/python3.10/site-packages (from chromadb->arxivsearcher==0.1.0) (0.48.9)\n",
      "Requirement already satisfied: tqdm>=4.65.0 in /home/barilanne076/.pyenv/versions/3.10.12/envs/arxiv_env/lib/python3.10/site-packages (from chromadb->arxivsearcher==0.1.0) (4.67.1)\n",
      "Requirement already satisfied: overrides>=7.3.1 in /home/barilanne076/.pyenv/versions/3.10.12/envs/arxiv_env/lib/python3.10/site-packages (from chromadb->arxivsearcher==0.1.0) (7.7.0)\n",
      "Requirement already satisfied: importlib-resources in /home/barilanne076/.pyenv/versions/3.10.12/envs/arxiv_env/lib/python3.10/site-packages (from chromadb->arxivsearcher==0.1.0) (6.5.2)\n",
      "Requirement already satisfied: grpcio>=1.58.0 in /home/barilanne076/.pyenv/versions/3.10.12/envs/arxiv_env/lib/python3.10/site-packages (from chromadb->arxivsearcher==0.1.0) (1.71.0)\n",
      "Requirement already satisfied: bcrypt>=4.0.1 in /home/barilanne076/.pyenv/versions/3.10.12/envs/arxiv_env/lib/python3.10/site-packages (from chromadb->arxivsearcher==0.1.0) (4.3.0)\n",
      "Requirement already satisfied: typer>=0.9.0 in /home/barilanne076/.pyenv/versions/3.10.12/envs/arxiv_env/lib/python3.10/site-packages (from chromadb->arxivsearcher==0.1.0) (0.15.2)\n",
      "Requirement already satisfied: kubernetes>=28.1.0 in /home/barilanne076/.pyenv/versions/3.10.12/envs/arxiv_env/lib/python3.10/site-packages (from chromadb->arxivsearcher==0.1.0) (32.0.1)\n",
      "Requirement already satisfied: tenacity>=8.2.3 in /home/barilanne076/.pyenv/versions/3.10.12/envs/arxiv_env/lib/python3.10/site-packages (from chromadb->arxivsearcher==0.1.0) (9.0.0)\n",
      "Requirement already satisfied: mmh3>=4.0.1 in /home/barilanne076/.pyenv/versions/3.10.12/envs/arxiv_env/lib/python3.10/site-packages (from chromadb->arxivsearcher==0.1.0) (5.1.0)\n",
      "Requirement already satisfied: orjson>=3.9.12 in /home/barilanne076/.pyenv/versions/3.10.12/envs/arxiv_env/lib/python3.10/site-packages (from chromadb->arxivsearcher==0.1.0) (3.10.16)\n",
      "Requirement already satisfied: httpx>=0.27.0 in /home/barilanne076/.pyenv/versions/3.10.12/envs/arxiv_env/lib/python3.10/site-packages (from chromadb->arxivsearcher==0.1.0) (0.28.1)\n",
      "Requirement already satisfied: rich>=10.11.0 in /home/barilanne076/.pyenv/versions/3.10.12/envs/arxiv_env/lib/python3.10/site-packages (from chromadb->arxivsearcher==0.1.0) (14.0.0)\n",
      "Requirement already satisfied: google-auth<3.0dev,>=2.26.1 in /home/barilanne076/.pyenv/versions/3.10.12/envs/arxiv_env/lib/python3.10/site-packages (from google-cloud-storage->arxivsearcher==0.1.0) (2.38.0)\n",
      "Requirement already satisfied: google-api-core<3.0.0dev,>=2.15.0 in /home/barilanne076/.pyenv/versions/3.10.12/envs/arxiv_env/lib/python3.10/site-packages (from google-cloud-storage->arxivsearcher==0.1.0) (2.24.2)\n",
      "Requirement already satisfied: google-cloud-core<3.0dev,>=2.4.2 in /home/barilanne076/.pyenv/versions/3.10.12/envs/arxiv_env/lib/python3.10/site-packages (from google-cloud-storage->arxivsearcher==0.1.0) (2.4.3)\n",
      "Requirement already satisfied: google-resumable-media>=2.7.2 in /home/barilanne076/.pyenv/versions/3.10.12/envs/arxiv_env/lib/python3.10/site-packages (from google-cloud-storage->arxivsearcher==0.1.0) (2.7.2)\n",
      "Requirement already satisfied: google-crc32c<2.0dev,>=1.0 in /home/barilanne076/.pyenv/versions/3.10.12/envs/arxiv_env/lib/python3.10/site-packages (from google-cloud-storage->arxivsearcher==0.1.0) (1.7.1)\n",
      "Requirement already satisfied: aiohttp<4.0.0,>=3.8.3 in /home/barilanne076/.pyenv/versions/3.10.12/envs/arxiv_env/lib/python3.10/site-packages (from langchain-community->arxivsearcher==0.1.0) (3.11.15)\n",
      "Requirement already satisfied: dataclasses-json<0.7,>=0.5.7 in /home/barilanne076/.pyenv/versions/3.10.12/envs/arxiv_env/lib/python3.10/site-packages (from langchain-community->arxivsearcher==0.1.0) (0.6.7)\n",
      "Requirement already satisfied: pydantic-settings<3.0.0,>=2.4.0 in /home/barilanne076/.pyenv/versions/3.10.12/envs/arxiv_env/lib/python3.10/site-packages (from langchain-community->arxivsearcher==0.1.0) (2.8.1)\n",
      "Requirement already satisfied: httpx-sse<1.0.0,>=0.4.0 in /home/barilanne076/.pyenv/versions/3.10.12/envs/arxiv_env/lib/python3.10/site-packages (from langchain-community->arxivsearcher==0.1.0) (0.4.0)\n",
      "Requirement already satisfied: huggingface-hub>=0.23.0 in /home/barilanne076/.pyenv/versions/3.10.12/envs/arxiv_env/lib/python3.10/site-packages (from langchain-huggingface->arxivsearcher==0.1.0) (0.30.1)\n",
      "Requirement already satisfied: transformers>=4.39.0 in /home/barilanne076/.pyenv/versions/3.10.12/envs/arxiv_env/lib/python3.10/site-packages (from langchain-huggingface->arxivsearcher==0.1.0) (4.50.3)\n",
      "Requirement already satisfied: torch>=1.11.0 in /home/barilanne076/.pyenv/versions/3.10.12/envs/arxiv_env/lib/python3.10/site-packages (from sentence-transformers->arxivsearcher==0.1.0) (2.6.0)\n",
      "Requirement already satisfied: scikit-learn in /home/barilanne076/.pyenv/versions/3.10.12/envs/arxiv_env/lib/python3.10/site-packages (from sentence-transformers->arxivsearcher==0.1.0) (1.6.1)\n",
      "Requirement already satisfied: scipy in /home/barilanne076/.pyenv/versions/3.10.12/envs/arxiv_env/lib/python3.10/site-packages (from sentence-transformers->arxivsearcher==0.1.0) (1.15.2)\n",
      "Requirement already satisfied: Pillow in /home/barilanne076/.pyenv/versions/3.10.12/envs/arxiv_env/lib/python3.10/site-packages (from sentence-transformers->arxivsearcher==0.1.0) (11.1.0)\n",
      "Requirement already satisfied: altair<6,>=4.0 in /home/barilanne076/.pyenv/versions/3.10.12/envs/arxiv_env/lib/python3.10/site-packages (from streamlit->arxivsearcher==0.1.0) (5.5.0)\n",
      "Requirement already satisfied: blinker<2,>=1.0.0 in /home/barilanne076/.pyenv/versions/3.10.12/envs/arxiv_env/lib/python3.10/site-packages (from streamlit->arxivsearcher==0.1.0) (1.9.0)\n",
      "Requirement already satisfied: cachetools<6,>=4.0 in /home/barilanne076/.pyenv/versions/3.10.12/envs/arxiv_env/lib/python3.10/site-packages (from streamlit->arxivsearcher==0.1.0) (5.5.2)\n",
      "Requirement already satisfied: click<9,>=7.0 in /home/barilanne076/.pyenv/versions/3.10.12/envs/arxiv_env/lib/python3.10/site-packages (from streamlit->arxivsearcher==0.1.0) (8.1.8)\n",
      "Requirement already satisfied: packaging<25,>=20 in /home/barilanne076/.pyenv/versions/3.10.12/envs/arxiv_env/lib/python3.10/site-packages (from streamlit->arxivsearcher==0.1.0) (24.2)\n",
      "Requirement already satisfied: pandas<3,>=1.4.0 in /home/barilanne076/.pyenv/versions/3.10.12/envs/arxiv_env/lib/python3.10/site-packages (from streamlit->arxivsearcher==0.1.0) (2.2.3)\n",
      "Requirement already satisfied: protobuf<6,>=3.20 in /home/barilanne076/.pyenv/versions/3.10.12/envs/arxiv_env/lib/python3.10/site-packages (from streamlit->arxivsearcher==0.1.0) (5.29.4)\n",
      "Requirement already satisfied: pyarrow>=7.0 in /home/barilanne076/.pyenv/versions/3.10.12/envs/arxiv_env/lib/python3.10/site-packages (from streamlit->arxivsearcher==0.1.0) (19.0.1)\n",
      "Requirement already satisfied: toml<2,>=0.10.1 in /home/barilanne076/.pyenv/versions/3.10.12/envs/arxiv_env/lib/python3.10/site-packages (from streamlit->arxivsearcher==0.1.0) (0.10.2)\n",
      "Requirement already satisfied: watchdog<7,>=2.1.5 in /home/barilanne076/.pyenv/versions/3.10.12/envs/arxiv_env/lib/python3.10/site-packages (from streamlit->arxivsearcher==0.1.0) (6.0.0)\n",
      "Requirement already satisfied: gitpython!=3.1.19,<4,>=3.0.7 in /home/barilanne076/.pyenv/versions/3.10.12/envs/arxiv_env/lib/python3.10/site-packages (from streamlit->arxivsearcher==0.1.0) (3.1.44)\n",
      "Requirement already satisfied: pydeck<1,>=0.8.0b4 in /home/barilanne076/.pyenv/versions/3.10.12/envs/arxiv_env/lib/python3.10/site-packages (from streamlit->arxivsearcher==0.1.0) (0.9.1)\n",
      "Requirement already satisfied: tornado<7,>=6.0.3 in /home/barilanne076/.pyenv/versions/3.10.12/envs/arxiv_env/lib/python3.10/site-packages (from streamlit->arxivsearcher==0.1.0) (6.4.2)\n",
      "Requirement already satisfied: regex>=2022.1.18 in /home/barilanne076/.pyenv/versions/3.10.12/envs/arxiv_env/lib/python3.10/site-packages (from tiktoken->arxivsearcher==0.1.0) (2024.11.6)\n",
      "Requirement already satisfied: aiohappyeyeballs>=2.3.0 in /home/barilanne076/.pyenv/versions/3.10.12/envs/arxiv_env/lib/python3.10/site-packages (from aiohttp<4.0.0,>=3.8.3->langchain-community->arxivsearcher==0.1.0) (2.6.1)\n",
      "Requirement already satisfied: aiosignal>=1.1.2 in /home/barilanne076/.pyenv/versions/3.10.12/envs/arxiv_env/lib/python3.10/site-packages (from aiohttp<4.0.0,>=3.8.3->langchain-community->arxivsearcher==0.1.0) (1.3.2)\n",
      "Requirement already satisfied: attrs>=17.3.0 in /home/barilanne076/.pyenv/versions/3.10.12/envs/arxiv_env/lib/python3.10/site-packages (from aiohttp<4.0.0,>=3.8.3->langchain-community->arxivsearcher==0.1.0) (25.3.0)\n",
      "Requirement already satisfied: frozenlist>=1.1.1 in /home/barilanne076/.pyenv/versions/3.10.12/envs/arxiv_env/lib/python3.10/site-packages (from aiohttp<4.0.0,>=3.8.3->langchain-community->arxivsearcher==0.1.0) (1.5.0)\n",
      "Requirement already satisfied: multidict<7.0,>=4.5 in /home/barilanne076/.pyenv/versions/3.10.12/envs/arxiv_env/lib/python3.10/site-packages (from aiohttp<4.0.0,>=3.8.3->langchain-community->arxivsearcher==0.1.0) (6.3.0)\n",
      "Requirement already satisfied: propcache>=0.2.0 in /home/barilanne076/.pyenv/versions/3.10.12/envs/arxiv_env/lib/python3.10/site-packages (from aiohttp<4.0.0,>=3.8.3->langchain-community->arxivsearcher==0.1.0) (0.3.1)\n",
      "Requirement already satisfied: yarl<2.0,>=1.17.0 in /home/barilanne076/.pyenv/versions/3.10.12/envs/arxiv_env/lib/python3.10/site-packages (from aiohttp<4.0.0,>=3.8.3->langchain-community->arxivsearcher==0.1.0) (1.18.3)\n",
      "Requirement already satisfied: jinja2 in /home/barilanne076/.pyenv/versions/3.10.12/envs/arxiv_env/lib/python3.10/site-packages (from altair<6,>=4.0->streamlit->arxivsearcher==0.1.0) (3.1.6)\n",
      "Requirement already satisfied: jsonschema>=3.0 in /home/barilanne076/.pyenv/versions/3.10.12/envs/arxiv_env/lib/python3.10/site-packages (from altair<6,>=4.0->streamlit->arxivsearcher==0.1.0) (4.23.0)\n",
      "Requirement already satisfied: narwhals>=1.14.2 in /home/barilanne076/.pyenv/versions/3.10.12/envs/arxiv_env/lib/python3.10/site-packages (from altair<6,>=4.0->streamlit->arxivsearcher==0.1.0) (1.33.0)\n",
      "Requirement already satisfied: pyproject_hooks in /home/barilanne076/.pyenv/versions/3.10.12/envs/arxiv_env/lib/python3.10/site-packages (from build>=1.0.3->chromadb->arxivsearcher==0.1.0) (1.2.0)\n",
      "Requirement already satisfied: tomli>=1.1.0 in /home/barilanne076/.pyenv/versions/3.10.12/envs/arxiv_env/lib/python3.10/site-packages (from build>=1.0.3->chromadb->arxivsearcher==0.1.0) (2.2.1)\n",
      "Requirement already satisfied: marshmallow<4.0.0,>=3.18.0 in /home/barilanne076/.pyenv/versions/3.10.12/envs/arxiv_env/lib/python3.10/site-packages (from dataclasses-json<0.7,>=0.5.7->langchain-community->arxivsearcher==0.1.0) (3.26.1)\n",
      "Requirement already satisfied: typing-inspect<1,>=0.4.0 in /home/barilanne076/.pyenv/versions/3.10.12/envs/arxiv_env/lib/python3.10/site-packages (from dataclasses-json<0.7,>=0.5.7->langchain-community->arxivsearcher==0.1.0) (0.9.0)\n",
      "Requirement already satisfied: starlette<0.47.0,>=0.40.0 in /home/barilanne076/.pyenv/versions/3.10.12/envs/arxiv_env/lib/python3.10/site-packages (from fastapi>=0.95.2->chromadb->arxivsearcher==0.1.0) (0.46.1)\n",
      "Requirement already satisfied: sgmllib3k in /home/barilanne076/.pyenv/versions/3.10.12/envs/arxiv_env/lib/python3.10/site-packages (from feedparser~=6.0.10->arxiv->arxivsearcher==0.1.0) (1.0.0)\n",
      "Requirement already satisfied: gitdb<5,>=4.0.1 in /home/barilanne076/.pyenv/versions/3.10.12/envs/arxiv_env/lib/python3.10/site-packages (from gitpython!=3.1.19,<4,>=3.0.7->streamlit->arxivsearcher==0.1.0) (4.0.12)\n",
      "Requirement already satisfied: googleapis-common-protos<2.0.0,>=1.56.2 in /home/barilanne076/.pyenv/versions/3.10.12/envs/arxiv_env/lib/python3.10/site-packages (from google-api-core<3.0.0dev,>=2.15.0->google-cloud-storage->arxivsearcher==0.1.0) (1.69.2)\n",
      "Requirement already satisfied: proto-plus<2.0.0,>=1.22.3 in /home/barilanne076/.pyenv/versions/3.10.12/envs/arxiv_env/lib/python3.10/site-packages (from google-api-core<3.0.0dev,>=2.15.0->google-cloud-storage->arxivsearcher==0.1.0) (1.26.1)\n",
      "Requirement already satisfied: pyasn1-modules>=0.2.1 in /home/barilanne076/.pyenv/versions/3.10.12/envs/arxiv_env/lib/python3.10/site-packages (from google-auth<3.0dev,>=2.26.1->google-cloud-storage->arxivsearcher==0.1.0) (0.4.2)\n",
      "Requirement already satisfied: rsa<5,>=3.1.4 in /home/barilanne076/.pyenv/versions/3.10.12/envs/arxiv_env/lib/python3.10/site-packages (from google-auth<3.0dev,>=2.26.1->google-cloud-storage->arxivsearcher==0.1.0) (4.9)\n",
      "Requirement already satisfied: anyio in /home/barilanne076/.pyenv/versions/3.10.12/envs/arxiv_env/lib/python3.10/site-packages (from httpx>=0.27.0->chromadb->arxivsearcher==0.1.0) (4.9.0)\n",
      "Requirement already satisfied: certifi in /home/barilanne076/.pyenv/versions/3.10.12/envs/arxiv_env/lib/python3.10/site-packages (from httpx>=0.27.0->chromadb->arxivsearcher==0.1.0) (2025.1.31)\n",
      "Requirement already satisfied: httpcore==1.* in /home/barilanne076/.pyenv/versions/3.10.12/envs/arxiv_env/lib/python3.10/site-packages (from httpx>=0.27.0->chromadb->arxivsearcher==0.1.0) (1.0.7)\n",
      "Requirement already satisfied: idna in /home/barilanne076/.pyenv/versions/3.10.12/envs/arxiv_env/lib/python3.10/site-packages (from httpx>=0.27.0->chromadb->arxivsearcher==0.1.0) (3.10)\n",
      "Requirement already satisfied: h11<0.15,>=0.13 in /home/barilanne076/.pyenv/versions/3.10.12/envs/arxiv_env/lib/python3.10/site-packages (from httpcore==1.*->httpx>=0.27.0->chromadb->arxivsearcher==0.1.0) (0.14.0)\n",
      "Requirement already satisfied: filelock in /home/barilanne076/.pyenv/versions/3.10.12/envs/arxiv_env/lib/python3.10/site-packages (from huggingface-hub>=0.23.0->langchain-huggingface->arxivsearcher==0.1.0) (3.18.0)\n",
      "Requirement already satisfied: fsspec>=2023.5.0 in /home/barilanne076/.pyenv/versions/3.10.12/envs/arxiv_env/lib/python3.10/site-packages (from huggingface-hub>=0.23.0->langchain-huggingface->arxivsearcher==0.1.0) (2025.3.2)\n",
      "Requirement already satisfied: six>=1.9.0 in /home/barilanne076/.pyenv/versions/3.10.12/envs/arxiv_env/lib/python3.10/site-packages (from kubernetes>=28.1.0->chromadb->arxivsearcher==0.1.0) (1.17.0)\n",
      "Requirement already satisfied: python-dateutil>=2.5.3 in /home/barilanne076/.pyenv/versions/3.10.12/envs/arxiv_env/lib/python3.10/site-packages (from kubernetes>=28.1.0->chromadb->arxivsearcher==0.1.0) (2.9.0.post0)\n",
      "Requirement already satisfied: websocket-client!=0.40.0,!=0.41.*,!=0.42.*,>=0.32.0 in /home/barilanne076/.pyenv/versions/3.10.12/envs/arxiv_env/lib/python3.10/site-packages (from kubernetes>=28.1.0->chromadb->arxivsearcher==0.1.0) (1.8.0)\n",
      "Requirement already satisfied: requests-oauthlib in /home/barilanne076/.pyenv/versions/3.10.12/envs/arxiv_env/lib/python3.10/site-packages (from kubernetes>=28.1.0->chromadb->arxivsearcher==0.1.0) (2.0.0)\n",
      "Requirement already satisfied: oauthlib>=3.2.2 in /home/barilanne076/.pyenv/versions/3.10.12/envs/arxiv_env/lib/python3.10/site-packages (from kubernetes>=28.1.0->chromadb->arxivsearcher==0.1.0) (3.2.2)\n",
      "Requirement already satisfied: urllib3>=1.24.2 in /home/barilanne076/.pyenv/versions/3.10.12/envs/arxiv_env/lib/python3.10/site-packages (from kubernetes>=28.1.0->chromadb->arxivsearcher==0.1.0) (2.3.0)\n",
      "Requirement already satisfied: durationpy>=0.7 in /home/barilanne076/.pyenv/versions/3.10.12/envs/arxiv_env/lib/python3.10/site-packages (from kubernetes>=28.1.0->chromadb->arxivsearcher==0.1.0) (0.9)\n",
      "Requirement already satisfied: jsonpatch<2.0,>=1.33 in /home/barilanne076/.pyenv/versions/3.10.12/envs/arxiv_env/lib/python3.10/site-packages (from langchain-core<1.0.0,>=0.3.49->langchain->arxivsearcher==0.1.0) (1.33)\n",
      "Requirement already satisfied: requests-toolbelt<2.0.0,>=1.0.0 in /home/barilanne076/.pyenv/versions/3.10.12/envs/arxiv_env/lib/python3.10/site-packages (from langsmith<0.4,>=0.1.17->langchain->arxivsearcher==0.1.0) (1.0.0)\n",
      "Requirement already satisfied: zstandard<0.24.0,>=0.23.0 in /home/barilanne076/.pyenv/versions/3.10.12/envs/arxiv_env/lib/python3.10/site-packages (from langsmith<0.4,>=0.1.17->langchain->arxivsearcher==0.1.0) (0.23.0)\n",
      "Requirement already satisfied: coloredlogs in /home/barilanne076/.pyenv/versions/3.10.12/envs/arxiv_env/lib/python3.10/site-packages (from onnxruntime>=1.14.1->chromadb->arxivsearcher==0.1.0) (15.0.1)\n",
      "Requirement already satisfied: flatbuffers in /home/barilanne076/.pyenv/versions/3.10.12/envs/arxiv_env/lib/python3.10/site-packages (from onnxruntime>=1.14.1->chromadb->arxivsearcher==0.1.0) (25.2.10)\n",
      "Requirement already satisfied: sympy in /home/barilanne076/.pyenv/versions/3.10.12/envs/arxiv_env/lib/python3.10/site-packages (from onnxruntime>=1.14.1->chromadb->arxivsearcher==0.1.0) (1.13.1)\n",
      "Requirement already satisfied: deprecated>=1.2.6 in /home/barilanne076/.pyenv/versions/3.10.12/envs/arxiv_env/lib/python3.10/site-packages (from opentelemetry-api>=1.2.0->chromadb->arxivsearcher==0.1.0) (1.2.18)\n",
      "Requirement already satisfied: importlib-metadata<8.7.0,>=6.0 in /home/barilanne076/.pyenv/versions/3.10.12/envs/arxiv_env/lib/python3.10/site-packages (from opentelemetry-api>=1.2.0->chromadb->arxivsearcher==0.1.0) (8.6.1)\n",
      "Requirement already satisfied: opentelemetry-exporter-otlp-proto-common==1.31.1 in /home/barilanne076/.pyenv/versions/3.10.12/envs/arxiv_env/lib/python3.10/site-packages (from opentelemetry-exporter-otlp-proto-grpc>=1.2.0->chromadb->arxivsearcher==0.1.0) (1.31.1)\n",
      "Requirement already satisfied: opentelemetry-proto==1.31.1 in /home/barilanne076/.pyenv/versions/3.10.12/envs/arxiv_env/lib/python3.10/site-packages (from opentelemetry-exporter-otlp-proto-grpc>=1.2.0->chromadb->arxivsearcher==0.1.0) (1.31.1)\n",
      "Requirement already satisfied: opentelemetry-instrumentation-asgi==0.52b1 in /home/barilanne076/.pyenv/versions/3.10.12/envs/arxiv_env/lib/python3.10/site-packages (from opentelemetry-instrumentation-fastapi>=0.41b0->chromadb->arxivsearcher==0.1.0) (0.52b1)\n",
      "Requirement already satisfied: opentelemetry-instrumentation==0.52b1 in /home/barilanne076/.pyenv/versions/3.10.12/envs/arxiv_env/lib/python3.10/site-packages (from opentelemetry-instrumentation-fastapi>=0.41b0->chromadb->arxivsearcher==0.1.0) (0.52b1)\n",
      "Requirement already satisfied: opentelemetry-semantic-conventions==0.52b1 in /home/barilanne076/.pyenv/versions/3.10.12/envs/arxiv_env/lib/python3.10/site-packages (from opentelemetry-instrumentation-fastapi>=0.41b0->chromadb->arxivsearcher==0.1.0) (0.52b1)\n",
      "Requirement already satisfied: opentelemetry-util-http==0.52b1 in /home/barilanne076/.pyenv/versions/3.10.12/envs/arxiv_env/lib/python3.10/site-packages (from opentelemetry-instrumentation-fastapi>=0.41b0->chromadb->arxivsearcher==0.1.0) (0.52b1)\n",
      "Requirement already satisfied: wrapt<2.0.0,>=1.0.0 in /home/barilanne076/.pyenv/versions/3.10.12/envs/arxiv_env/lib/python3.10/site-packages (from opentelemetry-instrumentation==0.52b1->opentelemetry-instrumentation-fastapi>=0.41b0->chromadb->arxivsearcher==0.1.0) (1.17.2)\n",
      "Requirement already satisfied: asgiref~=3.0 in /home/barilanne076/.pyenv/versions/3.10.12/envs/arxiv_env/lib/python3.10/site-packages (from opentelemetry-instrumentation-asgi==0.52b1->opentelemetry-instrumentation-fastapi>=0.41b0->chromadb->arxivsearcher==0.1.0) (3.8.1)\n",
      "Requirement already satisfied: pytz>=2020.1 in /home/barilanne076/.pyenv/versions/3.10.12/envs/arxiv_env/lib/python3.10/site-packages (from pandas<3,>=1.4.0->streamlit->arxivsearcher==0.1.0) (2025.2)\n",
      "Requirement already satisfied: tzdata>=2022.7 in /home/barilanne076/.pyenv/versions/3.10.12/envs/arxiv_env/lib/python3.10/site-packages (from pandas<3,>=1.4.0->streamlit->arxivsearcher==0.1.0) (2025.2)\n",
      "Requirement already satisfied: monotonic>=1.5 in /home/barilanne076/.pyenv/versions/3.10.12/envs/arxiv_env/lib/python3.10/site-packages (from posthog>=2.4.0->chromadb->arxivsearcher==0.1.0) (1.6)\n",
      "Requirement already satisfied: backoff>=1.10.0 in /home/barilanne076/.pyenv/versions/3.10.12/envs/arxiv_env/lib/python3.10/site-packages (from posthog>=2.4.0->chromadb->arxivsearcher==0.1.0) (2.2.1)\n",
      "Requirement already satisfied: distro>=1.5.0 in /home/barilanne076/.pyenv/versions/3.10.12/envs/arxiv_env/lib/python3.10/site-packages (from posthog>=2.4.0->chromadb->arxivsearcher==0.1.0) (1.9.0)\n",
      "Requirement already satisfied: annotated-types>=0.6.0 in /home/barilanne076/.pyenv/versions/3.10.12/envs/arxiv_env/lib/python3.10/site-packages (from pydantic<3.0.0,>=2.7.4->langchain->arxivsearcher==0.1.0) (0.7.0)\n",
      "Requirement already satisfied: pydantic-core==2.33.0 in /home/barilanne076/.pyenv/versions/3.10.12/envs/arxiv_env/lib/python3.10/site-packages (from pydantic<3.0.0,>=2.7.4->langchain->arxivsearcher==0.1.0) (2.33.0)\n",
      "Requirement already satisfied: typing-inspection>=0.4.0 in /home/barilanne076/.pyenv/versions/3.10.12/envs/arxiv_env/lib/python3.10/site-packages (from pydantic<3.0.0,>=2.7.4->langchain->arxivsearcher==0.1.0) (0.4.0)\n",
      "Requirement already satisfied: python-dotenv>=0.21.0 in /home/barilanne076/.pyenv/versions/3.10.12/envs/arxiv_env/lib/python3.10/site-packages (from pydantic-settings<3.0.0,>=2.4.0->langchain-community->arxivsearcher==0.1.0) (1.1.0)\n",
      "Requirement already satisfied: charset-normalizer<4,>=2 in /home/barilanne076/.pyenv/versions/3.10.12/envs/arxiv_env/lib/python3.10/site-packages (from requests<3,>=2->langchain->arxivsearcher==0.1.0) (3.4.1)\n",
      "Requirement already satisfied: markdown-it-py>=2.2.0 in /home/barilanne076/.pyenv/versions/3.10.12/envs/arxiv_env/lib/python3.10/site-packages (from rich>=10.11.0->chromadb->arxivsearcher==0.1.0) (3.0.0)\n",
      "Requirement already satisfied: pygments<3.0.0,>=2.13.0 in /home/barilanne076/.pyenv/versions/3.10.12/envs/arxiv_env/lib/python3.10/site-packages (from rich>=10.11.0->chromadb->arxivsearcher==0.1.0) (2.19.1)\n",
      "Requirement already satisfied: greenlet>=1 in /home/barilanne076/.pyenv/versions/3.10.12/envs/arxiv_env/lib/python3.10/site-packages (from SQLAlchemy<3,>=1.4->langchain->arxivsearcher==0.1.0) (3.1.1)\n",
      "Requirement already satisfied: networkx in /home/barilanne076/.pyenv/versions/3.10.12/envs/arxiv_env/lib/python3.10/site-packages (from torch>=1.11.0->sentence-transformers->arxivsearcher==0.1.0) (3.4.2)\n",
      "Requirement already satisfied: nvidia-cuda-nvrtc-cu12==12.4.127 in /home/barilanne076/.pyenv/versions/3.10.12/envs/arxiv_env/lib/python3.10/site-packages (from torch>=1.11.0->sentence-transformers->arxivsearcher==0.1.0) (12.4.127)\n",
      "Requirement already satisfied: nvidia-cuda-runtime-cu12==12.4.127 in /home/barilanne076/.pyenv/versions/3.10.12/envs/arxiv_env/lib/python3.10/site-packages (from torch>=1.11.0->sentence-transformers->arxivsearcher==0.1.0) (12.4.127)\n",
      "Requirement already satisfied: nvidia-cuda-cupti-cu12==12.4.127 in /home/barilanne076/.pyenv/versions/3.10.12/envs/arxiv_env/lib/python3.10/site-packages (from torch>=1.11.0->sentence-transformers->arxivsearcher==0.1.0) (12.4.127)\n",
      "Requirement already satisfied: nvidia-cudnn-cu12==9.1.0.70 in /home/barilanne076/.pyenv/versions/3.10.12/envs/arxiv_env/lib/python3.10/site-packages (from torch>=1.11.0->sentence-transformers->arxivsearcher==0.1.0) (9.1.0.70)\n",
      "Requirement already satisfied: nvidia-cublas-cu12==12.4.5.8 in /home/barilanne076/.pyenv/versions/3.10.12/envs/arxiv_env/lib/python3.10/site-packages (from torch>=1.11.0->sentence-transformers->arxivsearcher==0.1.0) (12.4.5.8)\n",
      "Requirement already satisfied: nvidia-cufft-cu12==11.2.1.3 in /home/barilanne076/.pyenv/versions/3.10.12/envs/arxiv_env/lib/python3.10/site-packages (from torch>=1.11.0->sentence-transformers->arxivsearcher==0.1.0) (11.2.1.3)\n",
      "Requirement already satisfied: nvidia-curand-cu12==10.3.5.147 in /home/barilanne076/.pyenv/versions/3.10.12/envs/arxiv_env/lib/python3.10/site-packages (from torch>=1.11.0->sentence-transformers->arxivsearcher==0.1.0) (10.3.5.147)\n",
      "Requirement already satisfied: nvidia-cusolver-cu12==11.6.1.9 in /home/barilanne076/.pyenv/versions/3.10.12/envs/arxiv_env/lib/python3.10/site-packages (from torch>=1.11.0->sentence-transformers->arxivsearcher==0.1.0) (11.6.1.9)\n",
      "Requirement already satisfied: nvidia-cusparse-cu12==12.3.1.170 in /home/barilanne076/.pyenv/versions/3.10.12/envs/arxiv_env/lib/python3.10/site-packages (from torch>=1.11.0->sentence-transformers->arxivsearcher==0.1.0) (12.3.1.170)\n",
      "Requirement already satisfied: nvidia-cusparselt-cu12==0.6.2 in /home/barilanne076/.pyenv/versions/3.10.12/envs/arxiv_env/lib/python3.10/site-packages (from torch>=1.11.0->sentence-transformers->arxivsearcher==0.1.0) (0.6.2)\n",
      "Requirement already satisfied: nvidia-nccl-cu12==2.21.5 in /home/barilanne076/.pyenv/versions/3.10.12/envs/arxiv_env/lib/python3.10/site-packages (from torch>=1.11.0->sentence-transformers->arxivsearcher==0.1.0) (2.21.5)\n",
      "Requirement already satisfied: nvidia-nvtx-cu12==12.4.127 in /home/barilanne076/.pyenv/versions/3.10.12/envs/arxiv_env/lib/python3.10/site-packages (from torch>=1.11.0->sentence-transformers->arxivsearcher==0.1.0) (12.4.127)\n",
      "Requirement already satisfied: nvidia-nvjitlink-cu12==12.4.127 in /home/barilanne076/.pyenv/versions/3.10.12/envs/arxiv_env/lib/python3.10/site-packages (from torch>=1.11.0->sentence-transformers->arxivsearcher==0.1.0) (12.4.127)\n",
      "Requirement already satisfied: triton==3.2.0 in /home/barilanne076/.pyenv/versions/3.10.12/envs/arxiv_env/lib/python3.10/site-packages (from torch>=1.11.0->sentence-transformers->arxivsearcher==0.1.0) (3.2.0)\n",
      "Requirement already satisfied: mpmath<1.4,>=1.1.0 in /home/barilanne076/.pyenv/versions/3.10.12/envs/arxiv_env/lib/python3.10/site-packages (from sympy->onnxruntime>=1.14.1->chromadb->arxivsearcher==0.1.0) (1.3.0)\n",
      "Requirement already satisfied: safetensors>=0.4.3 in /home/barilanne076/.pyenv/versions/3.10.12/envs/arxiv_env/lib/python3.10/site-packages (from transformers>=4.39.0->langchain-huggingface->arxivsearcher==0.1.0) (0.5.3)\n",
      "Requirement already satisfied: shellingham>=1.3.0 in /home/barilanne076/.pyenv/versions/3.10.12/envs/arxiv_env/lib/python3.10/site-packages (from typer>=0.9.0->chromadb->arxivsearcher==0.1.0) (1.5.4)\n",
      "Requirement already satisfied: httptools>=0.6.3 in /home/barilanne076/.pyenv/versions/3.10.12/envs/arxiv_env/lib/python3.10/site-packages (from uvicorn[standard]>=0.18.3->chromadb->arxivsearcher==0.1.0) (0.6.4)\n",
      "Requirement already satisfied: uvloop!=0.15.0,!=0.15.1,>=0.14.0 in /home/barilanne076/.pyenv/versions/3.10.12/envs/arxiv_env/lib/python3.10/site-packages (from uvicorn[standard]>=0.18.3->chromadb->arxivsearcher==0.1.0) (0.21.0)\n",
      "Requirement already satisfied: watchfiles>=0.13 in /home/barilanne076/.pyenv/versions/3.10.12/envs/arxiv_env/lib/python3.10/site-packages (from uvicorn[standard]>=0.18.3->chromadb->arxivsearcher==0.1.0) (1.0.4)\n",
      "Requirement already satisfied: websockets>=10.4 in /home/barilanne076/.pyenv/versions/3.10.12/envs/arxiv_env/lib/python3.10/site-packages (from uvicorn[standard]>=0.18.3->chromadb->arxivsearcher==0.1.0) (15.0.1)\n",
      "Requirement already satisfied: joblib>=1.2.0 in /home/barilanne076/.pyenv/versions/3.10.12/envs/arxiv_env/lib/python3.10/site-packages (from scikit-learn->sentence-transformers->arxivsearcher==0.1.0) (1.4.2)\n",
      "Requirement already satisfied: threadpoolctl>=3.1.0 in /home/barilanne076/.pyenv/versions/3.10.12/envs/arxiv_env/lib/python3.10/site-packages (from scikit-learn->sentence-transformers->arxivsearcher==0.1.0) (3.6.0)\n",
      "Requirement already satisfied: smmap<6,>=3.0.1 in /home/barilanne076/.pyenv/versions/3.10.12/envs/arxiv_env/lib/python3.10/site-packages (from gitdb<5,>=4.0.1->gitpython!=3.1.19,<4,>=3.0.7->streamlit->arxivsearcher==0.1.0) (5.0.2)\n",
      "Requirement already satisfied: zipp>=3.20 in /home/barilanne076/.pyenv/versions/3.10.12/envs/arxiv_env/lib/python3.10/site-packages (from importlib-metadata<8.7.0,>=6.0->opentelemetry-api>=1.2.0->chromadb->arxivsearcher==0.1.0) (3.21.0)\n",
      "Requirement already satisfied: MarkupSafe>=2.0 in /home/barilanne076/.pyenv/versions/3.10.12/envs/arxiv_env/lib/python3.10/site-packages (from jinja2->altair<6,>=4.0->streamlit->arxivsearcher==0.1.0) (3.0.2)\n",
      "Requirement already satisfied: jsonpointer>=1.9 in /home/barilanne076/.pyenv/versions/3.10.12/envs/arxiv_env/lib/python3.10/site-packages (from jsonpatch<2.0,>=1.33->langchain-core<1.0.0,>=0.3.49->langchain->arxivsearcher==0.1.0) (3.0.0)\n",
      "Requirement already satisfied: jsonschema-specifications>=2023.03.6 in /home/barilanne076/.pyenv/versions/3.10.12/envs/arxiv_env/lib/python3.10/site-packages (from jsonschema>=3.0->altair<6,>=4.0->streamlit->arxivsearcher==0.1.0) (2024.10.1)\n",
      "Requirement already satisfied: referencing>=0.28.4 in /home/barilanne076/.pyenv/versions/3.10.12/envs/arxiv_env/lib/python3.10/site-packages (from jsonschema>=3.0->altair<6,>=4.0->streamlit->arxivsearcher==0.1.0) (0.36.2)\n",
      "Requirement already satisfied: rpds-py>=0.7.1 in /home/barilanne076/.pyenv/versions/3.10.12/envs/arxiv_env/lib/python3.10/site-packages (from jsonschema>=3.0->altair<6,>=4.0->streamlit->arxivsearcher==0.1.0) (0.24.0)\n",
      "Requirement already satisfied: mdurl~=0.1 in /home/barilanne076/.pyenv/versions/3.10.12/envs/arxiv_env/lib/python3.10/site-packages (from markdown-it-py>=2.2.0->rich>=10.11.0->chromadb->arxivsearcher==0.1.0) (0.1.2)\n",
      "Requirement already satisfied: pyasn1<0.7.0,>=0.6.1 in /home/barilanne076/.pyenv/versions/3.10.12/envs/arxiv_env/lib/python3.10/site-packages (from pyasn1-modules>=0.2.1->google-auth<3.0dev,>=2.26.1->google-cloud-storage->arxivsearcher==0.1.0) (0.6.1)\n",
      "Requirement already satisfied: exceptiongroup>=1.0.2 in /home/barilanne076/.pyenv/versions/3.10.12/envs/arxiv_env/lib/python3.10/site-packages (from anyio->httpx>=0.27.0->chromadb->arxivsearcher==0.1.0) (1.2.2)\n",
      "Requirement already satisfied: sniffio>=1.1 in /home/barilanne076/.pyenv/versions/3.10.12/envs/arxiv_env/lib/python3.10/site-packages (from anyio->httpx>=0.27.0->chromadb->arxivsearcher==0.1.0) (1.3.1)\n",
      "Requirement already satisfied: mypy-extensions>=0.3.0 in /home/barilanne076/.pyenv/versions/3.10.12/envs/arxiv_env/lib/python3.10/site-packages (from typing-inspect<1,>=0.4.0->dataclasses-json<0.7,>=0.5.7->langchain-community->arxivsearcher==0.1.0) (1.0.0)\n",
      "Requirement already satisfied: humanfriendly>=9.1 in /home/barilanne076/.pyenv/versions/3.10.12/envs/arxiv_env/lib/python3.10/site-packages (from coloredlogs->onnxruntime>=1.14.1->chromadb->arxivsearcher==0.1.0) (10.0)\n",
      "Building wheels for collected packages: arxivsearcher\n",
      "  Building editable for arxivsearcher (pyproject.toml) ... \u001b[?25ldone\n",
      "\u001b[?25h  Created wheel for arxivsearcher: filename=arxivsearcher-0.1.0-py3-none-any.whl size=1281 sha256=de7d234ff54285b0bbd9696177dfd4da693240c869b86f48e099d3fd60302a3d\n",
      "  Stored in directory: /tmp/pip-ephem-wheel-cache-4py53dtl/wheels/da/53/7e/2ae15bdbf4bee5d7fd5908688e288cf22f8c5f32e3baa40acb\n",
      "Successfully built arxivsearcher\n",
      "Installing collected packages: arxivsearcher\n",
      "Successfully installed arxivsearcher-0.1.0\n"
     ]
    }
   ],
   "source": [
    "!pip install -e ."
   ]
  },
  {
   "cell_type": "code",
   "execution_count": 1,
   "metadata": {},
   "outputs": [],
   "source": [
    "from arxivsearcher import retrieval"
   ]
  },
  {
   "cell_type": "code",
   "execution_count": null,
   "metadata": {},
   "outputs": [],
   "source": []
  }
 ],
 "metadata": {
  "kernelspec": {
   "display_name": "arxiv_env",
   "language": "python",
   "name": "python3"
  },
  "language_info": {
   "codemirror_mode": {
    "name": "ipython",
    "version": 3
   },
   "file_extension": ".py",
   "mimetype": "text/x-python",
   "name": "python",
   "nbconvert_exporter": "python",
   "pygments_lexer": "ipython3",
   "version": "3.10.12"
  }
 },
 "nbformat": 4,
 "nbformat_minor": 2
}
