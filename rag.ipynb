{
 "cells": [
  {
   "cell_type": "code",
   "execution_count": 2,
   "metadata": {},
   "outputs": [
    {
     "name": "stdout",
     "output_type": "stream",
     "text": [
      "Requirement already satisfied: pyspark in /home/barilanne076/.pyenv/versions/3.10.12/envs/arxiv_env/lib/python3.10/site-packages (3.5.5)\n",
      "Requirement already satisfied: py4j==0.10.9.7 in /home/barilanne076/.pyenv/versions/3.10.12/envs/arxiv_env/lib/python3.10/site-packages (from pyspark) (0.10.9.7)\n",
      "\u001b[31mERROR: Could not find a version that satisfies the requirement ransformers (from versions: none)\u001b[0m\u001b[31m\n",
      "\u001b[0m\u001b[31mERROR: No matching distribution found for ransformers\u001b[0m\u001b[31m\n",
      "\u001b[0mRequirement already satisfied: sentence-transformers in /home/barilanne076/.pyenv/versions/3.10.12/envs/arxiv_env/lib/python3.10/site-packages (4.0.1)\n",
      "Requirement already satisfied: transformers<5.0.0,>=4.41.0 in /home/barilanne076/.pyenv/versions/3.10.12/envs/arxiv_env/lib/python3.10/site-packages (from sentence-transformers) (4.50.3)\n",
      "Requirement already satisfied: tqdm in /home/barilanne076/.pyenv/versions/3.10.12/envs/arxiv_env/lib/python3.10/site-packages (from sentence-transformers) (4.67.1)\n",
      "Requirement already satisfied: torch>=1.11.0 in /home/barilanne076/.pyenv/versions/3.10.12/envs/arxiv_env/lib/python3.10/site-packages (from sentence-transformers) (2.6.0)\n",
      "Requirement already satisfied: scikit-learn in /home/barilanne076/.pyenv/versions/3.10.12/envs/arxiv_env/lib/python3.10/site-packages (from sentence-transformers) (1.6.1)\n",
      "Requirement already satisfied: scipy in /home/barilanne076/.pyenv/versions/3.10.12/envs/arxiv_env/lib/python3.10/site-packages (from sentence-transformers) (1.15.2)\n",
      "Requirement already satisfied: huggingface-hub>=0.20.0 in /home/barilanne076/.pyenv/versions/3.10.12/envs/arxiv_env/lib/python3.10/site-packages (from sentence-transformers) (0.30.1)\n",
      "Requirement already satisfied: Pillow in /home/barilanne076/.pyenv/versions/3.10.12/envs/arxiv_env/lib/python3.10/site-packages (from sentence-transformers) (11.1.0)\n",
      "Requirement already satisfied: typing_extensions>=4.5.0 in /home/barilanne076/.pyenv/versions/3.10.12/envs/arxiv_env/lib/python3.10/site-packages (from sentence-transformers) (4.13.0)\n",
      "Requirement already satisfied: filelock in /home/barilanne076/.pyenv/versions/3.10.12/envs/arxiv_env/lib/python3.10/site-packages (from huggingface-hub>=0.20.0->sentence-transformers) (3.18.0)\n",
      "Requirement already satisfied: fsspec>=2023.5.0 in /home/barilanne076/.pyenv/versions/3.10.12/envs/arxiv_env/lib/python3.10/site-packages (from huggingface-hub>=0.20.0->sentence-transformers) (2025.3.2)\n",
      "Requirement already satisfied: packaging>=20.9 in /home/barilanne076/.pyenv/versions/3.10.12/envs/arxiv_env/lib/python3.10/site-packages (from huggingface-hub>=0.20.0->sentence-transformers) (24.2)\n",
      "Requirement already satisfied: pyyaml>=5.1 in /home/barilanne076/.pyenv/versions/3.10.12/envs/arxiv_env/lib/python3.10/site-packages (from huggingface-hub>=0.20.0->sentence-transformers) (6.0.2)\n",
      "Requirement already satisfied: requests in /home/barilanne076/.pyenv/versions/3.10.12/envs/arxiv_env/lib/python3.10/site-packages (from huggingface-hub>=0.20.0->sentence-transformers) (2.32.3)\n",
      "Requirement already satisfied: networkx in /home/barilanne076/.pyenv/versions/3.10.12/envs/arxiv_env/lib/python3.10/site-packages (from torch>=1.11.0->sentence-transformers) (3.4.2)\n",
      "Requirement already satisfied: jinja2 in /home/barilanne076/.pyenv/versions/3.10.12/envs/arxiv_env/lib/python3.10/site-packages (from torch>=1.11.0->sentence-transformers) (3.1.6)\n",
      "Requirement already satisfied: nvidia-cuda-nvrtc-cu12==12.4.127 in /home/barilanne076/.pyenv/versions/3.10.12/envs/arxiv_env/lib/python3.10/site-packages (from torch>=1.11.0->sentence-transformers) (12.4.127)\n",
      "Requirement already satisfied: nvidia-cuda-runtime-cu12==12.4.127 in /home/barilanne076/.pyenv/versions/3.10.12/envs/arxiv_env/lib/python3.10/site-packages (from torch>=1.11.0->sentence-transformers) (12.4.127)\n",
      "Requirement already satisfied: nvidia-cuda-cupti-cu12==12.4.127 in /home/barilanne076/.pyenv/versions/3.10.12/envs/arxiv_env/lib/python3.10/site-packages (from torch>=1.11.0->sentence-transformers) (12.4.127)\n",
      "Requirement already satisfied: nvidia-cudnn-cu12==9.1.0.70 in /home/barilanne076/.pyenv/versions/3.10.12/envs/arxiv_env/lib/python3.10/site-packages (from torch>=1.11.0->sentence-transformers) (9.1.0.70)\n",
      "Requirement already satisfied: nvidia-cublas-cu12==12.4.5.8 in /home/barilanne076/.pyenv/versions/3.10.12/envs/arxiv_env/lib/python3.10/site-packages (from torch>=1.11.0->sentence-transformers) (12.4.5.8)\n",
      "Requirement already satisfied: nvidia-cufft-cu12==11.2.1.3 in /home/barilanne076/.pyenv/versions/3.10.12/envs/arxiv_env/lib/python3.10/site-packages (from torch>=1.11.0->sentence-transformers) (11.2.1.3)\n",
      "Requirement already satisfied: nvidia-curand-cu12==10.3.5.147 in /home/barilanne076/.pyenv/versions/3.10.12/envs/arxiv_env/lib/python3.10/site-packages (from torch>=1.11.0->sentence-transformers) (10.3.5.147)\n",
      "Requirement already satisfied: nvidia-cusolver-cu12==11.6.1.9 in /home/barilanne076/.pyenv/versions/3.10.12/envs/arxiv_env/lib/python3.10/site-packages (from torch>=1.11.0->sentence-transformers) (11.6.1.9)\n",
      "Requirement already satisfied: nvidia-cusparse-cu12==12.3.1.170 in /home/barilanne076/.pyenv/versions/3.10.12/envs/arxiv_env/lib/python3.10/site-packages (from torch>=1.11.0->sentence-transformers) (12.3.1.170)\n",
      "Requirement already satisfied: nvidia-cusparselt-cu12==0.6.2 in /home/barilanne076/.pyenv/versions/3.10.12/envs/arxiv_env/lib/python3.10/site-packages (from torch>=1.11.0->sentence-transformers) (0.6.2)\n",
      "Requirement already satisfied: nvidia-nccl-cu12==2.21.5 in /home/barilanne076/.pyenv/versions/3.10.12/envs/arxiv_env/lib/python3.10/site-packages (from torch>=1.11.0->sentence-transformers) (2.21.5)\n",
      "Requirement already satisfied: nvidia-nvtx-cu12==12.4.127 in /home/barilanne076/.pyenv/versions/3.10.12/envs/arxiv_env/lib/python3.10/site-packages (from torch>=1.11.0->sentence-transformers) (12.4.127)\n",
      "Requirement already satisfied: nvidia-nvjitlink-cu12==12.4.127 in /home/barilanne076/.pyenv/versions/3.10.12/envs/arxiv_env/lib/python3.10/site-packages (from torch>=1.11.0->sentence-transformers) (12.4.127)\n",
      "Requirement already satisfied: triton==3.2.0 in /home/barilanne076/.pyenv/versions/3.10.12/envs/arxiv_env/lib/python3.10/site-packages (from torch>=1.11.0->sentence-transformers) (3.2.0)\n",
      "Requirement already satisfied: sympy==1.13.1 in /home/barilanne076/.pyenv/versions/3.10.12/envs/arxiv_env/lib/python3.10/site-packages (from torch>=1.11.0->sentence-transformers) (1.13.1)\n",
      "Requirement already satisfied: mpmath<1.4,>=1.1.0 in /home/barilanne076/.pyenv/versions/3.10.12/envs/arxiv_env/lib/python3.10/site-packages (from sympy==1.13.1->torch>=1.11.0->sentence-transformers) (1.3.0)\n",
      "Requirement already satisfied: numpy>=1.17 in /home/barilanne076/.pyenv/versions/3.10.12/envs/arxiv_env/lib/python3.10/site-packages (from transformers<5.0.0,>=4.41.0->sentence-transformers) (1.26.4)\n",
      "Requirement already satisfied: regex!=2019.12.17 in /home/barilanne076/.pyenv/versions/3.10.12/envs/arxiv_env/lib/python3.10/site-packages (from transformers<5.0.0,>=4.41.0->sentence-transformers) (2024.11.6)\n",
      "Requirement already satisfied: tokenizers<0.22,>=0.21 in /home/barilanne076/.pyenv/versions/3.10.12/envs/arxiv_env/lib/python3.10/site-packages (from transformers<5.0.0,>=4.41.0->sentence-transformers) (0.21.1)\n",
      "Requirement already satisfied: safetensors>=0.4.3 in /home/barilanne076/.pyenv/versions/3.10.12/envs/arxiv_env/lib/python3.10/site-packages (from transformers<5.0.0,>=4.41.0->sentence-transformers) (0.5.3)\n",
      "Requirement already satisfied: joblib>=1.2.0 in /home/barilanne076/.pyenv/versions/3.10.12/envs/arxiv_env/lib/python3.10/site-packages (from scikit-learn->sentence-transformers) (1.4.2)\n",
      "Requirement already satisfied: threadpoolctl>=3.1.0 in /home/barilanne076/.pyenv/versions/3.10.12/envs/arxiv_env/lib/python3.10/site-packages (from scikit-learn->sentence-transformers) (3.6.0)\n",
      "Requirement already satisfied: MarkupSafe>=2.0 in /home/barilanne076/.pyenv/versions/3.10.12/envs/arxiv_env/lib/python3.10/site-packages (from jinja2->torch>=1.11.0->sentence-transformers) (3.0.2)\n",
      "Requirement already satisfied: charset-normalizer<4,>=2 in /home/barilanne076/.pyenv/versions/3.10.12/envs/arxiv_env/lib/python3.10/site-packages (from requests->huggingface-hub>=0.20.0->sentence-transformers) (3.4.1)\n",
      "Requirement already satisfied: idna<4,>=2.5 in /home/barilanne076/.pyenv/versions/3.10.12/envs/arxiv_env/lib/python3.10/site-packages (from requests->huggingface-hub>=0.20.0->sentence-transformers) (3.10)\n",
      "Requirement already satisfied: urllib3<3,>=1.21.1 in /home/barilanne076/.pyenv/versions/3.10.12/envs/arxiv_env/lib/python3.10/site-packages (from requests->huggingface-hub>=0.20.0->sentence-transformers) (2.3.0)\n",
      "Requirement already satisfied: certifi>=2017.4.17 in /home/barilanne076/.pyenv/versions/3.10.12/envs/arxiv_env/lib/python3.10/site-packages (from requests->huggingface-hub>=0.20.0->sentence-transformers) (2025.1.31)\n"
     ]
    }
   ],
   "source": [
    "!pip install pyspark\n",
    "!pip install -qU \"langchain-chroma>=0.1.2\"\n",
    "!pip install ransformers\n",
    "!pip install -U sentence-transformers"
   ]
  },
  {
   "cell_type": "markdown",
   "metadata": {},
   "source": [
    "- https://python.langchain.com/docs/integrations/vectorstores/chroma/\n",
    "- https://docs.trychroma.com/production/cloud-providers/gcp "
   ]
  },
  {
   "cell_type": "code",
   "execution_count": null,
   "metadata": {},
   "outputs": [],
   "source": [
    "from pyspark.sql import SparkSession\n",
    "\n",
    "spark = SparkSession.builder \\\n",
    "    .appName(\"ArxivRAG\") \\\n",
    "    .getOrCreate()\n",
    "\n",
    "# Load the JSON file\n",
    "df = spark.read.json(\"/kaggle/input/arxiv/arxiv-metadata-oai-snapshot.json\")\n",
    "\n",
    "# Show schema\n",
    "df.printSchema()\n",
    "\n",
    "# Show some sample rows\n",
    "df.select(\"id\", \"title\", \"abstract\", \"categories\").show(5, truncate=False)\n",
    "\n"
   ]
  }
 ],
 "metadata": {
  "kernelspec": {
   "display_name": "arxiv_env",
   "language": "python",
   "name": "python3"
  },
  "language_info": {
   "codemirror_mode": {
    "name": "ipython",
    "version": 3
   },
   "file_extension": ".py",
   "mimetype": "text/x-python",
   "name": "python",
   "nbconvert_exporter": "python",
   "pygments_lexer": "ipython3",
   "version": "3.10.12"
  }
 },
 "nbformat": 4,
 "nbformat_minor": 2
}
