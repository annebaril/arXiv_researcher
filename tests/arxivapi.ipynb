{
 "cells": [
  {
   "cell_type": "code",
   "execution_count": 1,
   "metadata": {},
   "outputs": [
    {
     "data": {
      "text/plain": [
       "True"
      ]
     },
     "execution_count": 1,
     "metadata": {},
     "output_type": "execute_result"
    }
   ],
   "source": [
    "import arxiv\n",
    "from os import environ\n",
    "from dotenv import load_dotenv\n",
    "\n",
    "load_dotenv()"
   ]
  },
  {
   "cell_type": "code",
   "execution_count": 7,
   "metadata": {},
   "outputs": [],
   "source": [
    "def search_arxiv(query, max_results=10):\n",
    "    search = arxiv.Search(\n",
    "        query=query,\n",
    "        max_results=max_results,\n",
    "        sort_by=arxiv.SortCriterion.Relevance\n",
    "    )\n",
    "    results = []\n",
    "    for result in search.results():\n",
    "        results.append({\n",
    "            \"title\": result.title,\n",
    "            \"summary\": result.summary,\n",
    "            \"authors\": [a.name for a in result.authors],\n",
    "            \"url\": result.entry_id,\n",
    "            \"year\": result.published\n",
    "        })\n",
    "    return results"
   ]
  },
  {
   "cell_type": "code",
   "execution_count": 8,
   "metadata": {},
   "outputs": [
    {
     "name": "stderr",
     "output_type": "stream",
     "text": [
      "/tmp/ipykernel_3607/644123812.py:8: DeprecationWarning: The 'Search.results' method is deprecated, use 'Client.results' instead\n",
      "  for result in search.results():\n"
     ]
    },
    {
     "name": "stdout",
     "output_type": "stream",
     "text": [
      "AI Thinking: A framework for rethinking artificial intelligence in practice http://arxiv.org/abs/2409.12922v1 2024-08-26 04:41:21+00:00\n",
      "Intersymbolic AI: Interlinking Symbolic AI and Subsymbolic AI http://arxiv.org/abs/2406.11563v3 2024-06-17 14:01:59+00:00\n",
      "Overconfident and Unconfident AI Hinder Human-AI Collaboration http://arxiv.org/abs/2402.07632v3 2024-02-12 13:16:30+00:00\n",
      "Supporting AI/ML Security Workers through an Adversarial Techniques, Tools, and Common Knowledge (AI/ML ATT&CK) Framework http://arxiv.org/abs/2211.05075v1 2022-11-09 18:07:10+00:00\n",
      "Navigating Fairness: Practitioners' Understanding, Challenges, and Strategies in AI/ML Development http://arxiv.org/abs/2403.15481v2 2024-03-21 03:44:59+00:00\n",
      "\"Weak AI\" is Likely to Never Become \"Strong AI\", So What is its Greatest Value for us? http://arxiv.org/abs/2103.15294v1 2021-03-29 02:57:48+00:00\n",
      "A Bibliometric View of AI Ethics Development http://arxiv.org/abs/2403.05551v1 2024-02-08 16:36:55+00:00\n",
      "Threefold model for AI Readiness: A Case Study with Finnish Healthcare SMEs http://arxiv.org/abs/2503.14527v1 2025-03-15 18:37:29+00:00\n",
      "Towards a Capability Assessment Model for the Comprehension and Adoption of AI in Organisations http://arxiv.org/abs/2305.15922v1 2023-05-25 10:43:54+00:00\n",
      "Improving Health Professionals' Onboarding with AI and XAI for Trustworthy Human-AI Collaborative Decision Making http://arxiv.org/abs/2405.16424v1 2024-05-26 04:30:17+00:00\n",
      "AI-in-the-Loop -- The impact of HMI in AI-based Application http://arxiv.org/abs/2303.11508v1 2023-03-21 00:04:33+00:00\n",
      "Public Constitutional AI http://arxiv.org/abs/2406.16696v1 2024-06-24 15:00:01+00:00\n",
      "AI Generations: From AI 1.0 to AI 4.0 http://arxiv.org/abs/2502.11312v1 2025-02-16 23:19:44+00:00\n",
      "Putting AI Ethics into Practice: The Hourglass Model of Organizational AI Governance http://arxiv.org/abs/2206.00335v2 2022-06-01 08:55:27+00:00\n",
      "Navigating AI Fallibility: Examining People's Reactions and Perceptions of AI after Encountering Personality Misrepresentations http://arxiv.org/abs/2405.16355v1 2024-05-25 21:27:15+00:00\n",
      "Constructing AI ethics narratives based on real-world data: Human-AI collaboration in data-driven visual storytelling http://arxiv.org/abs/2502.00637v1 2025-02-02 02:56:07+00:00\n",
      "Towards Enterprise-Ready AI Deployments Minimizing the Risk of Consuming AI Models in Business Applications http://arxiv.org/abs/1906.10418v1 2019-06-25 09:46:02+00:00\n",
      "Understanding Mental Models of AI through Player-AI Interaction http://arxiv.org/abs/2103.16168v1 2021-03-30 08:49:45+00:00\n",
      "Interaction Design for Human-AI Choreography Co-creation http://arxiv.org/abs/2405.03999v1 2024-05-07 04:29:54+00:00\n",
      "AI Governance and Accountability: An Analysis of Anthropic's Claude http://arxiv.org/abs/2407.01557v1 2024-05-02 23:37:06+00:00\n",
      "Interacting with Thoughtful AI http://arxiv.org/abs/2502.18676v1 2025-02-25 22:36:03+00:00\n",
      "Ethics in the Age of AI: An Analysis of AI Practitioners' Awareness and Challenges http://arxiv.org/abs/2307.10057v1 2023-07-14 02:50:46+00:00\n",
      "Explainable AI improves task performance in human-AI collaboration http://arxiv.org/abs/2406.08271v1 2024-06-12 14:36:22+00:00\n",
      "AI Failures: A Review of Underlying Issues http://arxiv.org/abs/2008.04073v1 2020-07-18 15:31:29+00:00\n",
      "Enabling human-centered AI: A new junction and shared journey between AI and HCI communities http://arxiv.org/abs/2111.08460v4 2021-11-12 06:11:30+00:00\n",
      "Assigning AI: Seven Approaches for Students, with Prompts http://arxiv.org/abs/2306.10052v1 2023-06-13 03:36:36+00:00\n",
      "Trustworthy, Responsible, and Safe AI: A Comprehensive Architectural Framework for AI Safety with Challenges and Mitigations http://arxiv.org/abs/2408.12935v3 2024-08-23 09:33:48+00:00\n",
      "Enabling AI in Future Wireless Networks: A Data Life Cycle Perspective http://arxiv.org/abs/2003.00866v2 2020-02-24 23:38:07+00:00\n",
      "The Narrow Depth and Breadth of Corporate Responsible AI Research http://arxiv.org/abs/2405.12193v1 2024-05-20 17:26:43+00:00\n",
      "AI Cards: Towards an Applied Framework for Machine-Readable AI and Risk Documentation Inspired by the EU AI Act http://arxiv.org/abs/2406.18211v1 2024-06-26 09:51:49+00:00\n",
      "Why do Experts Disagree on Existential Risk and P(doom)? A Survey of AI Experts http://arxiv.org/abs/2502.14870v1 2025-01-25 01:51:29+00:00\n",
      "AI and Ethics -- Operationalising Responsible AI http://arxiv.org/abs/2105.08867v1 2021-05-19 00:55:40+00:00\n",
      "AI and the creative realm: A short review of current and future applications http://arxiv.org/abs/2306.01795v1 2023-06-01 12:28:08+00:00\n",
      "Views on AI aren't binary -- they're plural http://arxiv.org/abs/2312.14230v2 2023-12-21 17:50:06+00:00\n",
      "Levels of AI Agents: from Rules to Large Language Models http://arxiv.org/abs/2405.06643v2 2024-03-06 23:02:30+00:00\n",
      "A Survey on Offensive AI Within Cybersecurity http://arxiv.org/abs/2410.03566v1 2024-09-26 17:36:22+00:00\n",
      "Tweeting AI: Perceptions of AI-Tweeters (AIT) vs Expert AI-Tweeters (EAIT) http://arxiv.org/abs/1704.08389v2 2017-04-27 00:37:05+00:00\n",
      "AI Governance for Businesses http://arxiv.org/abs/2011.10672v2 2020-11-20 22:31:37+00:00\n",
      "Tweeting AI: Perceptions of Lay vs Expert Twitterati http://arxiv.org/abs/1709.09534v1 2017-09-25 19:14:21+00:00\n",
      "Player-AI Interaction: What Neural Network Games Reveal About AI as Play http://arxiv.org/abs/2101.06220v2 2021-01-15 17:07:03+00:00\n",
      "AI Governance and Ethics Framework for Sustainable AI and Sustainability http://arxiv.org/abs/2210.08984v1 2022-09-28 22:23:10+00:00\n",
      "AI Liability Insurance With an Example in AI-Powered E-diagnosis System http://arxiv.org/abs/2306.01149v1 2023-06-01 21:03:47+00:00\n",
      "Responsible AI: Portraits with Intelligent Bibliometrics http://arxiv.org/abs/2405.02846v1 2024-05-05 08:40:22+00:00\n",
      "From Explainable to Interactive AI: A Literature Review on Current Trends in Human-AI Interaction http://arxiv.org/abs/2405.15051v1 2024-05-23 20:59:20+00:00\n",
      "\"From Unseen Needs to Classroom Solutions\": Exploring AI Literacy Challenges & Opportunities with Project-based Learning Toolkit in K-12 Education http://arxiv.org/abs/2412.17243v1 2024-12-23 03:31:02+00:00\n",
      "AI-RAN: Transforming RAN with AI-driven Computing Infrastructure http://arxiv.org/abs/2501.09007v1 2025-01-15 18:47:05+00:00\n",
      "FairSense-AI: Responsible AI Meets Sustainability http://arxiv.org/abs/2503.02865v2 2025-03-04 18:43:57+00:00\n",
      "Visions of a Discipline: Analyzing Introductory AI Courses on YouTube http://arxiv.org/abs/2407.13077v1 2024-05-31 01:48:42+00:00\n",
      "The Model Mastery Lifecycle: A Framework for Designing Human-AI Interaction http://arxiv.org/abs/2408.12781v1 2024-08-23 01:00:32+00:00\n",
      "The AI Pentad, the CHARME$^{2}$D Model, and an Assessment of Current-State AI Regulation http://arxiv.org/abs/2503.06353v1 2025-03-08 22:58:41+00:00\n",
      "A proposal for an incident regime that tracks and counters threats to national security posed by AI systems http://arxiv.org/abs/2503.19887v1 2025-03-25 17:51:50+00:00\n",
      "Confident AI http://arxiv.org/abs/2202.05957v1 2022-02-12 02:26:46+00:00\n",
      "AI Literacy for All: Adjustable Interdisciplinary Socio-technical Curriculum http://arxiv.org/abs/2409.10552v1 2024-09-02 13:13:53+00:00\n",
      "Evaluating Visual Conversational Agents via Cooperative Human-AI Games http://arxiv.org/abs/1708.05122v1 2017-08-17 03:27:53+00:00\n",
      "MAILS -- Meta AI Literacy Scale: Development and Testing of an AI Literacy Questionnaire Based on Well-Founded Competency Models and Psychological Change- and Meta-Competencies http://arxiv.org/abs/2302.09319v1 2023-02-18 12:35:55+00:00\n",
      "Understanding the Effect of Counterfactual Explanations on Trust and Reliance on AI for Human-AI Collaborative Clinical Decision Making http://arxiv.org/abs/2308.04375v1 2023-08-08 16:23:46+00:00\n",
      "AI Hazard Management: A framework for the systematic management of root causes for AI risks http://arxiv.org/abs/2310.16727v2 2023-10-25 15:55:50+00:00\n",
      "How do transportation professionals perceive the impacts of AI applications in transportation? A latent class cluster analysis http://arxiv.org/abs/2401.08915v1 2024-01-17 01:59:59+00:00\n",
      "POLARIS: A framework to guide the development of Trustworthy AI systems http://arxiv.org/abs/2402.05340v1 2024-02-08 01:05:16+00:00\n",
      "On the Utility of Accounting for Human Beliefs about AI Intention in Human-AI Collaboration http://arxiv.org/abs/2406.06051v2 2024-06-10 06:39:37+00:00\n",
      "Co-designing an AI Impact Assessment Report Template with AI Practitioners and AI Compliance Experts http://arxiv.org/abs/2407.17374v2 2024-07-24 15:53:04+00:00\n",
      "Navigating the Future of Education: Educators' Insights on AI Integration and Challenges in Greece, Hungary, Latvia, Ireland and Armenia http://arxiv.org/abs/2408.15686v1 2024-08-28 10:22:05+00:00\n",
      "The AI Double Standard: Humans Judge All AIs for the Actions of One http://arxiv.org/abs/2412.06040v1 2024-12-08 19:26:52+00:00\n",
      "Cybertrust: From Explainable to Actionable and Interpretable AI (AI2) http://arxiv.org/abs/2201.11117v1 2022-01-26 18:53:09+00:00\n",
      "Towards Seamless Management of AI Models in High-Performance Computing http://arxiv.org/abs/2212.06352v1 2022-12-13 03:10:31+00:00\n",
      "The AI Ghostwriter Effect: When Users Do Not Perceive Ownership of AI-Generated Text But Self-Declare as Authors http://arxiv.org/abs/2303.03283v2 2023-03-06 16:53:12+00:00\n",
      "Is AI Changing the Rules of Academic Misconduct? An In-depth Look at Students' Perceptions of 'AI-giarism' http://arxiv.org/abs/2306.03358v2 2023-06-06 02:22:08+00:00\n",
      "\"I'm Not Confident in Debiasing AI Systems Since I Know Too Little\": Teaching AI Creators About Gender Bias Through Hands-on Tutorials http://arxiv.org/abs/2309.08121v1 2023-09-15 03:09:36+00:00\n",
      "Advancing AI Audits for Enhanced AI Governance http://arxiv.org/abs/2312.00044v1 2023-11-26 16:18:17+00:00\n",
      "AI Safety: Necessary, but insufficient and possibly problematic http://arxiv.org/abs/2403.17419v1 2024-03-26 06:18:42+00:00\n",
      "AuditMAI: Towards An Infrastructure for Continuous AI Auditing http://arxiv.org/abs/2406.14243v1 2024-06-20 12:11:53+00:00\n",
      "AI as Extraherics: Fostering Higher-order Thinking Skills in Human-AI Interaction http://arxiv.org/abs/2409.09218v2 2024-09-13 22:12:35+00:00\n",
      "Employee Well-being in the Age of AI: Perceptions, Concerns, Behaviors, and Outcomes http://arxiv.org/abs/2412.04796v1 2024-12-06 06:07:44+00:00\n",
      "Position: A taxonomy for reporting and describing AI security incidents http://arxiv.org/abs/2412.14855v2 2024-12-19 13:50:26+00:00\n",
      "How Developers Interact with AI: A Taxonomy of Human-AI Collaboration in Software Engineering http://arxiv.org/abs/2501.08774v2 2025-01-15 12:53:49+00:00\n",
      "Human-AI Collaborative Game Testing with Vision Language Models http://arxiv.org/abs/2501.11782v1 2025-01-20 23:14:23+00:00\n",
      "How Generative AI supports human in conceptual design http://arxiv.org/abs/2502.00283v1 2025-02-01 02:47:48+00:00\n",
      "Statistical Scenario Modelling and Lookalike Distributions for Multi-Variate AI Risk http://arxiv.org/abs/2502.14491v2 2025-02-20 12:14:54+00:00\n",
      "Three Kinds of AI Ethics http://arxiv.org/abs/2503.18842v2 2025-03-24 16:15:03+00:00\n",
      "A Brief Survey of Associations Between Meta-Learning and General AI http://arxiv.org/abs/2101.04283v1 2021-01-12 03:57:16+00:00\n",
      "How Mock Model Training Enhances User Perceptions of AI Systems http://arxiv.org/abs/2111.08830v1 2021-11-16 23:24:31+00:00\n",
      "From the Ground Truth Up: Doing AI Ethics from Practice to Principles http://arxiv.org/abs/2201.01659v1 2022-01-05 15:33:33+00:00\n",
      "AI Product Security: A Primer for Developers http://arxiv.org/abs/2304.11087v1 2023-04-18 05:22:34+00:00\n",
      "AI empowering research: 10 ways how science can benefit from AI http://arxiv.org/abs/2307.10265v1 2023-07-17 18:41:18+00:00\n",
      "An Alternative to Regulation: The Case for Public AI http://arxiv.org/abs/2311.11350v1 2023-11-19 15:25:41+00:00\n",
      "Generative AI as Economic Agents http://arxiv.org/abs/2406.00477v1 2024-06-01 16:15:18+00:00\n",
      "Watching the Generative AI Hype Bubble Deflate http://arxiv.org/abs/2408.08778v1 2024-08-16 14:39:51+00:00\n",
      "Establishing Minimum Elements for Effective Vulnerability Management in AI Software http://arxiv.org/abs/2411.11317v1 2024-11-18 06:22:20+00:00\n",
      "A Capability Approach to AI Ethics http://arxiv.org/abs/2502.03469v1 2025-01-10 12:08:21+00:00\n",
      "The Sanction of Authority: Promoting Public Trust in AI http://arxiv.org/abs/2102.04221v1 2021-01-22 22:01:30+00:00\n",
      "Human-AI Collaboration for UX Evaluation: Effects of Explanation and Synchronization http://arxiv.org/abs/2112.12387v1 2021-12-23 07:13:56+00:00\n",
      "Structured access: an emerging paradigm for safe AI deployment http://arxiv.org/abs/2201.05159v2 2022-01-13 19:30:16+00:00\n",
      "A Seven-Layer Model for Standardising AI Fairness Assessment http://arxiv.org/abs/2212.11207v1 2022-12-21 17:28:07+00:00\n",
      "Towards an AI Accountability Policy http://arxiv.org/abs/2307.13658v2 2023-07-25 17:09:28+00:00\n",
      "Collective Attention in Human-AI Teams http://arxiv.org/abs/2407.17489v1 2024-07-03 13:46:00+00:00\n",
      "Raising AI Ethics Awareness through an AI Ethics Quiz for Software Practitioners http://arxiv.org/abs/2408.16796v2 2024-08-28 23:36:13+00:00\n",
      "AI Governance in the Context of the EU AI Act: A Bibliometric and Literature Review Approach http://arxiv.org/abs/2502.03468v1 2025-01-08 11:01:11+00:00\n",
      "Responsible AI Agents http://arxiv.org/abs/2502.18359v1 2025-02-25 16:49:06+00:00\n",
      "Artificial Intelligence in Deliberation: The AI Penalty and the Emergence of a New Deliberative Divide http://arxiv.org/abs/2503.07690v1 2025-03-10 16:33:15+00:00\n",
      "AI for Just Work: Constructing Diverse Imaginations of AI beyond \"Replacing Humans\" http://arxiv.org/abs/2503.08720v1 2025-03-10 20:03:55+00:00\n"
     ]
    }
   ],
   "source": [
    "papers = search_arxiv(\"AI\", max_results=100)\n",
    "for paper in papers:\n",
    "    print(paper[\"title\"], paper[\"url\"], paper['year'])"
   ]
  },
  {
   "cell_type": "code",
   "execution_count": 9,
   "metadata": {},
   "outputs": [],
   "source": [
    "from langchain.embeddings import HuggingFaceEmbeddings\n",
    "# from langchain.embeddings.openai import OpenAIEmbeddings\n",
    "from langchain.vectorstores import Chroma"
   ]
  },
  {
   "cell_type": "code",
   "execution_count": 10,
   "metadata": {},
   "outputs": [
    {
     "name": "stderr",
     "output_type": "stream",
     "text": [
      "/tmp/ipykernel_3607/2525196581.py:2: LangChainDeprecationWarning: The class `HuggingFaceEmbeddings` was deprecated in LangChain 0.2.2 and will be removed in 1.0. An updated version of the class exists in the :class:`~langchain-huggingface package and should be used instead. To use it run `pip install -U :class:`~langchain-huggingface` and import as `from :class:`~langchain_huggingface import HuggingFaceEmbeddings``.\n",
      "  embeddings = HuggingFaceEmbeddings(model_name=\"sentence-transformers/all-mpnet-base-v2\")\n",
      "/home/celiazhang/.pyenv/versions/3.10.12/envs/arxivenv/lib/python3.10/site-packages/tqdm/auto.py:21: TqdmWarning: IProgress not found. Please update jupyter and ipywidgets. See https://ipywidgets.readthedocs.io/en/stable/user_install.html\n",
      "  from .autonotebook import tqdm as notebook_tqdm\n"
     ]
    }
   ],
   "source": [
    "# embeddings = OpenAIEmbeddings(openai_api_key)\n",
    "embeddings = HuggingFaceEmbeddings(model_name=\"sentence-transformers/all-mpnet-base-v2\")"
   ]
  },
  {
   "cell_type": "code",
   "execution_count": 12,
   "metadata": {},
   "outputs": [],
   "source": [
    "docs = []\n",
    "for paper in papers:\n",
    "    content = f\"title: {paper['title']} \\n Summary: {paper['summary']}\"\n",
    "    docs.append(content)\n",
    "\n",
    "vectorstore = Chroma.from_texts(docs, embeddings,persist_directory=\"../chroma_db/aidocs\")"
   ]
  },
  {
   "cell_type": "code",
   "execution_count": null,
   "metadata": {},
   "outputs": [],
   "source": [
    "# create vector database\n",
    "from langchain_text_splitters.character import RecursiveCharacterTextSplitter\n",
    "text_splitter = RecursiveCharacterTextSplitter(chunk_size=2000, chunk_overlap=30)\n",
    "split_doc = text_splitter.split_documents(docs)\n",
    "\n",
    "#\n",
    "vectorstore = Chroma.from_documents(split_doc, embeddings, persist_directory=persist_dir)"
   ]
  },
  {
   "cell_type": "code",
   "execution_count": 13,
   "metadata": {},
   "outputs": [
    {
     "name": "stderr",
     "output_type": "stream",
     "text": [
      "/tmp/ipykernel_3607/834791802.py:2: LangChainDeprecationWarning: The class `Chroma` was deprecated in LangChain 0.2.9 and will be removed in 1.0. An updated version of the class exists in the :class:`~langchain-chroma package and should be used instead. To use it run `pip install -U :class:`~langchain-chroma` and import as `from :class:`~langchain_chroma import Chroma``.\n",
      "  vectorstore2 = Chroma(persist_directory=\"../chroma_db/aidocs\", embedding_function=embeddings)\n"
     ]
    }
   ],
   "source": [
    "# load vertor database\n",
    "vectorstore2 = Chroma(persist_directory=\"../chroma_db/aidocs\", embedding_function=embeddings)\n",
    "# result = vectorstore.similarity_search_with_score(\"how to build a RAG agent\")"
   ]
  },
  {
   "cell_type": "code",
   "execution_count": null,
   "metadata": {},
   "outputs": [
    {
     "name": "stdout",
     "output_type": "stream",
     "text": [
      "title: AI-in-the-Loop -- The impact of HMI in AI-based Application \n",
      " Summary: Artificial intelligence (AI) and human-machine interaction (HMI) are two\n",
      "keywords that usually do not fit embedded applications. Within the steps needed\n",
      "before applying AI to solve a specific task, HMI is usually missing during the\n",
      "AI architecture design and the training of an AI model. The human-in-the-loop\n",
      "concept is prevalent in all other steps of developing AI, from data analysis\n",
      "via data selection and cleaning to performance evaluation. During AI\n",
      "architecture design, HMI can immediately highlight unproductive layers of the\n",
      "architecture so that lightweight network architecture for embedded applications\n",
      "can be created easily. We show that by using this HMI, users can instantly\n",
      "distinguish which AI architecture should be trained and evaluated first since a\n",
      "high accuracy on the task could be expected. This approach reduces the\n",
      "resources needed for AI development by avoiding training and evaluating AI\n",
      "architectures with unproductive layers and leads to lightweight AI\n",
      "architectures. These resulting lightweight AI architectures will enable HMI\n",
      "while running the AI on an edge device. By enabling HMI during an AI uses\n",
      "inference, we will introduce the AI-in-the-loop concept that combines AI's and\n",
      "humans' strengths. In our AI-in-the-loop approach, the AI remains the working\n",
      "horse and primarily solves the task. If the AI is unsure whether its inference\n",
      "solves the task correctly, it asks the user to use an appropriate HMI.\n",
      "Consequently, AI will become available in many applications soon since HMI will\n",
      "make AI more reliable and explainable.\n",
      "None\n",
      "\n",
      "\n",
      "title: \"Weak AI\" is Likely to Never Become \"Strong AI\", So What is its Greatest Value for us? \n",
      " Summary: AI has surpassed humans across a variety of tasks such as image\n",
      "classification, playing games (e.g., go, \"Starcraft\" and poker), and protein\n",
      "structure prediction. However, at the same time, AI is also bearing serious\n",
      "controversies. Many researchers argue that little substantial progress has been\n",
      "made for AI in recent decades. In this paper, the author (1) explains why\n",
      "controversies about AI exist; (2) discriminates two paradigms of AI research,\n",
      "termed \"weak AI\" and \"strong AI\" (a.k.a. artificial general intelligence); (3)\n",
      "clarifies how to judge which paradigm a research work should be classified\n",
      "into; (4) discusses what is the greatest value of \"weak AI\" if it has no chance\n",
      "to develop into \"strong AI\".\n",
      "None\n",
      "\n",
      "\n",
      "title: A Brief Survey of Associations Between Meta-Learning and General AI \n",
      " Summary: This paper briefly reviews the history of meta-learning and describes its\n",
      "contribution to general AI. Meta-learning improves model generalization\n",
      "capacity and devises general algorithms applicable to both in-distribution and\n",
      "out-of-distribution tasks potentially. General AI replaces task-specific models\n",
      "with general algorithmic systems introducing higher level of automation in\n",
      "solving diverse tasks using AI. We summarize main contributions of\n",
      "meta-learning to the developments in general AI, including memory module,\n",
      "meta-learner, coevolution, curiosity, forgetting and AI-generating algorithm.\n",
      "We present connections between meta-learning and general AI and discuss how\n",
      "meta-learning can be used to formulate general AI algorithms.\n",
      "None\n",
      "\n",
      "\n",
      "title: Confident AI \n",
      " Summary: In this paper, we propose \"Confident AI\" as a means to designing Artificial\n",
      "Intelligence (AI) and Machine Learning (ML) systems with both algorithm and\n",
      "user confidence in model predictions and reported results. The 4 basic tenets\n",
      "of Confident AI are Repeatability, Believability, Sufficiency, and\n",
      "Adaptability. Each of the tenets is used to explore fundamental issues in\n",
      "current AI/ML systems and together provide an overall approach to Confident AI.\n",
      "None\n",
      "\n",
      "\n"
     ]
    }
   ],
   "source": [
    "retriever = vectorstore2.as_retriever()\n",
    "\n",
    "# test query\n",
    "query = \"Neural networks for image recognition\"\n",
    "retrieved_docs = retriever.get_relevant_documents(query)\n",
    "\n",
    "for doc in retrieved_docs:\n",
    "    print(doc.page_content)\n",
    "    print(doc.id)\n",
    "    print(\"\\n\")"
   ]
  },
  {
   "cell_type": "code",
   "execution_count": 17,
   "metadata": {},
   "outputs": [
    {
     "data": {
      "text/plain": [
       "Document(metadata={}, page_content=\"title: AI-in-the-Loop -- The impact of HMI in AI-based Application \\n Summary: Artificial intelligence (AI) and human-machine interaction (HMI) are two\\nkeywords that usually do not fit embedded applications. Within the steps needed\\nbefore applying AI to solve a specific task, HMI is usually missing during the\\nAI architecture design and the training of an AI model. The human-in-the-loop\\nconcept is prevalent in all other steps of developing AI, from data analysis\\nvia data selection and cleaning to performance evaluation. During AI\\narchitecture design, HMI can immediately highlight unproductive layers of the\\narchitecture so that lightweight network architecture for embedded applications\\ncan be created easily. We show that by using this HMI, users can instantly\\ndistinguish which AI architecture should be trained and evaluated first since a\\nhigh accuracy on the task could be expected. This approach reduces the\\nresources needed for AI development by avoiding training and evaluating AI\\narchitectures with unproductive layers and leads to lightweight AI\\narchitectures. These resulting lightweight AI architectures will enable HMI\\nwhile running the AI on an edge device. By enabling HMI during an AI uses\\ninference, we will introduce the AI-in-the-loop concept that combines AI's and\\nhumans' strengths. In our AI-in-the-loop approach, the AI remains the working\\nhorse and primarily solves the task. If the AI is unsure whether its inference\\nsolves the task correctly, it asks the user to use an appropriate HMI.\\nConsequently, AI will become available in many applications soon since HMI will\\nmake AI more reliable and explainable.\")"
      ]
     },
     "execution_count": 17,
     "metadata": {},
     "output_type": "execute_result"
    }
   ],
   "source": [
    "retrieved_docs[0]"
   ]
  },
  {
   "cell_type": "markdown",
   "metadata": {},
   "source": [
    "## Hugging face"
   ]
  },
  {
   "cell_type": "code",
   "execution_count": 3,
   "metadata": {},
   "outputs": [],
   "source": [
    "from langchain.llms import HuggingFacePipeline\n",
    "from langchain.prompts import PromptTemplate\n"
   ]
  },
  {
   "cell_type": "code",
   "execution_count": 4,
   "metadata": {},
   "outputs": [
    {
     "ename": "NameError",
     "evalue": "name 'llm' is not defined",
     "output_type": "error",
     "traceback": [
      "\u001b[0;31m---------------------------------------------------------------------------\u001b[0m",
      "\u001b[0;31mNameError\u001b[0m                                 Traceback (most recent call last)",
      "Cell \u001b[0;32mIn[4], line 6\u001b[0m\n\u001b[1;32m      1\u001b[0m template \u001b[38;5;241m=\u001b[39m \u001b[38;5;124m\"\"\"\u001b[39m\u001b[38;5;124mQuestion: \u001b[39m\u001b[38;5;132;01m{question}\u001b[39;00m\n\u001b[1;32m      2\u001b[0m \n\u001b[1;32m      3\u001b[0m \u001b[38;5;124mAnswer: Let\u001b[39m\u001b[38;5;124m'\u001b[39m\u001b[38;5;124ms think step by step.\u001b[39m\u001b[38;5;124m\"\"\"\u001b[39m\n\u001b[1;32m      5\u001b[0m prompt \u001b[38;5;241m=\u001b[39m PromptTemplate\u001b[38;5;241m.\u001b[39mfrom_template(template)\n\u001b[0;32m----> 6\u001b[0m chain \u001b[38;5;241m=\u001b[39m prompt \u001b[38;5;241m|\u001b[39m \u001b[43mllm\u001b[49m\n\u001b[1;32m      7\u001b[0m question \u001b[38;5;241m=\u001b[39m \u001b[38;5;124m\"\u001b[39m\u001b[38;5;124mWho is the Pope?\u001b[39m\u001b[38;5;124m\"\u001b[39m\n\u001b[1;32m      9\u001b[0m \u001b[38;5;28mprint\u001b[39m(chain\u001b[38;5;241m.\u001b[39minvoke({\u001b[38;5;124m\"\u001b[39m\u001b[38;5;124mquestion\u001b[39m\u001b[38;5;124m\"\u001b[39m: question}))\n",
      "\u001b[0;31mNameError\u001b[0m: name 'llm' is not defined"
     ]
    }
   ],
   "source": [
    "template = \"\"\"Question: {question}\n",
    "\n",
    "Answer: Let's think step by step.\"\"\"\n",
    "\n",
    "prompt = PromptTemplate.from_template(template)\n",
    "chain = prompt | llm\n",
    "question = \"Who is the Pope?\"\n",
    "\n",
    "print(chain.invoke({\"question\": question}))\n",
    "# hf_token"
   ]
  },
  {
   "cell_type": "code",
   "execution_count": 2,
   "metadata": {},
   "outputs": [
    {
     "ename": "OSError",
     "evalue": "DeepSeek-R1 is not a local folder and is not a valid model identifier listed on 'https://huggingface.co/models'\nIf this is a private repository, make sure to pass a token having permission to this repo either by logging in with `huggingface-cli login` or by passing `token=<your_token>`",
     "output_type": "error",
     "traceback": [
      "\u001b[0;31m---------------------------------------------------------------------------\u001b[0m",
      "\u001b[0;31mHTTPError\u001b[0m                                 Traceback (most recent call last)",
      "File \u001b[0;32m~/.pyenv/versions/3.10.12/envs/arxivenv/lib/python3.10/site-packages/huggingface_hub/utils/_http.py:409\u001b[0m, in \u001b[0;36mhf_raise_for_status\u001b[0;34m(response, endpoint_name)\u001b[0m\n\u001b[1;32m    408\u001b[0m \u001b[38;5;28;01mtry\u001b[39;00m:\n\u001b[0;32m--> 409\u001b[0m     \u001b[43mresponse\u001b[49m\u001b[38;5;241;43m.\u001b[39;49m\u001b[43mraise_for_status\u001b[49m\u001b[43m(\u001b[49m\u001b[43m)\u001b[49m\n\u001b[1;32m    410\u001b[0m \u001b[38;5;28;01mexcept\u001b[39;00m HTTPError \u001b[38;5;28;01mas\u001b[39;00m e:\n",
      "File \u001b[0;32m~/.pyenv/versions/3.10.12/envs/arxivenv/lib/python3.10/site-packages/requests/models.py:1024\u001b[0m, in \u001b[0;36mResponse.raise_for_status\u001b[0;34m(self)\u001b[0m\n\u001b[1;32m   1023\u001b[0m \u001b[38;5;28;01mif\u001b[39;00m http_error_msg:\n\u001b[0;32m-> 1024\u001b[0m     \u001b[38;5;28;01mraise\u001b[39;00m HTTPError(http_error_msg, response\u001b[38;5;241m=\u001b[39m\u001b[38;5;28mself\u001b[39m)\n",
      "\u001b[0;31mHTTPError\u001b[0m: 401 Client Error: Unauthorized for url: https://huggingface.co/DeepSeek-R1/resolve/main/config.json",
      "\nThe above exception was the direct cause of the following exception:\n",
      "\u001b[0;31mRepositoryNotFoundError\u001b[0m                   Traceback (most recent call last)",
      "File \u001b[0;32m~/.pyenv/versions/3.10.12/envs/arxivenv/lib/python3.10/site-packages/transformers/utils/hub.py:424\u001b[0m, in \u001b[0;36mcached_files\u001b[0;34m(path_or_repo_id, filenames, cache_dir, force_download, resume_download, proxies, token, revision, local_files_only, subfolder, repo_type, user_agent, _raise_exceptions_for_gated_repo, _raise_exceptions_for_missing_entries, _raise_exceptions_for_connection_errors, _commit_hash, **deprecated_kwargs)\u001b[0m\n\u001b[1;32m    422\u001b[0m \u001b[38;5;28;01mif\u001b[39;00m \u001b[38;5;28mlen\u001b[39m(full_filenames) \u001b[38;5;241m==\u001b[39m \u001b[38;5;241m1\u001b[39m:\n\u001b[1;32m    423\u001b[0m     \u001b[38;5;66;03m# This is slightly better for only 1 file\u001b[39;00m\n\u001b[0;32m--> 424\u001b[0m     \u001b[43mhf_hub_download\u001b[49m\u001b[43m(\u001b[49m\n\u001b[1;32m    425\u001b[0m \u001b[43m        \u001b[49m\u001b[43mpath_or_repo_id\u001b[49m\u001b[43m,\u001b[49m\n\u001b[1;32m    426\u001b[0m \u001b[43m        \u001b[49m\u001b[43mfilenames\u001b[49m\u001b[43m[\u001b[49m\u001b[38;5;241;43m0\u001b[39;49m\u001b[43m]\u001b[49m\u001b[43m,\u001b[49m\n\u001b[1;32m    427\u001b[0m \u001b[43m        \u001b[49m\u001b[43msubfolder\u001b[49m\u001b[38;5;241;43m=\u001b[39;49m\u001b[38;5;28;43;01mNone\u001b[39;49;00m\u001b[43m \u001b[49m\u001b[38;5;28;43;01mif\u001b[39;49;00m\u001b[43m \u001b[49m\u001b[38;5;28;43mlen\u001b[39;49m\u001b[43m(\u001b[49m\u001b[43msubfolder\u001b[49m\u001b[43m)\u001b[49m\u001b[43m \u001b[49m\u001b[38;5;241;43m==\u001b[39;49m\u001b[43m \u001b[49m\u001b[38;5;241;43m0\u001b[39;49m\u001b[43m \u001b[49m\u001b[38;5;28;43;01melse\u001b[39;49;00m\u001b[43m \u001b[49m\u001b[43msubfolder\u001b[49m\u001b[43m,\u001b[49m\n\u001b[1;32m    428\u001b[0m \u001b[43m        \u001b[49m\u001b[43mrepo_type\u001b[49m\u001b[38;5;241;43m=\u001b[39;49m\u001b[43mrepo_type\u001b[49m\u001b[43m,\u001b[49m\n\u001b[1;32m    429\u001b[0m \u001b[43m        \u001b[49m\u001b[43mrevision\u001b[49m\u001b[38;5;241;43m=\u001b[39;49m\u001b[43mrevision\u001b[49m\u001b[43m,\u001b[49m\n\u001b[1;32m    430\u001b[0m \u001b[43m        \u001b[49m\u001b[43mcache_dir\u001b[49m\u001b[38;5;241;43m=\u001b[39;49m\u001b[43mcache_dir\u001b[49m\u001b[43m,\u001b[49m\n\u001b[1;32m    431\u001b[0m \u001b[43m        \u001b[49m\u001b[43muser_agent\u001b[49m\u001b[38;5;241;43m=\u001b[39;49m\u001b[43muser_agent\u001b[49m\u001b[43m,\u001b[49m\n\u001b[1;32m    432\u001b[0m \u001b[43m        \u001b[49m\u001b[43mforce_download\u001b[49m\u001b[38;5;241;43m=\u001b[39;49m\u001b[43mforce_download\u001b[49m\u001b[43m,\u001b[49m\n\u001b[1;32m    433\u001b[0m \u001b[43m        \u001b[49m\u001b[43mproxies\u001b[49m\u001b[38;5;241;43m=\u001b[39;49m\u001b[43mproxies\u001b[49m\u001b[43m,\u001b[49m\n\u001b[1;32m    434\u001b[0m \u001b[43m        \u001b[49m\u001b[43mresume_download\u001b[49m\u001b[38;5;241;43m=\u001b[39;49m\u001b[43mresume_download\u001b[49m\u001b[43m,\u001b[49m\n\u001b[1;32m    435\u001b[0m \u001b[43m        \u001b[49m\u001b[43mtoken\u001b[49m\u001b[38;5;241;43m=\u001b[39;49m\u001b[43mtoken\u001b[49m\u001b[43m,\u001b[49m\n\u001b[1;32m    436\u001b[0m \u001b[43m        \u001b[49m\u001b[43mlocal_files_only\u001b[49m\u001b[38;5;241;43m=\u001b[39;49m\u001b[43mlocal_files_only\u001b[49m\u001b[43m,\u001b[49m\n\u001b[1;32m    437\u001b[0m \u001b[43m    \u001b[49m\u001b[43m)\u001b[49m\n\u001b[1;32m    438\u001b[0m \u001b[38;5;28;01melse\u001b[39;00m:\n",
      "File \u001b[0;32m~/.pyenv/versions/3.10.12/envs/arxivenv/lib/python3.10/site-packages/huggingface_hub/utils/_validators.py:114\u001b[0m, in \u001b[0;36mvalidate_hf_hub_args.<locals>._inner_fn\u001b[0;34m(*args, **kwargs)\u001b[0m\n\u001b[1;32m    112\u001b[0m     kwargs \u001b[38;5;241m=\u001b[39m smoothly_deprecate_use_auth_token(fn_name\u001b[38;5;241m=\u001b[39mfn\u001b[38;5;241m.\u001b[39m\u001b[38;5;18m__name__\u001b[39m, has_token\u001b[38;5;241m=\u001b[39mhas_token, kwargs\u001b[38;5;241m=\u001b[39mkwargs)\n\u001b[0;32m--> 114\u001b[0m \u001b[38;5;28;01mreturn\u001b[39;00m \u001b[43mfn\u001b[49m\u001b[43m(\u001b[49m\u001b[38;5;241;43m*\u001b[39;49m\u001b[43margs\u001b[49m\u001b[43m,\u001b[49m\u001b[43m \u001b[49m\u001b[38;5;241;43m*\u001b[39;49m\u001b[38;5;241;43m*\u001b[39;49m\u001b[43mkwargs\u001b[49m\u001b[43m)\u001b[49m\n",
      "File \u001b[0;32m~/.pyenv/versions/3.10.12/envs/arxivenv/lib/python3.10/site-packages/huggingface_hub/file_download.py:961\u001b[0m, in \u001b[0;36mhf_hub_download\u001b[0;34m(repo_id, filename, subfolder, repo_type, revision, library_name, library_version, cache_dir, local_dir, user_agent, force_download, proxies, etag_timeout, token, local_files_only, headers, endpoint, resume_download, force_filename, local_dir_use_symlinks)\u001b[0m\n\u001b[1;32m    960\u001b[0m \u001b[38;5;28;01melse\u001b[39;00m:\n\u001b[0;32m--> 961\u001b[0m     \u001b[38;5;28;01mreturn\u001b[39;00m \u001b[43m_hf_hub_download_to_cache_dir\u001b[49m\u001b[43m(\u001b[49m\n\u001b[1;32m    962\u001b[0m \u001b[43m        \u001b[49m\u001b[38;5;66;43;03m# Destination\u001b[39;49;00m\n\u001b[1;32m    963\u001b[0m \u001b[43m        \u001b[49m\u001b[43mcache_dir\u001b[49m\u001b[38;5;241;43m=\u001b[39;49m\u001b[43mcache_dir\u001b[49m\u001b[43m,\u001b[49m\n\u001b[1;32m    964\u001b[0m \u001b[43m        \u001b[49m\u001b[38;5;66;43;03m# File info\u001b[39;49;00m\n\u001b[1;32m    965\u001b[0m \u001b[43m        \u001b[49m\u001b[43mrepo_id\u001b[49m\u001b[38;5;241;43m=\u001b[39;49m\u001b[43mrepo_id\u001b[49m\u001b[43m,\u001b[49m\n\u001b[1;32m    966\u001b[0m \u001b[43m        \u001b[49m\u001b[43mfilename\u001b[49m\u001b[38;5;241;43m=\u001b[39;49m\u001b[43mfilename\u001b[49m\u001b[43m,\u001b[49m\n\u001b[1;32m    967\u001b[0m \u001b[43m        \u001b[49m\u001b[43mrepo_type\u001b[49m\u001b[38;5;241;43m=\u001b[39;49m\u001b[43mrepo_type\u001b[49m\u001b[43m,\u001b[49m\n\u001b[1;32m    968\u001b[0m \u001b[43m        \u001b[49m\u001b[43mrevision\u001b[49m\u001b[38;5;241;43m=\u001b[39;49m\u001b[43mrevision\u001b[49m\u001b[43m,\u001b[49m\n\u001b[1;32m    969\u001b[0m \u001b[43m        \u001b[49m\u001b[38;5;66;43;03m# HTTP info\u001b[39;49;00m\n\u001b[1;32m    970\u001b[0m \u001b[43m        \u001b[49m\u001b[43mendpoint\u001b[49m\u001b[38;5;241;43m=\u001b[39;49m\u001b[43mendpoint\u001b[49m\u001b[43m,\u001b[49m\n\u001b[1;32m    971\u001b[0m \u001b[43m        \u001b[49m\u001b[43metag_timeout\u001b[49m\u001b[38;5;241;43m=\u001b[39;49m\u001b[43metag_timeout\u001b[49m\u001b[43m,\u001b[49m\n\u001b[1;32m    972\u001b[0m \u001b[43m        \u001b[49m\u001b[43mheaders\u001b[49m\u001b[38;5;241;43m=\u001b[39;49m\u001b[43mhf_headers\u001b[49m\u001b[43m,\u001b[49m\n\u001b[1;32m    973\u001b[0m \u001b[43m        \u001b[49m\u001b[43mproxies\u001b[49m\u001b[38;5;241;43m=\u001b[39;49m\u001b[43mproxies\u001b[49m\u001b[43m,\u001b[49m\n\u001b[1;32m    974\u001b[0m \u001b[43m        \u001b[49m\u001b[43mtoken\u001b[49m\u001b[38;5;241;43m=\u001b[39;49m\u001b[43mtoken\u001b[49m\u001b[43m,\u001b[49m\n\u001b[1;32m    975\u001b[0m \u001b[43m        \u001b[49m\u001b[38;5;66;43;03m# Additional options\u001b[39;49;00m\n\u001b[1;32m    976\u001b[0m \u001b[43m        \u001b[49m\u001b[43mlocal_files_only\u001b[49m\u001b[38;5;241;43m=\u001b[39;49m\u001b[43mlocal_files_only\u001b[49m\u001b[43m,\u001b[49m\n\u001b[1;32m    977\u001b[0m \u001b[43m        \u001b[49m\u001b[43mforce_download\u001b[49m\u001b[38;5;241;43m=\u001b[39;49m\u001b[43mforce_download\u001b[49m\u001b[43m,\u001b[49m\n\u001b[1;32m    978\u001b[0m \u001b[43m    \u001b[49m\u001b[43m)\u001b[49m\n",
      "File \u001b[0;32m~/.pyenv/versions/3.10.12/envs/arxivenv/lib/python3.10/site-packages/huggingface_hub/file_download.py:1068\u001b[0m, in \u001b[0;36m_hf_hub_download_to_cache_dir\u001b[0;34m(cache_dir, repo_id, filename, repo_type, revision, endpoint, etag_timeout, headers, proxies, token, local_files_only, force_download)\u001b[0m\n\u001b[1;32m   1067\u001b[0m     \u001b[38;5;66;03m# Otherwise, raise appropriate error\u001b[39;00m\n\u001b[0;32m-> 1068\u001b[0m     \u001b[43m_raise_on_head_call_error\u001b[49m\u001b[43m(\u001b[49m\u001b[43mhead_call_error\u001b[49m\u001b[43m,\u001b[49m\u001b[43m \u001b[49m\u001b[43mforce_download\u001b[49m\u001b[43m,\u001b[49m\u001b[43m \u001b[49m\u001b[43mlocal_files_only\u001b[49m\u001b[43m)\u001b[49m\n\u001b[1;32m   1070\u001b[0m \u001b[38;5;66;03m# From now on, etag, commit_hash, url and size are not None.\u001b[39;00m\n",
      "File \u001b[0;32m~/.pyenv/versions/3.10.12/envs/arxivenv/lib/python3.10/site-packages/huggingface_hub/file_download.py:1596\u001b[0m, in \u001b[0;36m_raise_on_head_call_error\u001b[0;34m(head_call_error, force_download, local_files_only)\u001b[0m\n\u001b[1;32m   1591\u001b[0m \u001b[38;5;28;01melif\u001b[39;00m \u001b[38;5;28misinstance\u001b[39m(head_call_error, (RepositoryNotFoundError, GatedRepoError)) \u001b[38;5;129;01mor\u001b[39;00m (\n\u001b[1;32m   1592\u001b[0m     \u001b[38;5;28misinstance\u001b[39m(head_call_error, HfHubHTTPError) \u001b[38;5;129;01mand\u001b[39;00m head_call_error\u001b[38;5;241m.\u001b[39mresponse\u001b[38;5;241m.\u001b[39mstatus_code \u001b[38;5;241m==\u001b[39m \u001b[38;5;241m401\u001b[39m\n\u001b[1;32m   1593\u001b[0m ):\n\u001b[1;32m   1594\u001b[0m     \u001b[38;5;66;03m# Repo not found or gated => let's raise the actual error\u001b[39;00m\n\u001b[1;32m   1595\u001b[0m     \u001b[38;5;66;03m# Unauthorized => likely a token issue => let's raise the actual error\u001b[39;00m\n\u001b[0;32m-> 1596\u001b[0m     \u001b[38;5;28;01mraise\u001b[39;00m head_call_error\n\u001b[1;32m   1597\u001b[0m \u001b[38;5;28;01melse\u001b[39;00m:\n\u001b[1;32m   1598\u001b[0m     \u001b[38;5;66;03m# Otherwise: most likely a connection issue or Hub downtime => let's warn the user\u001b[39;00m\n",
      "File \u001b[0;32m~/.pyenv/versions/3.10.12/envs/arxivenv/lib/python3.10/site-packages/huggingface_hub/file_download.py:1484\u001b[0m, in \u001b[0;36m_get_metadata_or_catch_error\u001b[0;34m(repo_id, filename, repo_type, revision, endpoint, proxies, etag_timeout, headers, token, local_files_only, relative_filename, storage_folder)\u001b[0m\n\u001b[1;32m   1483\u001b[0m \u001b[38;5;28;01mtry\u001b[39;00m:\n\u001b[0;32m-> 1484\u001b[0m     metadata \u001b[38;5;241m=\u001b[39m \u001b[43mget_hf_file_metadata\u001b[49m\u001b[43m(\u001b[49m\n\u001b[1;32m   1485\u001b[0m \u001b[43m        \u001b[49m\u001b[43murl\u001b[49m\u001b[38;5;241;43m=\u001b[39;49m\u001b[43murl\u001b[49m\u001b[43m,\u001b[49m\u001b[43m \u001b[49m\u001b[43mproxies\u001b[49m\u001b[38;5;241;43m=\u001b[39;49m\u001b[43mproxies\u001b[49m\u001b[43m,\u001b[49m\u001b[43m \u001b[49m\u001b[43mtimeout\u001b[49m\u001b[38;5;241;43m=\u001b[39;49m\u001b[43metag_timeout\u001b[49m\u001b[43m,\u001b[49m\u001b[43m \u001b[49m\u001b[43mheaders\u001b[49m\u001b[38;5;241;43m=\u001b[39;49m\u001b[43mheaders\u001b[49m\u001b[43m,\u001b[49m\u001b[43m \u001b[49m\u001b[43mtoken\u001b[49m\u001b[38;5;241;43m=\u001b[39;49m\u001b[43mtoken\u001b[49m\n\u001b[1;32m   1486\u001b[0m \u001b[43m    \u001b[49m\u001b[43m)\u001b[49m\n\u001b[1;32m   1487\u001b[0m \u001b[38;5;28;01mexcept\u001b[39;00m EntryNotFoundError \u001b[38;5;28;01mas\u001b[39;00m http_error:\n",
      "File \u001b[0;32m~/.pyenv/versions/3.10.12/envs/arxivenv/lib/python3.10/site-packages/huggingface_hub/utils/_validators.py:114\u001b[0m, in \u001b[0;36mvalidate_hf_hub_args.<locals>._inner_fn\u001b[0;34m(*args, **kwargs)\u001b[0m\n\u001b[1;32m    112\u001b[0m     kwargs \u001b[38;5;241m=\u001b[39m smoothly_deprecate_use_auth_token(fn_name\u001b[38;5;241m=\u001b[39mfn\u001b[38;5;241m.\u001b[39m\u001b[38;5;18m__name__\u001b[39m, has_token\u001b[38;5;241m=\u001b[39mhas_token, kwargs\u001b[38;5;241m=\u001b[39mkwargs)\n\u001b[0;32m--> 114\u001b[0m \u001b[38;5;28;01mreturn\u001b[39;00m \u001b[43mfn\u001b[49m\u001b[43m(\u001b[49m\u001b[38;5;241;43m*\u001b[39;49m\u001b[43margs\u001b[49m\u001b[43m,\u001b[49m\u001b[43m \u001b[49m\u001b[38;5;241;43m*\u001b[39;49m\u001b[38;5;241;43m*\u001b[39;49m\u001b[43mkwargs\u001b[49m\u001b[43m)\u001b[49m\n",
      "File \u001b[0;32m~/.pyenv/versions/3.10.12/envs/arxivenv/lib/python3.10/site-packages/huggingface_hub/file_download.py:1401\u001b[0m, in \u001b[0;36mget_hf_file_metadata\u001b[0;34m(url, token, proxies, timeout, library_name, library_version, user_agent, headers)\u001b[0m\n\u001b[1;32m   1400\u001b[0m \u001b[38;5;66;03m# Retrieve metadata\u001b[39;00m\n\u001b[0;32m-> 1401\u001b[0m r \u001b[38;5;241m=\u001b[39m \u001b[43m_request_wrapper\u001b[49m\u001b[43m(\u001b[49m\n\u001b[1;32m   1402\u001b[0m \u001b[43m    \u001b[49m\u001b[43mmethod\u001b[49m\u001b[38;5;241;43m=\u001b[39;49m\u001b[38;5;124;43m\"\u001b[39;49m\u001b[38;5;124;43mHEAD\u001b[39;49m\u001b[38;5;124;43m\"\u001b[39;49m\u001b[43m,\u001b[49m\n\u001b[1;32m   1403\u001b[0m \u001b[43m    \u001b[49m\u001b[43murl\u001b[49m\u001b[38;5;241;43m=\u001b[39;49m\u001b[43murl\u001b[49m\u001b[43m,\u001b[49m\n\u001b[1;32m   1404\u001b[0m \u001b[43m    \u001b[49m\u001b[43mheaders\u001b[49m\u001b[38;5;241;43m=\u001b[39;49m\u001b[43mhf_headers\u001b[49m\u001b[43m,\u001b[49m\n\u001b[1;32m   1405\u001b[0m \u001b[43m    \u001b[49m\u001b[43mallow_redirects\u001b[49m\u001b[38;5;241;43m=\u001b[39;49m\u001b[38;5;28;43;01mFalse\u001b[39;49;00m\u001b[43m,\u001b[49m\n\u001b[1;32m   1406\u001b[0m \u001b[43m    \u001b[49m\u001b[43mfollow_relative_redirects\u001b[49m\u001b[38;5;241;43m=\u001b[39;49m\u001b[38;5;28;43;01mTrue\u001b[39;49;00m\u001b[43m,\u001b[49m\n\u001b[1;32m   1407\u001b[0m \u001b[43m    \u001b[49m\u001b[43mproxies\u001b[49m\u001b[38;5;241;43m=\u001b[39;49m\u001b[43mproxies\u001b[49m\u001b[43m,\u001b[49m\n\u001b[1;32m   1408\u001b[0m \u001b[43m    \u001b[49m\u001b[43mtimeout\u001b[49m\u001b[38;5;241;43m=\u001b[39;49m\u001b[43mtimeout\u001b[49m\u001b[43m,\u001b[49m\n\u001b[1;32m   1409\u001b[0m \u001b[43m\u001b[49m\u001b[43m)\u001b[49m\n\u001b[1;32m   1410\u001b[0m hf_raise_for_status(r)\n",
      "File \u001b[0;32m~/.pyenv/versions/3.10.12/envs/arxivenv/lib/python3.10/site-packages/huggingface_hub/file_download.py:285\u001b[0m, in \u001b[0;36m_request_wrapper\u001b[0;34m(method, url, follow_relative_redirects, **params)\u001b[0m\n\u001b[1;32m    284\u001b[0m \u001b[38;5;28;01mif\u001b[39;00m follow_relative_redirects:\n\u001b[0;32m--> 285\u001b[0m     response \u001b[38;5;241m=\u001b[39m \u001b[43m_request_wrapper\u001b[49m\u001b[43m(\u001b[49m\n\u001b[1;32m    286\u001b[0m \u001b[43m        \u001b[49m\u001b[43mmethod\u001b[49m\u001b[38;5;241;43m=\u001b[39;49m\u001b[43mmethod\u001b[49m\u001b[43m,\u001b[49m\n\u001b[1;32m    287\u001b[0m \u001b[43m        \u001b[49m\u001b[43murl\u001b[49m\u001b[38;5;241;43m=\u001b[39;49m\u001b[43murl\u001b[49m\u001b[43m,\u001b[49m\n\u001b[1;32m    288\u001b[0m \u001b[43m        \u001b[49m\u001b[43mfollow_relative_redirects\u001b[49m\u001b[38;5;241;43m=\u001b[39;49m\u001b[38;5;28;43;01mFalse\u001b[39;49;00m\u001b[43m,\u001b[49m\n\u001b[1;32m    289\u001b[0m \u001b[43m        \u001b[49m\u001b[38;5;241;43m*\u001b[39;49m\u001b[38;5;241;43m*\u001b[39;49m\u001b[43mparams\u001b[49m\u001b[43m,\u001b[49m\n\u001b[1;32m    290\u001b[0m \u001b[43m    \u001b[49m\u001b[43m)\u001b[49m\n\u001b[1;32m    292\u001b[0m     \u001b[38;5;66;03m# If redirection, we redirect only relative paths.\u001b[39;00m\n\u001b[1;32m    293\u001b[0m     \u001b[38;5;66;03m# This is useful in case of a renamed repository.\u001b[39;00m\n",
      "File \u001b[0;32m~/.pyenv/versions/3.10.12/envs/arxivenv/lib/python3.10/site-packages/huggingface_hub/file_download.py:309\u001b[0m, in \u001b[0;36m_request_wrapper\u001b[0;34m(method, url, follow_relative_redirects, **params)\u001b[0m\n\u001b[1;32m    308\u001b[0m response \u001b[38;5;241m=\u001b[39m get_session()\u001b[38;5;241m.\u001b[39mrequest(method\u001b[38;5;241m=\u001b[39mmethod, url\u001b[38;5;241m=\u001b[39murl, \u001b[38;5;241m*\u001b[39m\u001b[38;5;241m*\u001b[39mparams)\n\u001b[0;32m--> 309\u001b[0m \u001b[43mhf_raise_for_status\u001b[49m\u001b[43m(\u001b[49m\u001b[43mresponse\u001b[49m\u001b[43m)\u001b[49m\n\u001b[1;32m    310\u001b[0m \u001b[38;5;28;01mreturn\u001b[39;00m response\n",
      "File \u001b[0;32m~/.pyenv/versions/3.10.12/envs/arxivenv/lib/python3.10/site-packages/huggingface_hub/utils/_http.py:459\u001b[0m, in \u001b[0;36mhf_raise_for_status\u001b[0;34m(response, endpoint_name)\u001b[0m\n\u001b[1;32m    450\u001b[0m     message \u001b[38;5;241m=\u001b[39m (\n\u001b[1;32m    451\u001b[0m         \u001b[38;5;124mf\u001b[39m\u001b[38;5;124m\"\u001b[39m\u001b[38;5;132;01m{\u001b[39;00mresponse\u001b[38;5;241m.\u001b[39mstatus_code\u001b[38;5;132;01m}\u001b[39;00m\u001b[38;5;124m Client Error.\u001b[39m\u001b[38;5;124m\"\u001b[39m\n\u001b[1;32m    452\u001b[0m         \u001b[38;5;241m+\u001b[39m \u001b[38;5;124m\"\u001b[39m\u001b[38;5;130;01m\\n\u001b[39;00m\u001b[38;5;130;01m\\n\u001b[39;00m\u001b[38;5;124m\"\u001b[39m\n\u001b[0;32m   (...)\u001b[0m\n\u001b[1;32m    457\u001b[0m         \u001b[38;5;124m\"\u001b[39m\u001b[38;5;124m https://huggingface.co/docs/huggingface_hub/authentication\u001b[39m\u001b[38;5;124m\"\u001b[39m\n\u001b[1;32m    458\u001b[0m     )\n\u001b[0;32m--> 459\u001b[0m     \u001b[38;5;28;01mraise\u001b[39;00m _format(RepositoryNotFoundError, message, response) \u001b[38;5;28;01mfrom\u001b[39;00m\u001b[38;5;250m \u001b[39m\u001b[38;5;21;01me\u001b[39;00m\n\u001b[1;32m    461\u001b[0m \u001b[38;5;28;01melif\u001b[39;00m response\u001b[38;5;241m.\u001b[39mstatus_code \u001b[38;5;241m==\u001b[39m \u001b[38;5;241m400\u001b[39m:\n",
      "\u001b[0;31mRepositoryNotFoundError\u001b[0m: 401 Client Error. (Request ID: Root=1-67eaf7a3-4b8152ed26b4acc6184a8200;c08cb905-f8f8-4ed6-b0ad-3726f64a5134)\n\nRepository Not Found for url: https://huggingface.co/DeepSeek-R1/resolve/main/config.json.\nPlease make sure you specified the correct `repo_id` and `repo_type`.\nIf you are trying to access a private or gated repo, make sure you are authenticated. For more details, see https://huggingface.co/docs/huggingface_hub/authentication\nInvalid username or password.",
      "\nThe above exception was the direct cause of the following exception:\n",
      "\u001b[0;31mOSError\u001b[0m                                   Traceback (most recent call last)",
      "Cell \u001b[0;32mIn[2], line 2\u001b[0m\n\u001b[1;32m      1\u001b[0m hf_llm \u001b[38;5;241m=\u001b[39m HuggingFacePipeline(\n\u001b[0;32m----> 2\u001b[0m     pipeline\u001b[38;5;241m=\u001b[39m\u001b[43mpipeline\u001b[49m\u001b[43m(\u001b[49m\u001b[38;5;124;43m\"\u001b[39;49m\u001b[38;5;124;43mtext-generation\u001b[39;49m\u001b[38;5;124;43m\"\u001b[39;49m\u001b[43m,\u001b[49m\u001b[43m \u001b[49m\u001b[43mmodel\u001b[49m\u001b[38;5;241;43m=\u001b[39;49m\u001b[38;5;124;43m\"\u001b[39;49m\u001b[38;5;124;43mDeepSeek-R1\u001b[39;49m\u001b[38;5;124;43m\"\u001b[39;49m\u001b[43m,\u001b[49m\u001b[43m \u001b[49m\u001b[43mdevice\u001b[49m\u001b[38;5;241;43m=\u001b[39;49m\u001b[38;5;241;43m0\u001b[39;49m\u001b[43m)\u001b[49m\n\u001b[1;32m      3\u001b[0m )\n",
      "File \u001b[0;32m~/.pyenv/versions/3.10.12/envs/arxivenv/lib/python3.10/site-packages/transformers/pipelines/__init__.py:812\u001b[0m, in \u001b[0;36mpipeline\u001b[0;34m(task, model, config, tokenizer, feature_extractor, image_processor, processor, framework, revision, use_fast, token, device, device_map, torch_dtype, trust_remote_code, model_kwargs, pipeline_class, **kwargs)\u001b[0m\n\u001b[1;32m    808\u001b[0m     pretrained_model_name_or_path \u001b[38;5;241m=\u001b[39m model\n\u001b[1;32m    810\u001b[0m \u001b[38;5;28;01mif\u001b[39;00m \u001b[38;5;129;01mnot\u001b[39;00m \u001b[38;5;28misinstance\u001b[39m(config, PretrainedConfig) \u001b[38;5;129;01mand\u001b[39;00m pretrained_model_name_or_path \u001b[38;5;129;01mis\u001b[39;00m \u001b[38;5;129;01mnot\u001b[39;00m \u001b[38;5;28;01mNone\u001b[39;00m:\n\u001b[1;32m    811\u001b[0m     \u001b[38;5;66;03m# We make a call to the config file first (which may be absent) to get the commit hash as soon as possible\u001b[39;00m\n\u001b[0;32m--> 812\u001b[0m     resolved_config_file \u001b[38;5;241m=\u001b[39m \u001b[43mcached_file\u001b[49m\u001b[43m(\u001b[49m\n\u001b[1;32m    813\u001b[0m \u001b[43m        \u001b[49m\u001b[43mpretrained_model_name_or_path\u001b[49m\u001b[43m,\u001b[49m\n\u001b[1;32m    814\u001b[0m \u001b[43m        \u001b[49m\u001b[43mCONFIG_NAME\u001b[49m\u001b[43m,\u001b[49m\n\u001b[1;32m    815\u001b[0m \u001b[43m        \u001b[49m\u001b[43m_raise_exceptions_for_gated_repo\u001b[49m\u001b[38;5;241;43m=\u001b[39;49m\u001b[38;5;28;43;01mFalse\u001b[39;49;00m\u001b[43m,\u001b[49m\n\u001b[1;32m    816\u001b[0m \u001b[43m        \u001b[49m\u001b[43m_raise_exceptions_for_missing_entries\u001b[49m\u001b[38;5;241;43m=\u001b[39;49m\u001b[38;5;28;43;01mFalse\u001b[39;49;00m\u001b[43m,\u001b[49m\n\u001b[1;32m    817\u001b[0m \u001b[43m        \u001b[49m\u001b[43m_raise_exceptions_for_connection_errors\u001b[49m\u001b[38;5;241;43m=\u001b[39;49m\u001b[38;5;28;43;01mFalse\u001b[39;49;00m\u001b[43m,\u001b[49m\n\u001b[1;32m    818\u001b[0m \u001b[43m        \u001b[49m\u001b[43mcache_dir\u001b[49m\u001b[38;5;241;43m=\u001b[39;49m\u001b[43mmodel_kwargs\u001b[49m\u001b[38;5;241;43m.\u001b[39;49m\u001b[43mget\u001b[49m\u001b[43m(\u001b[49m\u001b[38;5;124;43m\"\u001b[39;49m\u001b[38;5;124;43mcache_dir\u001b[39;49m\u001b[38;5;124;43m\"\u001b[39;49m\u001b[43m)\u001b[49m\u001b[43m,\u001b[49m\n\u001b[1;32m    819\u001b[0m \u001b[43m        \u001b[49m\u001b[38;5;241;43m*\u001b[39;49m\u001b[38;5;241;43m*\u001b[39;49m\u001b[43mhub_kwargs\u001b[49m\u001b[43m,\u001b[49m\n\u001b[1;32m    820\u001b[0m \u001b[43m    \u001b[49m\u001b[43m)\u001b[49m\n\u001b[1;32m    821\u001b[0m     hub_kwargs[\u001b[38;5;124m\"\u001b[39m\u001b[38;5;124m_commit_hash\u001b[39m\u001b[38;5;124m\"\u001b[39m] \u001b[38;5;241m=\u001b[39m extract_commit_hash(resolved_config_file, commit_hash)\n\u001b[1;32m    822\u001b[0m \u001b[38;5;28;01melse\u001b[39;00m:\n",
      "File \u001b[0;32m~/.pyenv/versions/3.10.12/envs/arxivenv/lib/python3.10/site-packages/transformers/utils/hub.py:266\u001b[0m, in \u001b[0;36mcached_file\u001b[0;34m(path_or_repo_id, filename, **kwargs)\u001b[0m\n\u001b[1;32m    208\u001b[0m \u001b[38;5;28;01mdef\u001b[39;00m\u001b[38;5;250m \u001b[39m\u001b[38;5;21mcached_file\u001b[39m(\n\u001b[1;32m    209\u001b[0m     path_or_repo_id: Union[\u001b[38;5;28mstr\u001b[39m, os\u001b[38;5;241m.\u001b[39mPathLike],\n\u001b[1;32m    210\u001b[0m     filename: \u001b[38;5;28mstr\u001b[39m,\n\u001b[1;32m    211\u001b[0m     \u001b[38;5;241m*\u001b[39m\u001b[38;5;241m*\u001b[39mkwargs,\n\u001b[1;32m    212\u001b[0m ) \u001b[38;5;241m-\u001b[39m\u001b[38;5;241m>\u001b[39m Optional[\u001b[38;5;28mstr\u001b[39m]:\n\u001b[1;32m    213\u001b[0m \u001b[38;5;250m    \u001b[39m\u001b[38;5;124;03m\"\"\"\u001b[39;00m\n\u001b[1;32m    214\u001b[0m \u001b[38;5;124;03m    Tries to locate a file in a local folder and repo, downloads and cache it if necessary.\u001b[39;00m\n\u001b[1;32m    215\u001b[0m \n\u001b[0;32m   (...)\u001b[0m\n\u001b[1;32m    264\u001b[0m \u001b[38;5;124;03m    ```\u001b[39;00m\n\u001b[1;32m    265\u001b[0m \u001b[38;5;124;03m    \"\"\"\u001b[39;00m\n\u001b[0;32m--> 266\u001b[0m     file \u001b[38;5;241m=\u001b[39m \u001b[43mcached_files\u001b[49m\u001b[43m(\u001b[49m\u001b[43mpath_or_repo_id\u001b[49m\u001b[38;5;241;43m=\u001b[39;49m\u001b[43mpath_or_repo_id\u001b[49m\u001b[43m,\u001b[49m\u001b[43m \u001b[49m\u001b[43mfilenames\u001b[49m\u001b[38;5;241;43m=\u001b[39;49m\u001b[43m[\u001b[49m\u001b[43mfilename\u001b[49m\u001b[43m]\u001b[49m\u001b[43m,\u001b[49m\u001b[43m \u001b[49m\u001b[38;5;241;43m*\u001b[39;49m\u001b[38;5;241;43m*\u001b[39;49m\u001b[43mkwargs\u001b[49m\u001b[43m)\u001b[49m\n\u001b[1;32m    267\u001b[0m     file \u001b[38;5;241m=\u001b[39m file[\u001b[38;5;241m0\u001b[39m] \u001b[38;5;28;01mif\u001b[39;00m file \u001b[38;5;129;01mis\u001b[39;00m \u001b[38;5;129;01mnot\u001b[39;00m \u001b[38;5;28;01mNone\u001b[39;00m \u001b[38;5;28;01melse\u001b[39;00m file\n\u001b[1;32m    268\u001b[0m     \u001b[38;5;28;01mreturn\u001b[39;00m file\n",
      "File \u001b[0;32m~/.pyenv/versions/3.10.12/envs/arxivenv/lib/python3.10/site-packages/transformers/utils/hub.py:456\u001b[0m, in \u001b[0;36mcached_files\u001b[0;34m(path_or_repo_id, filenames, cache_dir, force_download, resume_download, proxies, token, revision, local_files_only, subfolder, repo_type, user_agent, _raise_exceptions_for_gated_repo, _raise_exceptions_for_missing_entries, _raise_exceptions_for_connection_errors, _commit_hash, **deprecated_kwargs)\u001b[0m\n\u001b[1;32m    453\u001b[0m \u001b[38;5;28;01mexcept\u001b[39;00m \u001b[38;5;167;01mException\u001b[39;00m \u001b[38;5;28;01mas\u001b[39;00m e:\n\u001b[1;32m    454\u001b[0m     \u001b[38;5;66;03m# We cannot recover from them\u001b[39;00m\n\u001b[1;32m    455\u001b[0m     \u001b[38;5;28;01mif\u001b[39;00m \u001b[38;5;28misinstance\u001b[39m(e, RepositoryNotFoundError) \u001b[38;5;129;01mand\u001b[39;00m \u001b[38;5;129;01mnot\u001b[39;00m \u001b[38;5;28misinstance\u001b[39m(e, GatedRepoError):\n\u001b[0;32m--> 456\u001b[0m         \u001b[38;5;28;01mraise\u001b[39;00m \u001b[38;5;167;01mEnvironmentError\u001b[39;00m(\n\u001b[1;32m    457\u001b[0m             \u001b[38;5;124mf\u001b[39m\u001b[38;5;124m\"\u001b[39m\u001b[38;5;132;01m{\u001b[39;00mpath_or_repo_id\u001b[38;5;132;01m}\u001b[39;00m\u001b[38;5;124m is not a local folder and is not a valid model identifier \u001b[39m\u001b[38;5;124m\"\u001b[39m\n\u001b[1;32m    458\u001b[0m             \u001b[38;5;124m\"\u001b[39m\u001b[38;5;124mlisted on \u001b[39m\u001b[38;5;124m'\u001b[39m\u001b[38;5;124mhttps://huggingface.co/models\u001b[39m\u001b[38;5;124m'\u001b[39m\u001b[38;5;130;01m\\n\u001b[39;00m\u001b[38;5;124mIf this is a private repository, make sure to pass a token \u001b[39m\u001b[38;5;124m\"\u001b[39m\n\u001b[1;32m    459\u001b[0m             \u001b[38;5;124m\"\u001b[39m\u001b[38;5;124mhaving permission to this repo either by logging in with `huggingface-cli login` or by passing \u001b[39m\u001b[38;5;124m\"\u001b[39m\n\u001b[1;32m    460\u001b[0m             \u001b[38;5;124m\"\u001b[39m\u001b[38;5;124m`token=<your_token>`\u001b[39m\u001b[38;5;124m\"\u001b[39m\n\u001b[1;32m    461\u001b[0m         ) \u001b[38;5;28;01mfrom\u001b[39;00m\u001b[38;5;250m \u001b[39m\u001b[38;5;21;01me\u001b[39;00m\n\u001b[1;32m    462\u001b[0m     \u001b[38;5;28;01melif\u001b[39;00m \u001b[38;5;28misinstance\u001b[39m(e, RevisionNotFoundError):\n\u001b[1;32m    463\u001b[0m         \u001b[38;5;28;01mraise\u001b[39;00m \u001b[38;5;167;01mEnvironmentError\u001b[39;00m(\n\u001b[1;32m    464\u001b[0m             \u001b[38;5;124mf\u001b[39m\u001b[38;5;124m\"\u001b[39m\u001b[38;5;132;01m{\u001b[39;00mrevision\u001b[38;5;132;01m}\u001b[39;00m\u001b[38;5;124m is not a valid git identifier (branch name, tag name or commit id) that exists \u001b[39m\u001b[38;5;124m\"\u001b[39m\n\u001b[1;32m    465\u001b[0m             \u001b[38;5;124m\"\u001b[39m\u001b[38;5;124mfor this model name. Check the model page at \u001b[39m\u001b[38;5;124m\"\u001b[39m\n\u001b[1;32m    466\u001b[0m             \u001b[38;5;124mf\u001b[39m\u001b[38;5;124m\"\u001b[39m\u001b[38;5;124m'\u001b[39m\u001b[38;5;124mhttps://huggingface.co/\u001b[39m\u001b[38;5;132;01m{\u001b[39;00mpath_or_repo_id\u001b[38;5;132;01m}\u001b[39;00m\u001b[38;5;124m'\u001b[39m\u001b[38;5;124m for available revisions.\u001b[39m\u001b[38;5;124m\"\u001b[39m\n\u001b[1;32m    467\u001b[0m         ) \u001b[38;5;28;01mfrom\u001b[39;00m\u001b[38;5;250m \u001b[39m\u001b[38;5;21;01me\u001b[39;00m\n",
      "\u001b[0;31mOSError\u001b[0m: DeepSeek-R1 is not a local folder and is not a valid model identifier listed on 'https://huggingface.co/models'\nIf this is a private repository, make sure to pass a token having permission to this repo either by logging in with `huggingface-cli login` or by passing `token=<your_token>`"
     ]
    }
   ],
   "source": [
    "hf_llm = HuggingFacePipeline(\n",
    "    pipeline=pipeline(\"text-generation\", model=\"DeepSeek-R1\", device=0)\n",
    ")"
   ]
  },
  {
   "cell_type": "code",
   "execution_count": null,
   "metadata": {},
   "outputs": [],
   "source": []
  }
 ],
 "metadata": {
  "kernelspec": {
   "display_name": "arxivenv",
   "language": "python",
   "name": "python3"
  },
  "language_info": {
   "codemirror_mode": {
    "name": "ipython",
    "version": 3
   },
   "file_extension": ".py",
   "mimetype": "text/x-python",
   "name": "python",
   "nbconvert_exporter": "python",
   "pygments_lexer": "ipython3",
   "version": "3.10.12"
  }
 },
 "nbformat": 4,
 "nbformat_minor": 2
}
