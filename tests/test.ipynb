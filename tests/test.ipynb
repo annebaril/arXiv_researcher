{
 "cells": [
  {
   "cell_type": "code",
   "execution_count": 1,
   "metadata": {},
   "outputs": [
    {
     "name": "stderr",
     "output_type": "stream",
     "text": [
      "/tmp/ipykernel_51491/3329912946.py:13: LangChainDeprecationWarning: The class `HuggingFaceEmbeddings` was deprecated in LangChain 0.2.2 and will be removed in 1.0. An updated version of the class exists in the :class:`~langchain-huggingface package and should be used instead. To use it run `pip install -U :class:`~langchain-huggingface` and import as `from :class:`~langchain_huggingface import HuggingFaceEmbeddings``.\n",
      "  embeddings = HuggingFaceEmbeddings(model_name=\"sentence-transformers/all-mpnet-base-v2\")\n",
      "/home/jeremy.dacruz2/.pyenv/versions/3.10.12/envs/arxiv/lib/python3.10/site-packages/tqdm/auto.py:21: TqdmWarning: IProgress not found. Please update jupyter and ipywidgets. See https://ipywidgets.readthedocs.io/en/stable/user_install.html\n",
      "  from .autonotebook import tqdm as notebook_tqdm\n",
      "/tmp/ipykernel_51491/3329912946.py:16: LangChainDeprecationWarning: The class `Chroma` was deprecated in LangChain 0.2.9 and will be removed in 1.0. An updated version of the class exists in the :class:`~langchain-chroma package and should be used instead. To use it run `pip install -U :class:`~langchain-chroma` and import as `from :class:`~langchain_chroma import Chroma``.\n",
      "  db = Chroma(client=chroma_client,\n"
     ]
    },
    {
     "name": "stdout",
     "output_type": "stream",
     "text": [
      "['1986', '1988', '1989', '1990', '1991', '1992', '1993', '1994', '1995', '1996', '1997', '1998', '1999', '2000', '2001', '2002', '2003', '2004', '2005', '2006', '2007', '2008', '2010', '2011', '2025']\n",
      "{'authors': 'G. Parzen (Brookhaven National Laboratory)', 'id': 'acc-phys/9601001', 'title': 'Particle Motion in the Stable Region Near an Edge of a Linear Sum\\n  Resonance Stopband', 'year': '1996'} acc-phys/9601001\n",
      "particle motion in the stable region near an edge of a linear sum\n",
      "  resonance stopband   this paper studies the particle motion when the tune is in the stable region\n",
      "close to the edge of linear sum resonance stopband results are found for the\n",
      "tune and the beta functions results are also found for the two solutions of\n",
      "the equations of motion the results found are shown to be also valid for small\n",
      "accelerators where the large accelerator approximation may not be used\n",
      "\n"
     ]
    }
   ],
   "source": [
    "import os\n",
    "\n",
    "from langchain_community.vectorstores import Chroma\n",
    "# from langchain_openai import OpenAIEmbeddings\n",
    "from langchain.embeddings import HuggingFaceEmbeddings\n",
    "import chromadb\n",
    "chroma_client = chromadb.HttpClient(host='34.163.106.5', port=8000)\n",
    "chroma_client.heartbeat()\n",
    "persist_directory = '/index_data'\n",
    "persistent_directory = os.path.join(\"../\",\"chroma_db\")\n",
    "\n",
    "# Define the embedding model\n",
    "embeddings = HuggingFaceEmbeddings(model_name=\"sentence-transformers/all-mpnet-base-v2\")\n",
    "\n",
    "# Load the existing vector store with the embedding function\n",
    "db = Chroma(client=chroma_client,\n",
    "            embedding_function=embeddings,\n",
    "            persist_directory=persist_directory)\n",
    "\n",
    "list_year = []\n",
    "metadatas = db.get()[\"metadatas\"]\n",
    "for i in range(0, len(metadatas)):\n",
    "    if metadatas[i][\"year\"] not in list_year:\n",
    "        list_year.append(metadatas[i][\"year\"])\n",
    "len(db.get()[\"metadatas\"])\n",
    "list_year.sort()\n",
    "print(list_year)\n",
    "print(db.get()[\"metadatas\"][0], db.get()[\"ids\"][0])\n",
    "print(db.get()[\"documents\"][0])\n",
    "# Define the user's question\n",
    "# query = \"field\"\n",
    "\n",
    "# # Retrieve relevant documents based on the query\n",
    "# retriever = db.as_retriever(\n",
    "#     search_type=\"similarity_score_threshold\",\n",
    "#     search_kwargs={\"k\": 3, \"score_threshold\": 0.1},\n",
    "# )\n",
    "# relevant_docs = retriever.invoke(query)\n",
    "\n"
   ]
  },
  {
   "cell_type": "code",
   "execution_count": 8,
   "metadata": {},
   "outputs": [
    {
     "name": "stdout",
     "output_type": "stream",
     "text": [
      "0\n"
     ]
    }
   ],
   "source": [
    "print(len(relevant_docs))"
   ]
  }
 ],
 "metadata": {
  "kernelspec": {
   "display_name": "arxiv",
   "language": "python",
   "name": "python3"
  },
  "language_info": {
   "codemirror_mode": {
    "name": "ipython",
    "version": 3
   },
   "file_extension": ".py",
   "mimetype": "text/x-python",
   "name": "python",
   "nbconvert_exporter": "python",
   "pygments_lexer": "ipython3",
   "version": "3.10.12"
  }
 },
 "nbformat": 4,
 "nbformat_minor": 2
}
