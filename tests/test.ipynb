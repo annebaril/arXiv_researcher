{
 "cells": [
  {
   "cell_type": "code",
   "execution_count": 7,
   "metadata": {},
   "outputs": [
    {
     "name": "stderr",
     "output_type": "stream",
     "text": [
      "/home/jeremy.dacruz2/.pyenv/versions/3.10.12/envs/arxiv/lib/python3.10/site-packages/langchain_core/vectorstores/base.py:1077: UserWarning: Relevance scores must be between 0 and 1, got [(Document(metadata={'id': '0704.0002', 'year': '2007'}, page_content='sparsitycertifying graph decompositions   we describe a new algorithm the kellpebble game with colors and use\\nit obtain a characterization of the family of kellsparse graphs and\\nalgorithmic solutions to a family of problems concerning tree decompositions of\\ngraphs special instances of sparse graphs appear in rigidity theory and have\\nreceived increased attention in recent years in particular our colored\\npebbles generalize and strengthen the previous results of lee and streinu and\\ngive a new proof of the tuttenashwilliams characterization of arboricity we\\nalso present a new decomposition that certifies sparsity based on the\\nkellpebble game with colors our work also exposes connections between\\npebble game algorithms and previous sparse graph algorithms by gabow gabow and\\nwestermann and hendrickson\\n'), -0.3041490327698131), (Document(metadata={'id': '0704.0006', 'year': '2007'}, page_content='bosonic characters of atomic cooper pairs across resonance   we study the twoparticle wave function of paired atoms in a fermi gas with\\ntunable interaction strengths controlled by feshbach resonance the cooper pair\\nwave function is examined for its bosonic characters which is quantified by\\nthe correction of bose enhancement factor associated with the creation and\\nannihilation composite particle operators an example is given for a\\nthreedimensional uniform gas two definitions of cooper pair wave function are\\nexamined one of which is chosen to reflect the offdiagonal long range order\\nodlro another one corresponds to a pair projection of a bcs state on the\\nside with negative scattering length we found that paired atoms described by\\nodlro are more bosonic than the pair projected definition it is also found\\nthat at kf a1 ge 1 both definitions give similar results where more\\nthan 90 of the atoms occupy the corresponding molecular condensates\\n'), -0.3099496989602777), (Document(metadata={'id': '0704.0004', 'year': '2007'}, page_content='a determinant of stirling cycle numbers counts unlabeled acyclic\\n  singlesource automata   we show that a determinant of stirling cycle numbers counts unlabeled acyclic\\nsinglesource automata the proof involves a bijection from these automata to\\ncertain marked lattice paths and a signreversing involution to evaluate the\\ndeterminant\\n'), -0.35925009828335175)]\n",
      "  self.vectorstore.similarity_search_with_relevance_scores(\n",
      "No relevant docs were retrieved using the relevance score threshold 0.1\n"
     ]
    }
   ],
   "source": [
    "import os\n",
    "\n",
    "from langchain_community.vectorstores import Chroma\n",
    "# from langchain_openai import OpenAIEmbeddings\n",
    "from langchain.embeddings import HuggingFaceEmbeddings\n",
    "\n",
    "persistent_directory = os.path.join(\"../\", \"chroma_db\")\n",
    "\n",
    "# Define the embedding model\n",
    "embeddings = HuggingFaceEmbeddings(model_name=\"sentence-transformers/all-mpnet-base-v2\")\n",
    "\n",
    "# Load the existing vector store with the embedding function\n",
    "db = Chroma(persist_directory=persistent_directory,\n",
    "            embedding_function=embeddings)\n",
    "\n",
    "# db.get()\n",
    "# Define the user's question\n",
    "query = \"field\"\n",
    "\n",
    "# # Retrieve relevant documents based on the query\n",
    "retriever = db.as_retriever(\n",
    "    search_type=\"similarity_score_threshold\",\n",
    "    search_kwargs={\"k\": 3, \"score_threshold\": 0.1},\n",
    ")\n",
    "relevant_docs = retriever.invoke(query)\n",
    "\n"
   ]
  },
  {
   "cell_type": "code",
   "execution_count": 8,
   "metadata": {},
   "outputs": [
    {
     "name": "stdout",
     "output_type": "stream",
     "text": [
      "0\n"
     ]
    }
   ],
   "source": [
    "print(len(relevant_docs))"
   ]
  }
 ],
 "metadata": {
  "kernelspec": {
   "display_name": "arxiv",
   "language": "python",
   "name": "python3"
  },
  "language_info": {
   "codemirror_mode": {
    "name": "ipython",
    "version": 3
   },
   "file_extension": ".py",
   "mimetype": "text/x-python",
   "name": "python",
   "nbconvert_exporter": "python",
   "pygments_lexer": "ipython3",
   "version": "3.10.12"
  }
 },
 "nbformat": 4,
 "nbformat_minor": 2
}
