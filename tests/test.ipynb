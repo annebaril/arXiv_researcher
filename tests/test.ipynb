{
 "cells": [
  {
   "cell_type": "code",
   "execution_count": null,
   "metadata": {},
   "outputs": [],
   "source": [
    "import os\n",
    "\n",
    "from langchain_community.vectorstores import Chroma\n",
    "# from langchain_openai import OpenAIEmbeddings\n",
    "from langchain.embeddings import HuggingFaceEmbeddings\n",
    "import chromadb\n",
    "chroma_client = chromadb.HttpClient(host='34.163.106.5', port=8000)\n",
    "chroma_client.heartbeat()\n",
    "persist_directory = '/index_data'\n",
    "persistent_directory = os.path.join(\"../\",\"chroma_db\")\n",
    "\n",
    "# Define the embedding model\n",
    "embeddings = HuggingFaceEmbeddings(model_name=\"sentence-transformers/all-mpnet-base-v2\")\n",
    "\n",
    "# Load the existing vector store with the embedding function\n",
    "db = Chroma(client=chroma_client,\n",
    "            embedding_function=embeddings,\n",
    "            persist_directory=persist_directory)\n",
    "\n",
    "list_year = []\n",
    "metadatas = db.get()[\"metadatas\"]\n",
    "for i in range(0, len(metadatas)):\n",
    "    if metadatas[i][\"year\"] not in list_year:\n",
    "        list_year.append(metadatas[i][\"year\"])\n",
    "print(len(db.get()[\"metadatas\"]))\n",
    "list_year.sort()\n",
    "print(list_year)\n",
    "print(db.get()[\"metadatas\"][0], db.get()[\"ids\"][0])\n",
    "print(db.get()[\"documents\"][0])\n",
    "# Define the user's question\n",
    "# query = \"field\"\n",
    "\n",
    "# # Retrieve relevant documents based on the query\n",
    "# retriever = db.as_retriever(\n",
    "#     search_type=\"similarity_score_threshold\",\n",
    "#     search_kwargs={\"k\": 3, \"score_threshold\": 0.1},\n",
    "# )\n",
    "# relevant_docs = retriever.invoke(query)\n",
    "\n"
   ]
  },
  {
   "cell_type": "code",
   "execution_count": null,
   "metadata": {},
   "outputs": [],
   "source": [
    "print(len(relevant_docs))"
   ]
  }
 ],
 "metadata": {
  "kernelspec": {
   "display_name": "arxiv",
   "language": "python",
   "name": "python3"
  },
  "language_info": {
   "codemirror_mode": {
    "name": "ipython",
    "version": 3
   },
   "file_extension": ".py",
   "mimetype": "text/x-python",
   "name": "python",
   "nbconvert_exporter": "python",
   "pygments_lexer": "ipython3",
   "version": "3.10.12"
  }
 },
 "nbformat": 4,
 "nbformat_minor": 2
}
