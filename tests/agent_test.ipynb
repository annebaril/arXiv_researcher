{
 "cells": [
  {
   "cell_type": "code",
   "execution_count": 109,
   "metadata": {},
   "outputs": [
    {
     "data": {
      "text/plain": [
       "True"
      ]
     },
     "execution_count": 109,
     "metadata": {},
     "output_type": "execute_result"
    }
   ],
   "source": [
    "import os\n",
    "from google.cloud import storage\n",
    "from langchain.vectorstores.chroma import Chroma\n",
    "from langchain.prompts import PromptTemplate\n",
    "from langchain.chains.combine_documents import create_stuff_documents_chain\n",
    "from langchain.chains import create_retrieval_chain, RetrievalQA\n",
    "from langchain.chat_models import ChatHuggingFace\n",
    "from langchain_huggingface import HuggingFaceEmbeddings\n",
    "from dotenv import load_dotenv\n",
    "from langchain_core.tools import tool\n",
    "\n",
    "load_dotenv()"
   ]
  },
  {
   "cell_type": "code",
   "execution_count": 66,
   "metadata": {},
   "outputs": [],
   "source": [
    "storage_client = storage.Client()"
   ]
  },
  {
   "cell_type": "code",
   "execution_count": 67,
   "metadata": {},
   "outputs": [],
   "source": [
    "def download_directory_from_gcs(gcs_directory, local_directory, bucket_name):\n",
    "    \"\"\"Download all files from a GCS directory to a local directory.\"\"\"\n",
    "    bucket = storage_client.bucket(bucket_name)\n",
    "    blobs = bucket.list_blobs(prefix=gcs_directory)\n",
    "\n",
    "    for blob in blobs:\n",
    "        if not blob.name.endswith(\"/\"):  # Avoid directory blobs\n",
    "            relative_path = os.path.relpath(blob.name, gcs_directory)\n",
    "            local_file_path = os.path.join(local_directory, relative_path)\n",
    "            os.makedirs(os.path.dirname(local_file_path), exist_ok=True)\n",
    "            blob.download_to_filename(local_file_path)\n",
    "            print(f\"Downloaded {blob.name} to {local_file_path}\")"
   ]
  },
  {
   "cell_type": "code",
   "execution_count": 68,
   "metadata": {},
   "outputs": [],
   "source": [
    "BUCKET_NAME = os.getenv(\"BUCKET_NAME\")\n",
    "GCS_PERSIST_PATH = os.getenv(\"GCS_PERSIST_PATH\")\n",
    "LOCAL_PERSIST_PATH = os.getenv(\"LOCAL_PERSIST_PATH\")"
   ]
  },
  {
   "cell_type": "code",
   "execution_count": 69,
   "metadata": {},
   "outputs": [
    {
     "data": {
      "text/plain": [
       "'arxiv-researcher-bucket'"
      ]
     },
     "execution_count": 69,
     "metadata": {},
     "output_type": "execute_result"
    }
   ],
   "source": [
    "BUCKET_NAME"
   ]
  },
  {
   "cell_type": "code",
   "execution_count": 70,
   "metadata": {},
   "outputs": [
    {
     "name": "stdout",
     "output_type": "stream",
     "text": [
      "Downloaded chroma_db/4d8e52f2-6027-41ef-b06b-77f96cb894fa/data_level0.bin to ../chroma_db/4d8e52f2-6027-41ef-b06b-77f96cb894fa/data_level0.bin\n",
      "Downloaded chroma_db/4d8e52f2-6027-41ef-b06b-77f96cb894fa/header.bin to ../chroma_db/4d8e52f2-6027-41ef-b06b-77f96cb894fa/header.bin\n",
      "Downloaded chroma_db/4d8e52f2-6027-41ef-b06b-77f96cb894fa/index_metadata.pickle to ../chroma_db/4d8e52f2-6027-41ef-b06b-77f96cb894fa/index_metadata.pickle\n",
      "Downloaded chroma_db/4d8e52f2-6027-41ef-b06b-77f96cb894fa/length.bin to ../chroma_db/4d8e52f2-6027-41ef-b06b-77f96cb894fa/length.bin\n",
      "Downloaded chroma_db/4d8e52f2-6027-41ef-b06b-77f96cb894fa/link_lists.bin to ../chroma_db/4d8e52f2-6027-41ef-b06b-77f96cb894fa/link_lists.bin\n",
      "Downloaded chroma_db/chroma.sqlite3 to ../chroma_db/chroma.sqlite3\n"
     ]
    }
   ],
   "source": [
    "# Download Chroma persisted data from GCS to local directory\n",
    "download_directory_from_gcs(GCS_PERSIST_PATH, LOCAL_PERSIST_PATH, BUCKET_NAME)"
   ]
  },
  {
   "cell_type": "code",
   "execution_count": 71,
   "metadata": {},
   "outputs": [],
   "source": [
    "EMBEDDING_MODEL = 'sentence-transformers/all-mpnet-base-v2'\n",
    "embeddings = HuggingFaceEmbeddings(model_name=EMBEDDING_MODEL)\n",
    "\n",
    "# Load the stored vector database\n",
    "db = Chroma(persist_directory=LOCAL_PERSIST_PATH, embedding_function=embeddings)\n",
    "\n",
    "# Now use db for retrieval\n",
    "retriever = db.as_retriever(search_type=\"similarity\", search_kwargs={\"k\": 3})"
   ]
  },
  {
   "cell_type": "code",
   "execution_count": 72,
   "metadata": {},
   "outputs": [],
   "source": [
    "query = \"Neural networks for image recognition\"\n",
    "retrieved_docs = retriever.get_relevant_documents(query)"
   ]
  },
  {
   "cell_type": "code",
   "execution_count": 73,
   "metadata": {},
   "outputs": [
    {
     "name": "stdout",
     "output_type": "stream",
     "text": [
      "1\n",
      "comparing robustness of pairwise and multiclass neuralnetwork systems\n",
      "  for face recognition   noise corruptions and variations in face images can seriously hurt the\n",
      "performance of face recognition systems to make such systems robust\n",
      "multiclass neuralnetwork classifiers capable of learning from noisy data have\n",
      "been suggested however on large face data sets such systems cannot provide the\n",
      "robustness at a high level in this paper we explore a pairwise neuralnetwork\n",
      "system as an alternative approach to improving the robustness of face\n",
      "recognition in our experiments this approach is shown to outperform the\n",
      "multiclass neuralnetwork system in terms of the predictive accuracy on the\n",
      "face images corrupted by noise\n",
      "\n",
      "{'id': '0704.3515', 'year': '2007'}\n",
      "\n",
      "\n",
      "2\n",
      "the parameterless selforganizing map algorithm   the parameterless selforganizing map plsom is a new neural network\n",
      "algorithm based on the selforganizing map som it eliminates the need for a\n",
      "learning rate and annealing schemes for learning rate and neighbourhood size\n",
      "we discuss the relative performance of the plsom and the som and demonstrate\n",
      "some tasks in which the som fails but the plsom performs satisfactory finally\n",
      "we discuss some example applications of the plsom and present a proof of\n",
      "ordering under certain limited conditions\n",
      "\n",
      "{'id': '0705.0199', 'year': '2007'}\n",
      "\n",
      "\n",
      "3\n",
      "exploiting heavy tails in training times of multilayer perceptrons a\n",
      "  case study with the uci thyroid disease database   the random initialization of weights of a multilayer perceptron makes it\n",
      "possible to model its training process as a las vegas algorithm ie a\n",
      "randomized algorithm which stops when some required training error is obtained\n",
      "and whose execution time is a random variable this modeling is used to perform\n",
      "a case study on a wellknown pattern recognition benchmark the uci thyroid\n",
      "disease database empirical evidence is presented of the training time\n",
      "probability distribution exhibiting a heavy tail behavior meaning a big\n",
      "probability mass of long executions this fact is exploited to reduce the\n",
      "training time cost by applying two simple restart strategies the first assumes\n",
      "full knowledge of the distribution yielding a 40 cut down in expected time\n",
      "with respect to the training without restarts the second assumes null\n",
      "knowledge yielding a reduction ranging from 9 to 23\n",
      "\n",
      "{'id': '0704.2725', 'year': '2007'}\n",
      "\n",
      "\n"
     ]
    }
   ],
   "source": [
    "i = 1\n",
    "for doc in retrieved_docs:\n",
    "    print(i)\n",
    "    print(doc.page_content)\n",
    "    print(doc.metadata)\n",
    "    print(\"\\n\")\n",
    "    i += 1"
   ]
  },
  {
   "cell_type": "markdown",
   "metadata": {},
   "source": [
    "### langchain QA"
   ]
  },
  {
   "cell_type": "code",
   "execution_count": 74,
   "metadata": {},
   "outputs": [],
   "source": [
    "from langchain_huggingface import HuggingFaceEndpoint\n",
    "from langchain.chains import RetrievalQA"
   ]
  },
  {
   "cell_type": "code",
   "execution_count": 75,
   "metadata": {},
   "outputs": [],
   "source": [
    "HUGGINGFACEHUB_API_TOKEN = os.getenv(\"HUGGINGFACE_TOKEN\")"
   ]
  },
  {
   "cell_type": "code",
   "execution_count": 94,
   "metadata": {},
   "outputs": [],
   "source": [
    "repo_id = \"mistralai/Mistral-7B-Instruct-v0.2\"\n",
    "\n",
    "llm = HuggingFaceEndpoint(\n",
    "    repo_id=repo_id,\n",
    "    temperature=0.5,\n",
    "    huggingfacehub_api_token=HUGGINGFACEHUB_API_TOKEN,\n",
    "    task=\"text-generation\"\n",
    ")\n",
    "# llm_chain = prompt | llm\n",
    "# print(llm_chain.invoke({\"question\": question}))"
   ]
  },
  {
   "cell_type": "code",
   "execution_count": 95,
   "metadata": {},
   "outputs": [],
   "source": [
    "qa_chain = RetrievalQA.from_chain_type(llm, retriever=retriever)"
   ]
  },
  {
   "cell_type": "code",
   "execution_count": 123,
   "metadata": {},
   "outputs": [],
   "source": [
    "@tool\n",
    "def semantic_search(title: str) -> str:\n",
    "    \"\"\"Use the knowledge of the arxiv dataset to answer questions, input: 'Show me some researches about Large Language Model', output: 'abstracts of articles about LLM\"\"\"\n",
    "    response = qa_chain.invoke(title)\n",
    "    return response['result']"
   ]
  },
  {
   "cell_type": "code",
   "execution_count": 79,
   "metadata": {},
   "outputs": [
    {
     "name": "stdout",
     "output_type": "stream",
     "text": [
      " AI can be used in finance in various ways, such as predicting water demands using artificial neural networks and support vector machines, implementing mechanisms to supply clean and safe water, or in the context of asset pricing, using AI to model cash flows and derive prices for assets and options. In the information-based asset pricing framework, AI is used to model market factors, market information processes, and generate prices for assets and options. The resulting formula for the price of a European call option is of the Black-Scholes-Merton type. AI can also be used to learn to bluff in games, which can be applied to finance in the form of maximizing returns through statistical optimization.\n"
     ]
    },
    {
     "name": "stderr",
     "output_type": "stream",
     "text": [
      "/home/celiazhang/.pyenv/versions/3.10.12/envs/arxivenv/lib/python3.10/site-packages/huggingface_hub/utils/_deprecation.py:131: FutureWarning: 'post' (from 'huggingface_hub.inference._client') is deprecated and will be removed from version '0.31.0'. Making direct POST requests to the inference server is not supported anymore. Please use task methods instead (e.g. `InferenceClient.chat_completion`). If your use case is not supported, please open an issue in https://github.com/huggingface/huggingface_hub.\n",
      "  warnings.warn(warning_message, FutureWarning)\n"
     ]
    }
   ],
   "source": [
    "query1 = \"how to use AI in Finance\"\n",
    "response1 = semantic_search(query1)\n",
    "print(response1)"
   ]
  },
  {
   "cell_type": "code",
   "execution_count": 80,
   "metadata": {},
   "outputs": [
    {
     "name": "stderr",
     "output_type": "stream",
     "text": [
      "/home/celiazhang/.pyenv/versions/3.10.12/envs/arxivenv/lib/python3.10/site-packages/huggingface_hub/utils/_deprecation.py:131: FutureWarning: 'post' (from 'huggingface_hub.inference._client') is deprecated and will be removed from version '0.31.0'. Making direct POST requests to the inference server is not supported anymore. Please use task methods instead (e.g. `InferenceClient.chat_completion`). If your use case is not supported, please open an issue in https://github.com/huggingface/huggingface_hub.\n",
      "  warnings.warn(warning_message, FutureWarning)\n"
     ]
    },
    {
     "name": "stdout",
     "output_type": "stream",
     "text": [
      " These articles in this database cover the domains of mathematics and linguistics. The first article discusses the learning cycle of mathematics and the paradigm for education, as well as the prevalent scaling rules in the science system for the 100 largest European universities. The second article compares pairs of languages from the World Atlas of Language Structures.\n"
     ]
    }
   ],
   "source": [
    "query2 = \"les articles dans cette base de données concernent quels domains?\"\n",
    "response2 = semantic_search(query2)\n",
    "print(response2)"
   ]
  },
  {
   "cell_type": "markdown",
   "metadata": {},
   "source": [
    "### Trend analysis graph"
   ]
  },
  {
   "cell_type": "code",
   "execution_count": 81,
   "metadata": {},
   "outputs": [],
   "source": [
    "import matplotlib.pyplot as plt\n",
    "from collections import defaultdict"
   ]
  },
  {
   "cell_type": "code",
   "execution_count": null,
   "metadata": {},
   "outputs": [],
   "source": [
    "@tool\n",
    "def trend_analysis_tool(title: str, start_year: int, end_year: int) -> None:\n",
    "    \"\"\"Trend analysis, plot the trend of number of articles\"\"\"\n",
    "    docs = db.similarity_search(title, k=500) \n",
    "\n",
    "    yearly_counts = defaultdict(int)\n",
    "    for doc in docs:\n",
    "        metadata = doc.metadata  # ChromaDB 论文元数据\n",
    "        if \"year\" in metadata:\n",
    "            yearly_counts[int(metadata[\"year\"])] += 1\n",
    "\n",
    "    # 4️⃣ 可视化趋势\n",
    "    years = sorted(yearly_counts.keys())\n",
    "    counts = [yearly_counts[year] for year in years]\n",
    "\n",
    "    plt.figure(figsize=(10, 6))\n",
    "    plt.plot(years, counts, marker='o', linestyle='-')\n",
    "    plt.xlabel(\"year\")\n",
    "    plt.xlim((start_year, end_year))\n",
    "    plt.ylabel(\"number of articles\")\n",
    "    plt.title(f\"trend of in coding articles in arxiv ({start_year}-{end_year})\")\n",
    "    plt.grid()\n",
    "    plt.show()"
   ]
  },
  {
   "cell_type": "code",
   "execution_count": 83,
   "metadata": {},
   "outputs": [
    {
     "data": {
      "image/png": "[encoded data removed]",
      "text/plain": [
       "<Figure size 1000x600 with 1 Axes>"
      ]
     },
     "metadata": {},
     "output_type": "display_data"
    }
   ],
   "source": [
    "trend_analysis_tool(\"what's the trend of numbers of articles about science from 2005 to 2024?\")"
   ]
  },
  {
   "cell_type": "markdown",
   "metadata": {},
   "source": [
    "### Agent + Tools"
   ]
  },
  {
   "cell_type": "code",
   "execution_count": null,
   "metadata": {},
   "outputs": [],
   "source": [
    "from langchain.agents import AgentExecutor, create_structured_chat_agent\n",
    "\n",
    "from langchain import hub"
   ]
  },
  {
   "cell_type": "code",
   "execution_count": 131,
   "metadata": {},
   "outputs": [],
   "source": [
    "tools = [semantic_search, trend_analysis_tool]"
   ]
  },
  {
   "cell_type": "code",
   "execution_count": 86,
   "metadata": {},
   "outputs": [
    {
     "name": "stderr",
     "output_type": "stream",
     "text": [
      "/home/celiazhang/.pyenv/versions/3.10.12/envs/arxivenv/lib/python3.10/site-packages/langsmith/client.py:277: LangSmithMissingAPIKeyWarning: API key must be provided when using hosted LangSmith API\n",
      "  warnings.warn(\n"
     ]
    }
   ],
   "source": [
    "prompt = hub.pull(\"hwchase17/structured-chat-agent\")"
   ]
  },
  {
   "cell_type": "code",
   "execution_count": 132,
   "metadata": {},
   "outputs": [],
   "source": [
    "agent = create_structured_chat_agent(llm=llm, tools=tools, prompt=prompt)"
   ]
  },
  {
   "cell_type": "code",
   "execution_count": 133,
   "metadata": {},
   "outputs": [],
   "source": [
    "agent_executor = AgentExecutor.from_agent_and_tools(\n",
    "    agent=agent,\n",
    "    tools=tools,\n",
    "    verbose=True,  # Use the conversation memory to maintain context\n",
    "    handle_parsing_errors=True,  # Handle any parsing errors gracefully\n",
    ")"
   ]
  },
  {
   "cell_type": "code",
   "execution_count": 128,
   "metadata": {},
   "outputs": [
    {
     "name": "stdout",
     "output_type": "stream",
     "text": [
      "\n",
      "\n",
      "\u001b[1m> Entering new AgentExecutor chain...\u001b[0m\n"
     ]
    },
    {
     "name": "stderr",
     "output_type": "stream",
     "text": [
      "/home/celiazhang/.pyenv/versions/3.10.12/envs/arxivenv/lib/python3.10/site-packages/huggingface_hub/inference/_client.py:2288: FutureWarning: `stop_sequences` is a deprecated argument for `text_generation` task and will be removed in version '0.28.0'. Use `stop` instead.\n",
      "  warnings.warn(\n"
     ]
    },
    {
     "name": "stdout",
     "output_type": "stream",
     "text": [
      "\u001b[32;1m\u001b[1;3m\n",
      "Thought: I need to understand what specific aspect of finance the human is asking about, I will use semantic search to find articles about AI in Finance\n",
      "Action:\n",
      "```json\n",
      "{\n",
      "  \"action\": \"semantic_search\",\n",
      "  \"action_input\": {\n",
      "    \"title\": \"AI in Finance\"\n",
      "  }\n",
      "}\n",
      "```\n",
      "Observation\u001b[0m"
     ]
    },
    {
     "name": "stderr",
     "output_type": "stream",
     "text": [
      "/home/celiazhang/.pyenv/versions/3.10.12/envs/arxivenv/lib/python3.10/site-packages/huggingface_hub/utils/_deprecation.py:131: FutureWarning: 'post' (from 'huggingface_hub.inference._client') is deprecated and will be removed from version '0.31.0'. Making direct POST requests to the inference server is not supported anymore. Please use task methods instead (e.g. `InferenceClient.chat_completion`). If your use case is not supported, please open an issue in https://github.com/huggingface/huggingface_hub.\n",
      "  warnings.warn(warning_message, FutureWarning)\n"
     ]
    },
    {
     "name": "stdout",
     "output_type": "stream",
     "text": [
      "\u001b[36;1m\u001b[1;3m Financial Time Series Analysis is an important area in finance where AI techniques like Artificial Neural Networks and Support Vector Machines are increasingly being used for forecasting and making inferences. These techniques can help in understanding the dynamics of financial markets and making predictions based on historical data. In the context of the provided text, Artificial Neural Networks were found to perform better than Support Vector Machines in water demand forecasting, but their application in finance goes beyond that. For instance, in the Information-Based Asset Pricing framework, AI is used to model the price processes of assets based on their cashflow structure and the associated market information processes. This framework leads to the Black-Scholes-Merton type formula for the price of a European call option and provides a natural explanation for the origin of stochastic volatility.\u001b[0m"
     ]
    },
    {
     "name": "stderr",
     "output_type": "stream",
     "text": [
      "/home/celiazhang/.pyenv/versions/3.10.12/envs/arxivenv/lib/python3.10/site-packages/huggingface_hub/inference/_client.py:2288: FutureWarning: `stop_sequences` is a deprecated argument for `text_generation` task and will be removed in version '0.28.0'. Use `stop` instead.\n",
      "  warnings.warn(\n"
     ]
    },
    {
     "name": "stdout",
     "output_type": "stream",
     "text": [
      "\u001b[32;1m\u001b[1;3m\n",
      "Action:\n",
      "```json\n",
      "{\n",
      "  \"action\": \"Final Answer\",\n",
      "  \"action_input\": \"AI techniques like Artificial Neural Networks and Support Vector Machines are increasingly being used for financial time series analysis, forecasting, and making inferences. They help understand the dynamics of financial markets and make predictions based on historical data. In finance, AI is also used in the Information-Based Asset Pricing framework for modeling price processes of assets based on their cashflow structure and market information processes, leading to Black-Scholes-Merton type formula for European call options and explaining the origin of stochastic volatility.\"\n",
      "}\n",
      "```\n",
      "Observation\u001b[0m\n",
      "\n",
      "\u001b[1m> Finished chain.\u001b[0m\n",
      "Bot: AI techniques like Artificial Neural Networks and Support Vector Machines are increasingly being used for financial time series analysis, forecasting, and making inferences. They help understand the dynamics of financial markets and make predictions based on historical data. In finance, AI is also used in the Information-Based Asset Pricing framework for modeling price processes of assets based on their cashflow structure and market information processes, leading to Black-Scholes-Merton type formula for European call options and explaining the origin of stochastic volatility.\n"
     ]
    }
   ],
   "source": [
    "response1 = agent_executor.invoke({\"input\": \"how to use AI in Finance\"})\n",
    "print(\"Bot:\", response1[\"output\"])"
   ]
  },
  {
   "cell_type": "code",
   "execution_count": 134,
   "metadata": {},
   "outputs": [
    {
     "name": "stdout",
     "output_type": "stream",
     "text": [
      "\n",
      "\n",
      "\u001b[1m> Entering new AgentExecutor chain...\u001b[0m\n",
      "\u001b[32;1m\u001b[1;3m\n",
      "Thought: I need to find out the trend of articles about science in the arXiv dataset from 2005 to 2024. I can use the trend_analysis_tool for this.\n",
      "Action:\n",
      "```\n",
      "{\n",
      "  \"action\": \"trend_analysis_tool\",\n",
      "  \"action_input\": {\n",
      "    \"title\": \"science\",\n",
      "    \"start_year\": 2005,\n",
      "    \"end_year\": 2024\n",
      "  }\n",
      "}\n",
      "```\n",
      "Observation\u001b[0m"
     ]
    },
    {
     "name": "stderr",
     "output_type": "stream",
     "text": [
      "/home/celiazhang/.pyenv/versions/3.10.12/envs/arxivenv/lib/python3.10/site-packages/huggingface_hub/inference/_client.py:2288: FutureWarning: `stop_sequences` is a deprecated argument for `text_generation` task and will be removed in version '0.28.0'. Use `stop` instead.\n",
      "  warnings.warn(\n"
     ]
    },
    {
     "data": {
      "image/png": "[encoded data removed]",
      "text/plain": [
       "<Figure size 1000x600 with 1 Axes>"
      ]
     },
     "metadata": {},
     "output_type": "display_data"
    },
    {
     "name": "stdout",
     "output_type": "stream",
     "text": [
      "\u001b[33;1m\u001b[1;3mNone\u001b[0m\u001b[32;1m\u001b[1;3m\n",
      "Action:\n",
      "```\n",
      "{\n",
      "  \"action\": \"Final Answer\",\n",
      "  \"action_input\": \"I will provide the trend analysis once the tool returns the result.\"\n",
      "}\n",
      "```\n",
      "Observation\u001b[0m\n",
      "\n",
      "\u001b[1m> Finished chain.\u001b[0m\n",
      "Bot: I will provide the trend analysis once the tool returns the result.\n"
     ]
    },
    {
     "name": "stderr",
     "output_type": "stream",
     "text": [
      "/home/celiazhang/.pyenv/versions/3.10.12/envs/arxivenv/lib/python3.10/site-packages/huggingface_hub/inference/_client.py:2288: FutureWarning: `stop_sequences` is a deprecated argument for `text_generation` task and will be removed in version '0.28.0'. Use `stop` instead.\n",
      "  warnings.warn(\n"
     ]
    }
   ],
   "source": [
    "response2 = agent_executor.invoke({\"input\": \"what's the trend of numbers of articles about science from 2005 to 2024?\"})\n",
    "print(\"Bot:\", response2[\"output\"])"
   ]
  },
  {
   "cell_type": "code",
   "execution_count": null,
   "metadata": {},
   "outputs": [],
   "source": []
  }
 ],
 "metadata": {
  "kernelspec": {
   "display_name": "arxivenv",
   "language": "python",
   "name": "python3"
  },
  "language_info": {
   "codemirror_mode": {
    "name": "ipython",
    "version": 3
   },
   "file_extension": ".py",
   "mimetype": "text/x-python",
   "name": "python",
   "nbconvert_exporter": "python",
   "pygments_lexer": "ipython3",
   "version": "3.10.12"
  }
 },
 "nbformat": 4,
 "nbformat_minor": 2
}
